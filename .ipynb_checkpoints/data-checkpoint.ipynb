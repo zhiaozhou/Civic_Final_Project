{
 "cells": [
  {
   "cell_type": "code",
   "execution_count": 518,
   "metadata": {},
   "outputs": [
    {
     "name": "stdout",
     "output_type": "stream",
     "text": [
      "Populating the interactive namespace from numpy and matplotlib\n"
     ]
    },
    {
     "name": "stderr",
     "output_type": "stream",
     "text": [
      "C:\\Users\\sddz0\\Anaconda2\\lib\\site-packages\\IPython\\core\\magics\\pylab.py:161: UserWarning: pylab import has clobbered these variables: ['norm', 'loglog']\n",
      "`%matplotlib` prevents importing * from pylab and numpy\n",
      "  \"\\n`%matplotlib` prevents importing * from pylab and numpy\"\n"
     ]
    }
   ],
   "source": [
    "import pandas as pd\n",
    "import numpy as np\n",
    "import matplotlib.pyplot as plt\n",
    "%pylab inline\n",
    "import scipy.stats\n",
    "import statsmodels.formula.api as smf\n",
    "import statsmodels.api as sm\n",
    "import urllib\n",
    "import requests\n",
    "import zipfile\n",
    "pd.set_option('display.max_rows', 50)\n",
    "pd.set_option('display.max_columns', 50)\n",
    "from sklearn.decomposition import PCA\n",
    "import geopandas as gpd\n",
    "from sklearn.model_selection import train_test_split"
   ]
  },
  {
   "cell_type": "markdown",
   "metadata": {},
   "source": [
    "# 1. data preparation"
   ]
  },
  {
   "cell_type": "code",
   "execution_count": 519,
   "metadata": {},
   "outputs": [],
   "source": [
    "def get_LL84(url):\n",
    "    data = pd.read_excel(url)\n",
    "    cols = [x.encode('utf8').replace('\\xc2\\xb2', '2') for x in data.columns]\n",
    "    data.columns = cols\n",
    "    data.rename(columns = {'NYC Borough, Block, and Lot (BBL)':'BBL',\n",
    "                           'NYC Borough, Block and Lot (BBL)':'BBL','Zip Code':'Zip',\n",
    "                           'Site EUI (kBtu/ft2)':'Site EUI',\n",
    "        'Site EUI\\n(kBtu/ft2)':'Site EUI','DOF Benchmarking Submission Status':'Benchmarking Submission',\n",
    "                           'Weather Normalized Source EUI\\n(kBtu/ft2)':'Weather Normalized Source EUI',\n",
    "                           'Weather Normalized Source EUI (kBtu/ft2)':'Weather Normalized Source EUI',\n",
    "                           'Municipally Supplied Potable Water - Indoor Intensity (gal/ft2)':'Indoor Water Intensity(gal/ft2)',\n",
    "                           'Indoor Water Intensity (All Water Sources)\\n(gal/ft2)':'Indoor Water Intensity(gal/ft2)',\n",
    "                           'Water per Square Foot':'Indoor Water Intensity(gal/ft2)',\n",
    "                           'Total GHG Emissions\\n(MtCO2e)':'GHG',\n",
    "                           'Total GHG Emissions (Metric Tons CO2e)':'GHG',\n",
    "                           'Municipally Supplied Potable Water - Indoor Intensity (gal/ft2)':'Indoor Water Intensity(gal/ft2)',\n",
    "                               'Property Floor Area (Buildngs and Parking)\\n(ft2)':'Property Floor Area(ft2)',\n",
    "                           'DOF Property Floor Area (ft2)':'Property Floor Area(ft2)',\n",
    "                               'DOF Property Floor Area (Buildngs and Parking)\\n(ft2)':'Property Floor Area(ft2)',\n",
    "                           'DOF Property Floor Area (ft²)':'Property Floor Area(ft2)',\n",
    "                               'DOF Number of Buildings':'Number of Buildings',\n",
    "                           'Number of Buildings - Self-reported':'Number of Buildings',\n",
    "                          'Primary Property Type - Self Selected':'Reported Facility Type'},inplace=True)\n",
    "    \n",
    "    \n",
    "    data = data[data['ENERGY STAR Score']>0][['BBL','Zip','Benchmarking Submission','Site EUI','Weather Normalized Source EUI',\n",
    "                 'Indoor Water Intensity(gal/ft2)','Reported Water Method','ENERGY STAR Score'\n",
    "                ,'GHG','Property Floor Area(ft2)','Reported Facility Type','Number of Buildings']]\n",
    "    return data"
   ]
  },
  {
   "cell_type": "code",
   "execution_count": 520,
   "metadata": {},
   "outputs": [],
   "source": [
    "#LL13 = get_LL84('http://www.nyc.gov/html/gbee/downloads/excel/2013_nyc_ll84_disclosure.xlsx')"
   ]
  },
  {
   "cell_type": "code",
   "execution_count": 521,
   "metadata": {},
   "outputs": [],
   "source": [
    "#LL14 = get_LL84('http://www.nyc.gov/html/gbee/downloads/excel/150428_2014_nyc_ll84_disclosure.xlsx')"
   ]
  },
  {
   "cell_type": "code",
   "execution_count": 522,
   "metadata": {},
   "outputs": [],
   "source": [
    "#LL15 = get_LL84('http://www.nyc.gov/html/gbee/downloads/excel/2015_nyc_cy2014__ll84_disclosure_data.xlsx')"
   ]
  },
  {
   "cell_type": "code",
   "execution_count": 523,
   "metadata": {},
   "outputs": [],
   "source": [
    "LL16 = get_LL84('http://www.nyc.gov/html/gbee/downloads/excel/nyc_benchmarking_disclosure_data_reported_in_2016.xlsx')"
   ]
  },
  {
   "cell_type": "code",
   "execution_count": 524,
   "metadata": {},
   "outputs": [],
   "source": [
    "PRICE = pd.read_csv('Housing_price/2016.csv')"
   ]
  },
  {
   "cell_type": "markdown",
   "metadata": {},
   "source": [
    "## As we have only 4 years of data here, we would now only use data of 2016 "
   ]
  },
  {
   "cell_type": "code",
   "execution_count": 525,
   "metadata": {},
   "outputs": [],
   "source": [
    "LL16.BBL = LL16.BBL.astype('str').str[:-2]"
   ]
  },
  {
   "cell_type": "code",
   "execution_count": 526,
   "metadata": {},
   "outputs": [],
   "source": [
    "merged16 = pd.merge(LL16,PRICE,on='BBL')"
   ]
  },
  {
   "cell_type": "code",
   "execution_count": 527,
   "metadata": {},
   "outputs": [],
   "source": [
    "merged16 = merged16[merged16.VALUE>0]"
   ]
  },
  {
   "cell_type": "code",
   "execution_count": 528,
   "metadata": {},
   "outputs": [],
   "source": [
    "merged16.dropna(axis=0,inplace = True)"
   ]
  },
  {
   "cell_type": "code",
   "execution_count": 529,
   "metadata": {
    "scrolled": false
   },
   "outputs": [],
   "source": [
    "merged16.columns = [x.replace(' ','_') for x in merged16.columns]"
   ]
  },
  {
   "cell_type": "code",
   "execution_count": 530,
   "metadata": {},
   "outputs": [
    {
     "data": {
      "text/html": [
       "<div>\n",
       "<style scoped>\n",
       "    .dataframe tbody tr th:only-of-type {\n",
       "        vertical-align: middle;\n",
       "    }\n",
       "\n",
       "    .dataframe tbody tr th {\n",
       "        vertical-align: top;\n",
       "    }\n",
       "\n",
       "    .dataframe thead th {\n",
       "        text-align: right;\n",
       "    }\n",
       "</style>\n",
       "<table border=\"1\" class=\"dataframe\">\n",
       "  <thead>\n",
       "    <tr style=\"text-align: right;\">\n",
       "      <th></th>\n",
       "      <th>BBL</th>\n",
       "      <th>Zip</th>\n",
       "      <th>Benchmarking_Submission</th>\n",
       "      <th>Site_EUI</th>\n",
       "      <th>Weather_Normalized_Source_EUI</th>\n",
       "      <th>Indoor_Water_Intensity(gal/ft2)</th>\n",
       "      <th>Reported_Water_Method</th>\n",
       "      <th>ENERGY_STAR_Score</th>\n",
       "      <th>GHG</th>\n",
       "      <th>Property_Floor_Area(ft2)</th>\n",
       "      <th>Reported_Facility_Type</th>\n",
       "      <th>Number_of_Buildings</th>\n",
       "      <th>VALUE</th>\n",
       "    </tr>\n",
       "  </thead>\n",
       "  <tbody>\n",
       "    <tr>\n",
       "      <th>2</th>\n",
       "      <td>1014270028</td>\n",
       "      <td>10021.0</td>\n",
       "      <td>In Compliance</td>\n",
       "      <td>44.9</td>\n",
       "      <td>105.2</td>\n",
       "      <td>71.51</td>\n",
       "      <td>Manual</td>\n",
       "      <td>80.0</td>\n",
       "      <td>538.4</td>\n",
       "      <td>166432.0</td>\n",
       "      <td>Multifamily Housing</td>\n",
       "      <td>1.0</td>\n",
       "      <td>33931000</td>\n",
       "    </tr>\n",
       "    <tr>\n",
       "      <th>3</th>\n",
       "      <td>1015180024</td>\n",
       "      <td>10128.0</td>\n",
       "      <td>In Compliance</td>\n",
       "      <td>91.3</td>\n",
       "      <td>180.7</td>\n",
       "      <td>64.86</td>\n",
       "      <td>ABS</td>\n",
       "      <td>10.0</td>\n",
       "      <td>699.3</td>\n",
       "      <td>114939.0</td>\n",
       "      <td>Multifamily Housing</td>\n",
       "      <td>1.0</td>\n",
       "      <td>24268000</td>\n",
       "    </tr>\n",
       "    <tr>\n",
       "      <th>49</th>\n",
       "      <td>1000260021</td>\n",
       "      <td>10005.0</td>\n",
       "      <td>In Compliance</td>\n",
       "      <td>63.5</td>\n",
       "      <td>128.4</td>\n",
       "      <td>34.22</td>\n",
       "      <td>ABS</td>\n",
       "      <td>39.0</td>\n",
       "      <td>2163.1</td>\n",
       "      <td>493187.0</td>\n",
       "      <td>Multifamily Housing</td>\n",
       "      <td>1.0</td>\n",
       "      <td>114278000</td>\n",
       "    </tr>\n",
       "    <tr>\n",
       "      <th>87</th>\n",
       "      <td>1000520021</td>\n",
       "      <td>10006.0</td>\n",
       "      <td>In Compliance</td>\n",
       "      <td>84.6</td>\n",
       "      <td>131.1</td>\n",
       "      <td>23.11</td>\n",
       "      <td>ABS</td>\n",
       "      <td>24.0</td>\n",
       "      <td>379.0</td>\n",
       "      <td>57945.0</td>\n",
       "      <td>Multifamily Housing</td>\n",
       "      <td>1.0</td>\n",
       "      <td>6108000</td>\n",
       "    </tr>\n",
       "    <tr>\n",
       "      <th>108</th>\n",
       "      <td>1000680028</td>\n",
       "      <td>10038.0</td>\n",
       "      <td>In Compliance</td>\n",
       "      <td>107.7</td>\n",
       "      <td>231.7</td>\n",
       "      <td>88.05</td>\n",
       "      <td>ABS</td>\n",
       "      <td>40.0</td>\n",
       "      <td>534.2</td>\n",
       "      <td>71539.0</td>\n",
       "      <td>Hotel</td>\n",
       "      <td>1.0</td>\n",
       "      <td>30130000</td>\n",
       "    </tr>\n",
       "  </tbody>\n",
       "</table>\n",
       "</div>"
      ],
      "text/plain": [
       "            BBL      Zip Benchmarking_Submission  Site_EUI  \\\n",
       "2    1014270028  10021.0           In Compliance      44.9   \n",
       "3    1015180024  10128.0           In Compliance      91.3   \n",
       "49   1000260021  10005.0           In Compliance      63.5   \n",
       "87   1000520021  10006.0           In Compliance      84.6   \n",
       "108  1000680028  10038.0           In Compliance     107.7   \n",
       "\n",
       "     Weather_Normalized_Source_EUI  Indoor_Water_Intensity(gal/ft2)  \\\n",
       "2                            105.2                            71.51   \n",
       "3                            180.7                            64.86   \n",
       "49                           128.4                            34.22   \n",
       "87                           131.1                            23.11   \n",
       "108                          231.7                            88.05   \n",
       "\n",
       "    Reported_Water_Method  ENERGY_STAR_Score     GHG  \\\n",
       "2                  Manual               80.0   538.4   \n",
       "3                     ABS               10.0   699.3   \n",
       "49                    ABS               39.0  2163.1   \n",
       "87                    ABS               24.0   379.0   \n",
       "108                   ABS               40.0   534.2   \n",
       "\n",
       "     Property_Floor_Area(ft2) Reported_Facility_Type  Number_of_Buildings  \\\n",
       "2                    166432.0    Multifamily Housing                  1.0   \n",
       "3                    114939.0    Multifamily Housing                  1.0   \n",
       "49                   493187.0    Multifamily Housing                  1.0   \n",
       "87                    57945.0    Multifamily Housing                  1.0   \n",
       "108                   71539.0                  Hotel                  1.0   \n",
       "\n",
       "         VALUE  \n",
       "2     33931000  \n",
       "3     24268000  \n",
       "49   114278000  \n",
       "87     6108000  \n",
       "108   30130000  "
      ]
     },
     "execution_count": 530,
     "metadata": {},
     "output_type": "execute_result"
    }
   ],
   "source": [
    "merged16.head()"
   ]
  },
  {
   "cell_type": "markdown",
   "metadata": {},
   "source": [
    "# 2. PCA"
   ]
  },
  {
   "cell_type": "code",
   "execution_count": 531,
   "metadata": {},
   "outputs": [],
   "source": [
    "X_num = merged16[list(merged16.columns[3:6])+list(merged16.columns[7:10])+['Number_of_Buildings','VALUE']]"
   ]
  },
  {
   "cell_type": "markdown",
   "metadata": {},
   "source": [
    "### Normalization"
   ]
  },
  {
   "cell_type": "markdown",
   "metadata": {},
   "source": [
    "### In order to do log transformation later, here we use feature scaling normalization in case of negative numbers"
   ]
  },
  {
   "cell_type": "code",
   "execution_count": 532,
   "metadata": {},
   "outputs": [],
   "source": [
    "columns = list(merged16.columns[3:6])+list(merged16.columns[7:10])+['Number_of_Buildings','VALUE']"
   ]
  },
  {
   "cell_type": "code",
   "execution_count": 533,
   "metadata": {},
   "outputs": [],
   "source": [
    "def norm(data,columns):\n",
    "    for x in columns:\n",
    "        data[x] = (data[x]-np.min(data[x]))/(np.max(data[x])-np.min(data[x]))\n",
    "    return data"
   ]
  },
  {
   "cell_type": "code",
   "execution_count": 534,
   "metadata": {},
   "outputs": [],
   "source": [
    "merged16 = norm(merged16,columns)"
   ]
  },
  {
   "cell_type": "markdown",
   "metadata": {},
   "source": [
    "### Remove outliers"
   ]
  },
  {
   "cell_type": "code",
   "execution_count": 535,
   "metadata": {},
   "outputs": [],
   "source": [
    "def clean(data,columns):\n",
    "    for x in columns:\n",
    "        data = data[(data[x]<np.mean(data[x])+2*np.std(data[x]))&(data[x]>np.mean(data[x])-2*np.std(data[x]))]\n",
    "    return data"
   ]
  },
  {
   "cell_type": "code",
   "execution_count": 536,
   "metadata": {},
   "outputs": [],
   "source": [
    "merged16 = clean(merged16,columns)"
   ]
  },
  {
   "cell_type": "code",
   "execution_count": 537,
   "metadata": {},
   "outputs": [],
   "source": [
    "X_num = merged16[list(merged16.columns[3:6])+list(merged16.columns[7:10])+['Number_of_Buildings']]\n",
    "pca = PCA(0.95)\n",
    "Xproj = pca.fit_transform(X_num)"
   ]
  },
  {
   "cell_type": "code",
   "execution_count": 538,
   "metadata": {},
   "outputs": [
    {
     "data": {
      "text/plain": [
       "array([ 0.99131268])"
      ]
     },
     "execution_count": 538,
     "metadata": {},
     "output_type": "execute_result"
    }
   ],
   "source": [
    "pca.explained_variance_ratio_"
   ]
  },
  {
   "cell_type": "code",
   "execution_count": 539,
   "metadata": {},
   "outputs": [
    {
     "data": {
      "text/plain": [
       "array([[  1.10501753e-03,   4.48459790e-04,   3.11993995e-03,\n",
       "         -9.99977005e-01,   1.18143080e-03,  -5.77801806e-03,\n",
       "          2.30074394e-04]])"
      ]
     },
     "execution_count": 539,
     "metadata": {},
     "output_type": "execute_result"
    }
   ],
   "source": [
    "pca.components_"
   ]
  },
  {
   "cell_type": "code",
   "execution_count": 540,
   "metadata": {},
   "outputs": [
    {
     "data": {
      "text/html": [
       "<div>\n",
       "<style scoped>\n",
       "    .dataframe tbody tr th:only-of-type {\n",
       "        vertical-align: middle;\n",
       "    }\n",
       "\n",
       "    .dataframe tbody tr th {\n",
       "        vertical-align: top;\n",
       "    }\n",
       "\n",
       "    .dataframe thead th {\n",
       "        text-align: right;\n",
       "    }\n",
       "</style>\n",
       "<table border=\"1\" class=\"dataframe\">\n",
       "  <thead>\n",
       "    <tr style=\"text-align: right;\">\n",
       "      <th></th>\n",
       "      <th>Site_EUI</th>\n",
       "      <th>Weather_Normalized_Source_EUI</th>\n",
       "      <th>Indoor_Water_Intensity(gal/ft2)</th>\n",
       "      <th>ENERGY_STAR_Score</th>\n",
       "      <th>GHG</th>\n",
       "      <th>Property_Floor_Area(ft2)</th>\n",
       "      <th>Number_of_Buildings</th>\n",
       "    </tr>\n",
       "  </thead>\n",
       "  <tbody>\n",
       "    <tr>\n",
       "      <th>0</th>\n",
       "      <td>0.001105</td>\n",
       "      <td>0.000448</td>\n",
       "      <td>0.00312</td>\n",
       "      <td>-0.999977</td>\n",
       "      <td>0.001181</td>\n",
       "      <td>-0.005778</td>\n",
       "      <td>0.00023</td>\n",
       "    </tr>\n",
       "  </tbody>\n",
       "</table>\n",
       "</div>"
      ],
      "text/plain": [
       "   Site_EUI  Weather_Normalized_Source_EUI  Indoor_Water_Intensity(gal/ft2)  \\\n",
       "0  0.001105                       0.000448                          0.00312   \n",
       "\n",
       "   ENERGY_STAR_Score       GHG  Property_Floor_Area(ft2)  Number_of_Buildings  \n",
       "0          -0.999977  0.001181                 -0.005778              0.00023  "
      ]
     },
     "execution_count": 540,
     "metadata": {},
     "output_type": "execute_result"
    }
   ],
   "source": [
    "components_explanation = pd.DataFrame(pca.components_,columns = X_num.columns)\n",
    "components_explanation"
   ]
  },
  {
   "cell_type": "markdown",
   "metadata": {},
   "source": [
    "## Here we could find the impact of each original variable on only 1 principle component which explains almost all of the information\n",
    "## Based on the coefficients, we could explain each component as:\n",
    "## Component 1: Energy efficiency"
   ]
  },
  {
   "cell_type": "markdown",
   "metadata": {},
   "source": [
    "# 3. Analysis"
   ]
  },
  {
   "cell_type": "code",
   "execution_count": 541,
   "metadata": {},
   "outputs": [],
   "source": [
    "merged16['Energy_efficiency'] = Xproj[:,0]"
   ]
  },
  {
   "cell_type": "markdown",
   "metadata": {},
   "source": [
    "### Hierarchical linear regression ---- to check if energy efficiency actually works"
   ]
  },
  {
   "cell_type": "code",
   "execution_count": 308,
   "metadata": {},
   "outputs": [
    {
     "data": {
      "text/html": [
       "<table class=\"simpletable\">\n",
       "<caption>OLS Regression Results</caption>\n",
       "<tr>\n",
       "  <th>Dep. Variable:</th>          <td>VALUE</td>      <th>  R-squared:         </th>  <td>   0.091</td> \n",
       "</tr>\n",
       "<tr>\n",
       "  <th>Model:</th>                   <td>OLS</td>       <th>  Adj. R-squared:    </th>  <td>   0.087</td> \n",
       "</tr>\n",
       "<tr>\n",
       "  <th>Method:</th>             <td>Least Squares</td>  <th>  F-statistic:       </th>  <td>   20.61</td> \n",
       "</tr>\n",
       "<tr>\n",
       "  <th>Date:</th>             <td>Mon, 20 Nov 2017</td> <th>  Prob (F-statistic):</th>  <td>3.89e-47</td> \n",
       "</tr>\n",
       "<tr>\n",
       "  <th>Time:</th>                 <td>12:35:58</td>     <th>  Log-Likelihood:    </th>  <td>  6547.1</td> \n",
       "</tr>\n",
       "<tr>\n",
       "  <th>No. Observations:</th>      <td>  2685</td>      <th>  AIC:               </th> <td>-1.307e+04</td>\n",
       "</tr>\n",
       "<tr>\n",
       "  <th>Df Residuals:</th>          <td>  2671</td>      <th>  BIC:               </th> <td>-1.298e+04</td>\n",
       "</tr>\n",
       "<tr>\n",
       "  <th>Df Model:</th>              <td>    13</td>      <th>                     </th>      <td> </td>    \n",
       "</tr>\n",
       "<tr>\n",
       "  <th>Covariance Type:</th>      <td>nonrobust</td>    <th>                     </th>      <td> </td>    \n",
       "</tr>\n",
       "</table>\n",
       "<table class=\"simpletable\">\n",
       "<tr>\n",
       "                             <td></td>                                <th>coef</th>     <th>std err</th>      <th>t</th>      <th>P>|t|</th>  <th>[0.025</th>    <th>0.975]</th>  \n",
       "</tr>\n",
       "<tr>\n",
       "  <th>Intercept</th>                                               <td>    0.0126</td> <td>    0.021</td> <td>    0.596</td> <td> 0.551</td> <td>   -0.029</td> <td>    0.054</td>\n",
       "</tr>\n",
       "<tr>\n",
       "  <th>C(Reported_Water_Method)[T.Manual]</th>                      <td>    0.0088</td> <td>    0.003</td> <td>    3.076</td> <td> 0.002</td> <td>    0.003</td> <td>    0.014</td>\n",
       "</tr>\n",
       "<tr>\n",
       "  <th>C(Reported_Facility_Type)[T.Distribution Center]</th>        <td>    0.0070</td> <td>    0.023</td> <td>    0.311</td> <td> 0.756</td> <td>   -0.037</td> <td>    0.051</td>\n",
       "</tr>\n",
       "<tr>\n",
       "  <th>C(Reported_Facility_Type)[T.Financial Office]</th>           <td>    0.0358</td> <td>    0.030</td> <td>    1.189</td> <td> 0.235</td> <td>   -0.023</td> <td>    0.095</td>\n",
       "</tr>\n",
       "<tr>\n",
       "  <th>C(Reported_Facility_Type)[T.Hotel]</th>                      <td>    0.0341</td> <td>    0.023</td> <td>    1.469</td> <td> 0.142</td> <td>   -0.011</td> <td>    0.080</td>\n",
       "</tr>\n",
       "<tr>\n",
       "  <th>C(Reported_Facility_Type)[T.K-12 School]</th>                <td>    0.0334</td> <td>    0.024</td> <td>    1.411</td> <td> 0.158</td> <td>   -0.013</td> <td>    0.080</td>\n",
       "</tr>\n",
       "<tr>\n",
       "  <th>C(Reported_Facility_Type)[T.Medical Office]</th>             <td>    0.0359</td> <td>    0.023</td> <td>    1.548</td> <td> 0.122</td> <td>   -0.010</td> <td>    0.081</td>\n",
       "</tr>\n",
       "<tr>\n",
       "  <th>C(Reported_Facility_Type)[T.Multifamily Housing]</th>        <td>    0.0106</td> <td>    0.021</td> <td>    0.500</td> <td> 0.617</td> <td>   -0.031</td> <td>    0.052</td>\n",
       "</tr>\n",
       "<tr>\n",
       "  <th>C(Reported_Facility_Type)[T.Non-Refrigerated Warehouse]</th> <td>    0.0117</td> <td>    0.022</td> <td>    0.535</td> <td> 0.593</td> <td>   -0.031</td> <td>    0.054</td>\n",
       "</tr>\n",
       "<tr>\n",
       "  <th>C(Reported_Facility_Type)[T.Office]</th>                     <td>    0.0381</td> <td>    0.021</td> <td>    1.789</td> <td> 0.074</td> <td>   -0.004</td> <td>    0.080</td>\n",
       "</tr>\n",
       "<tr>\n",
       "  <th>C(Reported_Facility_Type)[T.Residence Hall/Dormitory]</th>   <td>    0.0331</td> <td>    0.022</td> <td>    1.516</td> <td> 0.130</td> <td>   -0.010</td> <td>    0.076</td>\n",
       "</tr>\n",
       "<tr>\n",
       "  <th>C(Reported_Facility_Type)[T.Retail Store]</th>               <td>    0.0131</td> <td>    0.030</td> <td>    0.439</td> <td> 0.661</td> <td>   -0.046</td> <td>    0.072</td>\n",
       "</tr>\n",
       "<tr>\n",
       "  <th>C(Reported_Facility_Type)[T.Senior Care Community]</th>      <td>    0.0392</td> <td>    0.022</td> <td>    1.779</td> <td> 0.075</td> <td>   -0.004</td> <td>    0.082</td>\n",
       "</tr>\n",
       "<tr>\n",
       "  <th>C(Reported_Facility_Type)[T.Worship Facility]</th>           <td>    0.0373</td> <td>    0.026</td> <td>    1.439</td> <td> 0.150</td> <td>   -0.014</td> <td>    0.088</td>\n",
       "</tr>\n",
       "</table>\n",
       "<table class=\"simpletable\">\n",
       "<tr>\n",
       "  <th>Omnibus:</th>       <td>635.367</td> <th>  Durbin-Watson:     </th> <td>   0.802</td> \n",
       "</tr>\n",
       "<tr>\n",
       "  <th>Prob(Omnibus):</th> <td> 0.000</td>  <th>  Jarque-Bera (JB):  </th> <td>1225.698</td> \n",
       "</tr>\n",
       "<tr>\n",
       "  <th>Skew:</th>          <td> 1.441</td>  <th>  Prob(JB):          </th> <td>6.97e-267</td>\n",
       "</tr>\n",
       "<tr>\n",
       "  <th>Kurtosis:</th>      <td> 4.627</td>  <th>  Cond. No.          </th> <td>    260.</td> \n",
       "</tr>\n",
       "</table>"
      ],
      "text/plain": [
       "<class 'statsmodels.iolib.summary.Summary'>\n",
       "\"\"\"\n",
       "                            OLS Regression Results                            \n",
       "==============================================================================\n",
       "Dep. Variable:                  VALUE   R-squared:                       0.091\n",
       "Model:                            OLS   Adj. R-squared:                  0.087\n",
       "Method:                 Least Squares   F-statistic:                     20.61\n",
       "Date:                Mon, 20 Nov 2017   Prob (F-statistic):           3.89e-47\n",
       "Time:                        12:35:58   Log-Likelihood:                 6547.1\n",
       "No. Observations:                2685   AIC:                        -1.307e+04\n",
       "Df Residuals:                    2671   BIC:                        -1.298e+04\n",
       "Df Model:                          13                                         \n",
       "Covariance Type:            nonrobust                                         \n",
       "===========================================================================================================================\n",
       "                                                              coef    std err          t      P>|t|      [0.025      0.975]\n",
       "---------------------------------------------------------------------------------------------------------------------------\n",
       "Intercept                                                   0.0126      0.021      0.596      0.551      -0.029       0.054\n",
       "C(Reported_Water_Method)[T.Manual]                          0.0088      0.003      3.076      0.002       0.003       0.014\n",
       "C(Reported_Facility_Type)[T.Distribution Center]            0.0070      0.023      0.311      0.756      -0.037       0.051\n",
       "C(Reported_Facility_Type)[T.Financial Office]               0.0358      0.030      1.189      0.235      -0.023       0.095\n",
       "C(Reported_Facility_Type)[T.Hotel]                          0.0341      0.023      1.469      0.142      -0.011       0.080\n",
       "C(Reported_Facility_Type)[T.K-12 School]                    0.0334      0.024      1.411      0.158      -0.013       0.080\n",
       "C(Reported_Facility_Type)[T.Medical Office]                 0.0359      0.023      1.548      0.122      -0.010       0.081\n",
       "C(Reported_Facility_Type)[T.Multifamily Housing]            0.0106      0.021      0.500      0.617      -0.031       0.052\n",
       "C(Reported_Facility_Type)[T.Non-Refrigerated Warehouse]     0.0117      0.022      0.535      0.593      -0.031       0.054\n",
       "C(Reported_Facility_Type)[T.Office]                         0.0381      0.021      1.789      0.074      -0.004       0.080\n",
       "C(Reported_Facility_Type)[T.Residence Hall/Dormitory]       0.0331      0.022      1.516      0.130      -0.010       0.076\n",
       "C(Reported_Facility_Type)[T.Retail Store]                   0.0131      0.030      0.439      0.661      -0.046       0.072\n",
       "C(Reported_Facility_Type)[T.Senior Care Community]          0.0392      0.022      1.779      0.075      -0.004       0.082\n",
       "C(Reported_Facility_Type)[T.Worship Facility]               0.0373      0.026      1.439      0.150      -0.014       0.088\n",
       "==============================================================================\n",
       "Omnibus:                      635.367   Durbin-Watson:                   0.802\n",
       "Prob(Omnibus):                  0.000   Jarque-Bera (JB):             1225.698\n",
       "Skew:                           1.441   Prob(JB):                    6.97e-267\n",
       "Kurtosis:                       4.627   Cond. No.                         260.\n",
       "==============================================================================\n",
       "\n",
       "Warnings:\n",
       "[1] Standard Errors assume that the covariance matrix of the errors is correctly specified.\n",
       "\"\"\""
      ]
     },
     "execution_count": 308,
     "metadata": {},
     "output_type": "execute_result"
    }
   ],
   "source": [
    "lm_no_energy = smf.ols(formula='VALUE~C(Benchmarking_Submission)+C(Reported_Water_Method)+\\\n",
    "                       C(Reported_Facility_Type)'\n",
    "             ,data=merged16).fit()\n",
    "lm_no_energy.summary()"
   ]
  },
  {
   "cell_type": "code",
   "execution_count": 309,
   "metadata": {},
   "outputs": [
    {
     "data": {
      "text/html": [
       "<table class=\"simpletable\">\n",
       "<caption>OLS Regression Results</caption>\n",
       "<tr>\n",
       "  <th>Dep. Variable:</th>          <td>VALUE</td>      <th>  R-squared:         </th>  <td>   0.096</td> \n",
       "</tr>\n",
       "<tr>\n",
       "  <th>Model:</th>                   <td>OLS</td>       <th>  Adj. R-squared:    </th>  <td>   0.092</td> \n",
       "</tr>\n",
       "<tr>\n",
       "  <th>Method:</th>             <td>Least Squares</td>  <th>  F-statistic:       </th>  <td>   20.32</td> \n",
       "</tr>\n",
       "<tr>\n",
       "  <th>Date:</th>             <td>Mon, 20 Nov 2017</td> <th>  Prob (F-statistic):</th>  <td>1.37e-49</td> \n",
       "</tr>\n",
       "<tr>\n",
       "  <th>Time:</th>                 <td>12:35:58</td>     <th>  Log-Likelihood:    </th>  <td>  6554.6</td> \n",
       "</tr>\n",
       "<tr>\n",
       "  <th>No. Observations:</th>      <td>  2685</td>      <th>  AIC:               </th> <td>-1.308e+04</td>\n",
       "</tr>\n",
       "<tr>\n",
       "  <th>Df Residuals:</th>          <td>  2670</td>      <th>  BIC:               </th> <td>-1.299e+04</td>\n",
       "</tr>\n",
       "<tr>\n",
       "  <th>Df Model:</th>              <td>    14</td>      <th>                     </th>      <td> </td>    \n",
       "</tr>\n",
       "<tr>\n",
       "  <th>Covariance Type:</th>      <td>nonrobust</td>    <th>                     </th>      <td> </td>    \n",
       "</tr>\n",
       "</table>\n",
       "<table class=\"simpletable\">\n",
       "<tr>\n",
       "                             <td></td>                                <th>coef</th>     <th>std err</th>      <th>t</th>      <th>P>|t|</th>  <th>[0.025</th>    <th>0.975]</th>  \n",
       "</tr>\n",
       "<tr>\n",
       "  <th>Intercept</th>                                               <td>    0.0121</td> <td>    0.021</td> <td>    0.572</td> <td> 0.567</td> <td>   -0.029</td> <td>    0.054</td>\n",
       "</tr>\n",
       "<tr>\n",
       "  <th>C(Reported_Water_Method)[T.Manual]</th>                      <td>    0.0086</td> <td>    0.003</td> <td>    3.037</td> <td> 0.002</td> <td>    0.003</td> <td>    0.014</td>\n",
       "</tr>\n",
       "<tr>\n",
       "  <th>C(Reported_Facility_Type)[T.Distribution Center]</th>        <td>    0.0083</td> <td>    0.023</td> <td>    0.368</td> <td> 0.713</td> <td>   -0.036</td> <td>    0.053</td>\n",
       "</tr>\n",
       "<tr>\n",
       "  <th>C(Reported_Facility_Type)[T.Financial Office]</th>           <td>    0.0341</td> <td>    0.030</td> <td>    1.137</td> <td> 0.256</td> <td>   -0.025</td> <td>    0.093</td>\n",
       "</tr>\n",
       "<tr>\n",
       "  <th>C(Reported_Facility_Type)[T.Hotel]</th>                      <td>    0.0348</td> <td>    0.023</td> <td>    1.504</td> <td> 0.133</td> <td>   -0.011</td> <td>    0.080</td>\n",
       "</tr>\n",
       "<tr>\n",
       "  <th>C(Reported_Facility_Type)[T.K-12 School]</th>                <td>    0.0339</td> <td>    0.024</td> <td>    1.436</td> <td> 0.151</td> <td>   -0.012</td> <td>    0.080</td>\n",
       "</tr>\n",
       "<tr>\n",
       "  <th>C(Reported_Facility_Type)[T.Medical Office]</th>             <td>    0.0355</td> <td>    0.023</td> <td>    1.533</td> <td> 0.125</td> <td>   -0.010</td> <td>    0.081</td>\n",
       "</tr>\n",
       "<tr>\n",
       "  <th>C(Reported_Facility_Type)[T.Multifamily Housing]</th>        <td>    0.0112</td> <td>    0.021</td> <td>    0.529</td> <td> 0.597</td> <td>   -0.030</td> <td>    0.053</td>\n",
       "</tr>\n",
       "<tr>\n",
       "  <th>C(Reported_Facility_Type)[T.Non-Refrigerated Warehouse]</th> <td>    0.0124</td> <td>    0.022</td> <td>    0.572</td> <td> 0.567</td> <td>   -0.030</td> <td>    0.055</td>\n",
       "</tr>\n",
       "<tr>\n",
       "  <th>C(Reported_Facility_Type)[T.Office]</th>                     <td>    0.0377</td> <td>    0.021</td> <td>    1.776</td> <td> 0.076</td> <td>   -0.004</td> <td>    0.079</td>\n",
       "</tr>\n",
       "<tr>\n",
       "  <th>C(Reported_Facility_Type)[T.Residence Hall/Dormitory]</th>   <td>    0.0343</td> <td>    0.022</td> <td>    1.576</td> <td> 0.115</td> <td>   -0.008</td> <td>    0.077</td>\n",
       "</tr>\n",
       "<tr>\n",
       "  <th>C(Reported_Facility_Type)[T.Retail Store]</th>               <td>    0.0121</td> <td>    0.030</td> <td>    0.406</td> <td> 0.685</td> <td>   -0.046</td> <td>    0.071</td>\n",
       "</tr>\n",
       "<tr>\n",
       "  <th>C(Reported_Facility_Type)[T.Senior Care Community]</th>      <td>    0.0388</td> <td>    0.022</td> <td>    1.766</td> <td> 0.078</td> <td>   -0.004</td> <td>    0.082</td>\n",
       "</tr>\n",
       "<tr>\n",
       "  <th>C(Reported_Facility_Type)[T.Worship Facility]</th>           <td>    0.0368</td> <td>    0.026</td> <td>    1.424</td> <td> 0.155</td> <td>   -0.014</td> <td>    0.088</td>\n",
       "</tr>\n",
       "<tr>\n",
       "  <th>Energy_efficiency</th>                                       <td>   -0.0066</td> <td>    0.002</td> <td>   -3.881</td> <td> 0.000</td> <td>   -0.010</td> <td>   -0.003</td>\n",
       "</tr>\n",
       "</table>\n",
       "<table class=\"simpletable\">\n",
       "<tr>\n",
       "  <th>Omnibus:</th>       <td>635.108</td> <th>  Durbin-Watson:     </th> <td>   0.822</td> \n",
       "</tr>\n",
       "<tr>\n",
       "  <th>Prob(Omnibus):</th> <td> 0.000</td>  <th>  Jarque-Bera (JB):  </th> <td>1228.057</td> \n",
       "</tr>\n",
       "<tr>\n",
       "  <th>Skew:</th>          <td> 1.438</td>  <th>  Prob(JB):          </th> <td>2.14e-267</td>\n",
       "</tr>\n",
       "<tr>\n",
       "  <th>Kurtosis:</th>      <td> 4.645</td>  <th>  Cond. No.          </th> <td>    260.</td> \n",
       "</tr>\n",
       "</table>"
      ],
      "text/plain": [
       "<class 'statsmodels.iolib.summary.Summary'>\n",
       "\"\"\"\n",
       "                            OLS Regression Results                            \n",
       "==============================================================================\n",
       "Dep. Variable:                  VALUE   R-squared:                       0.096\n",
       "Model:                            OLS   Adj. R-squared:                  0.092\n",
       "Method:                 Least Squares   F-statistic:                     20.32\n",
       "Date:                Mon, 20 Nov 2017   Prob (F-statistic):           1.37e-49\n",
       "Time:                        12:35:58   Log-Likelihood:                 6554.6\n",
       "No. Observations:                2685   AIC:                        -1.308e+04\n",
       "Df Residuals:                    2670   BIC:                        -1.299e+04\n",
       "Df Model:                          14                                         \n",
       "Covariance Type:            nonrobust                                         \n",
       "===========================================================================================================================\n",
       "                                                              coef    std err          t      P>|t|      [0.025      0.975]\n",
       "---------------------------------------------------------------------------------------------------------------------------\n",
       "Intercept                                                   0.0121      0.021      0.572      0.567      -0.029       0.054\n",
       "C(Reported_Water_Method)[T.Manual]                          0.0086      0.003      3.037      0.002       0.003       0.014\n",
       "C(Reported_Facility_Type)[T.Distribution Center]            0.0083      0.023      0.368      0.713      -0.036       0.053\n",
       "C(Reported_Facility_Type)[T.Financial Office]               0.0341      0.030      1.137      0.256      -0.025       0.093\n",
       "C(Reported_Facility_Type)[T.Hotel]                          0.0348      0.023      1.504      0.133      -0.011       0.080\n",
       "C(Reported_Facility_Type)[T.K-12 School]                    0.0339      0.024      1.436      0.151      -0.012       0.080\n",
       "C(Reported_Facility_Type)[T.Medical Office]                 0.0355      0.023      1.533      0.125      -0.010       0.081\n",
       "C(Reported_Facility_Type)[T.Multifamily Housing]            0.0112      0.021      0.529      0.597      -0.030       0.053\n",
       "C(Reported_Facility_Type)[T.Non-Refrigerated Warehouse]     0.0124      0.022      0.572      0.567      -0.030       0.055\n",
       "C(Reported_Facility_Type)[T.Office]                         0.0377      0.021      1.776      0.076      -0.004       0.079\n",
       "C(Reported_Facility_Type)[T.Residence Hall/Dormitory]       0.0343      0.022      1.576      0.115      -0.008       0.077\n",
       "C(Reported_Facility_Type)[T.Retail Store]                   0.0121      0.030      0.406      0.685      -0.046       0.071\n",
       "C(Reported_Facility_Type)[T.Senior Care Community]          0.0388      0.022      1.766      0.078      -0.004       0.082\n",
       "C(Reported_Facility_Type)[T.Worship Facility]               0.0368      0.026      1.424      0.155      -0.014       0.088\n",
       "Energy_efficiency                                          -0.0066      0.002     -3.881      0.000      -0.010      -0.003\n",
       "==============================================================================\n",
       "Omnibus:                      635.108   Durbin-Watson:                   0.822\n",
       "Prob(Omnibus):                  0.000   Jarque-Bera (JB):             1228.057\n",
       "Skew:                           1.438   Prob(JB):                    2.14e-267\n",
       "Kurtosis:                       4.645   Cond. No.                         260.\n",
       "==============================================================================\n",
       "\n",
       "Warnings:\n",
       "[1] Standard Errors assume that the covariance matrix of the errors is correctly specified.\n",
       "\"\"\""
      ]
     },
     "execution_count": 309,
     "metadata": {},
     "output_type": "execute_result"
    }
   ],
   "source": [
    "lm_with_energy = smf.ols(formula='VALUE~Energy_efficiency+C(Benchmarking_Submission)+C(Reported_Water_Method)+\\\n",
    "                       C(Reported_Facility_Type)'\n",
    "             ,data=merged16).fit()\n",
    "lm_with_energy.summary()"
   ]
  },
  {
   "cell_type": "code",
   "execution_count": 310,
   "metadata": {},
   "outputs": [
    {
     "data": {
      "text/html": [
       "<div>\n",
       "<style scoped>\n",
       "    .dataframe tbody tr th:only-of-type {\n",
       "        vertical-align: middle;\n",
       "    }\n",
       "\n",
       "    .dataframe tbody tr th {\n",
       "        vertical-align: top;\n",
       "    }\n",
       "\n",
       "    .dataframe thead th {\n",
       "        text-align: right;\n",
       "    }\n",
       "</style>\n",
       "<table border=\"1\" class=\"dataframe\">\n",
       "  <thead>\n",
       "    <tr style=\"text-align: right;\">\n",
       "      <th></th>\n",
       "      <th>df_resid</th>\n",
       "      <th>ssr</th>\n",
       "      <th>df_diff</th>\n",
       "      <th>ss_diff</th>\n",
       "      <th>F</th>\n",
       "      <th>Pr(&gt;F)</th>\n",
       "    </tr>\n",
       "  </thead>\n",
       "  <tbody>\n",
       "    <tr>\n",
       "      <th>0</th>\n",
       "      <td>2671.0</td>\n",
       "      <td>1.198162</td>\n",
       "      <td>0.0</td>\n",
       "      <td>NaN</td>\n",
       "      <td>NaN</td>\n",
       "      <td>NaN</td>\n",
       "    </tr>\n",
       "    <tr>\n",
       "      <th>1</th>\n",
       "      <td>2670.0</td>\n",
       "      <td>1.191440</td>\n",
       "      <td>1.0</td>\n",
       "      <td>0.006722</td>\n",
       "      <td>15.064481</td>\n",
       "      <td>0.000106</td>\n",
       "    </tr>\n",
       "  </tbody>\n",
       "</table>\n",
       "</div>"
      ],
      "text/plain": [
       "   df_resid       ssr  df_diff   ss_diff          F    Pr(>F)\n",
       "0    2671.0  1.198162      0.0       NaN        NaN       NaN\n",
       "1    2670.0  1.191440      1.0  0.006722  15.064481  0.000106"
      ]
     },
     "execution_count": 310,
     "metadata": {},
     "output_type": "execute_result"
    }
   ],
   "source": [
    "anova = sm.stats.anova_lm(lm_no_energy,lm_with_energy)\n",
    "anova"
   ]
  },
  {
   "cell_type": "code",
   "execution_count": 311,
   "metadata": {},
   "outputs": [
    {
     "data": {
      "text/plain": [
       "True"
      ]
     },
     "execution_count": 311,
     "metadata": {},
     "output_type": "execute_result"
    }
   ],
   "source": [
    "anova['Pr(>F)'][1] < 0.05"
   ]
  },
  {
   "cell_type": "markdown",
   "metadata": {},
   "source": [
    "## As p here is way less than our significance level 5%, We could conclude that energy efficiency actually has a significant impact on property market value"
   ]
  },
  {
   "cell_type": "markdown",
   "metadata": {},
   "source": [
    "### Linear Regression\n",
    "### Optimize the model using feature selection (maximizing adj-R2)"
   ]
  },
  {
   "cell_type": "code",
   "execution_count": 312,
   "metadata": {},
   "outputs": [
    {
     "data": {
      "text/html": [
       "<div>\n",
       "<style scoped>\n",
       "    .dataframe tbody tr th:only-of-type {\n",
       "        vertical-align: middle;\n",
       "    }\n",
       "\n",
       "    .dataframe tbody tr th {\n",
       "        vertical-align: top;\n",
       "    }\n",
       "\n",
       "    .dataframe thead th {\n",
       "        text-align: right;\n",
       "    }\n",
       "</style>\n",
       "<table border=\"1\" class=\"dataframe\">\n",
       "  <thead>\n",
       "    <tr style=\"text-align: right;\">\n",
       "      <th></th>\n",
       "      <th>BBL</th>\n",
       "      <th>Zip</th>\n",
       "      <th>Benchmarking_Submission</th>\n",
       "      <th>Site_EUI</th>\n",
       "      <th>Weather_Normalized_Source_EUI</th>\n",
       "      <th>Indoor_Water_Intensity(gal/ft2)</th>\n",
       "      <th>Reported_Water_Method</th>\n",
       "      <th>ENERGY_STAR_Score</th>\n",
       "      <th>GHG</th>\n",
       "      <th>Property_Floor_Area(ft2)</th>\n",
       "      <th>Reported_Facility_Type</th>\n",
       "      <th>Number_of_Buildings</th>\n",
       "      <th>VALUE</th>\n",
       "      <th>Energy_efficiency</th>\n",
       "    </tr>\n",
       "  </thead>\n",
       "  <tbody>\n",
       "    <tr>\n",
       "      <th>3</th>\n",
       "      <td>1015180024</td>\n",
       "      <td>10128.0</td>\n",
       "      <td>In Compliance</td>\n",
       "      <td>0.001415</td>\n",
       "      <td>0.000889</td>\n",
       "      <td>0.004610</td>\n",
       "      <td>ABS</td>\n",
       "      <td>0.090909</td>\n",
       "      <td>0.002558</td>\n",
       "      <td>0.048184</td>\n",
       "      <td>Multifamily Housing</td>\n",
       "      <td>0.022222</td>\n",
       "      <td>0.089241</td>\n",
       "      <td>0.555036</td>\n",
       "    </tr>\n",
       "    <tr>\n",
       "      <th>87</th>\n",
       "      <td>1000520021</td>\n",
       "      <td>10006.0</td>\n",
       "      <td>In Compliance</td>\n",
       "      <td>0.001311</td>\n",
       "      <td>0.000643</td>\n",
       "      <td>0.001642</td>\n",
       "      <td>ABS</td>\n",
       "      <td>0.232323</td>\n",
       "      <td>0.001378</td>\n",
       "      <td>0.005862</td>\n",
       "      <td>Multifamily Housing</td>\n",
       "      <td>0.022222</td>\n",
       "      <td>0.020492</td>\n",
       "      <td>0.413859</td>\n",
       "    </tr>\n",
       "    <tr>\n",
       "      <th>118</th>\n",
       "      <td>1000710001</td>\n",
       "      <td>10038.0</td>\n",
       "      <td>In Compliance</td>\n",
       "      <td>0.001486</td>\n",
       "      <td>0.000743</td>\n",
       "      <td>0.002553</td>\n",
       "      <td>ABS</td>\n",
       "      <td>0.212121</td>\n",
       "      <td>0.001588</td>\n",
       "      <td>0.002168</td>\n",
       "      <td>Multifamily Housing</td>\n",
       "      <td>0.022222</td>\n",
       "      <td>0.044111</td>\n",
       "      <td>0.434085</td>\n",
       "    </tr>\n",
       "    <tr>\n",
       "      <th>121</th>\n",
       "      <td>1000720027</td>\n",
       "      <td>10038.0</td>\n",
       "      <td>In Compliance</td>\n",
       "      <td>0.000550</td>\n",
       "      <td>0.000331</td>\n",
       "      <td>0.001922</td>\n",
       "      <td>ABS</td>\n",
       "      <td>0.989899</td>\n",
       "      <td>0.000429</td>\n",
       "      <td>0.001452</td>\n",
       "      <td>Multifamily Housing</td>\n",
       "      <td>0.022222</td>\n",
       "      <td>0.016309</td>\n",
       "      <td>-0.343675</td>\n",
       "    </tr>\n",
       "    <tr>\n",
       "      <th>126</th>\n",
       "      <td>1000760024</td>\n",
       "      <td>10038.0</td>\n",
       "      <td>In Compliance</td>\n",
       "      <td>0.000993</td>\n",
       "      <td>0.000580</td>\n",
       "      <td>0.001784</td>\n",
       "      <td>ABS</td>\n",
       "      <td>0.868687</td>\n",
       "      <td>0.000988</td>\n",
       "      <td>0.008894</td>\n",
       "      <td>Multifamily Housing</td>\n",
       "      <td>0.022222</td>\n",
       "      <td>0.065353</td>\n",
       "      <td>-0.222508</td>\n",
       "    </tr>\n",
       "  </tbody>\n",
       "</table>\n",
       "</div>"
      ],
      "text/plain": [
       "            BBL      Zip Benchmarking_Submission  Site_EUI  \\\n",
       "3    1015180024  10128.0           In Compliance  0.001415   \n",
       "87   1000520021  10006.0           In Compliance  0.001311   \n",
       "118  1000710001  10038.0           In Compliance  0.001486   \n",
       "121  1000720027  10038.0           In Compliance  0.000550   \n",
       "126  1000760024  10038.0           In Compliance  0.000993   \n",
       "\n",
       "     Weather_Normalized_Source_EUI  Indoor_Water_Intensity(gal/ft2)  \\\n",
       "3                         0.000889                         0.004610   \n",
       "87                        0.000643                         0.001642   \n",
       "118                       0.000743                         0.002553   \n",
       "121                       0.000331                         0.001922   \n",
       "126                       0.000580                         0.001784   \n",
       "\n",
       "    Reported_Water_Method  ENERGY_STAR_Score       GHG  \\\n",
       "3                     ABS           0.090909  0.002558   \n",
       "87                    ABS           0.232323  0.001378   \n",
       "118                   ABS           0.212121  0.001588   \n",
       "121                   ABS           0.989899  0.000429   \n",
       "126                   ABS           0.868687  0.000988   \n",
       "\n",
       "     Property_Floor_Area(ft2) Reported_Facility_Type  Number_of_Buildings  \\\n",
       "3                    0.048184    Multifamily Housing             0.022222   \n",
       "87                   0.005862    Multifamily Housing             0.022222   \n",
       "118                  0.002168    Multifamily Housing             0.022222   \n",
       "121                  0.001452    Multifamily Housing             0.022222   \n",
       "126                  0.008894    Multifamily Housing             0.022222   \n",
       "\n",
       "        VALUE  Energy_efficiency  \n",
       "3    0.089241           0.555036  \n",
       "87   0.020492           0.413859  \n",
       "118  0.044111           0.434085  \n",
       "121  0.016309          -0.343675  \n",
       "126  0.065353          -0.222508  "
      ]
     },
     "execution_count": 312,
     "metadata": {},
     "output_type": "execute_result"
    }
   ],
   "source": [
    "merged16.head()"
   ]
  },
  {
   "cell_type": "code",
   "execution_count": 380,
   "metadata": {},
   "outputs": [],
   "source": [
    "train,test = train_test_split(merged16, test_size = 0.2)"
   ]
  },
  {
   "cell_type": "code",
   "execution_count": 381,
   "metadata": {},
   "outputs": [
    {
     "data": {
      "text/html": [
       "<table class=\"simpletable\">\n",
       "<caption>OLS Regression Results</caption>\n",
       "<tr>\n",
       "  <th>Dep. Variable:</th>          <td>VALUE</td>      <th>  R-squared:         </th>  <td>   0.096</td> \n",
       "</tr>\n",
       "<tr>\n",
       "  <th>Model:</th>                   <td>OLS</td>       <th>  Adj. R-squared:    </th>  <td>   0.090</td> \n",
       "</tr>\n",
       "<tr>\n",
       "  <th>Method:</th>             <td>Least Squares</td>  <th>  F-statistic:       </th>  <td>   16.22</td> \n",
       "</tr>\n",
       "<tr>\n",
       "  <th>Date:</th>             <td>Mon, 20 Nov 2017</td> <th>  Prob (F-statistic):</th>  <td>2.47e-38</td> \n",
       "</tr>\n",
       "<tr>\n",
       "  <th>Time:</th>                 <td>12:37:21</td>     <th>  Log-Likelihood:    </th>  <td>  5269.3</td> \n",
       "</tr>\n",
       "<tr>\n",
       "  <th>No. Observations:</th>      <td>  2148</td>      <th>  AIC:               </th> <td>-1.051e+04</td>\n",
       "</tr>\n",
       "<tr>\n",
       "  <th>Df Residuals:</th>          <td>  2133</td>      <th>  BIC:               </th> <td>-1.042e+04</td>\n",
       "</tr>\n",
       "<tr>\n",
       "  <th>Df Model:</th>              <td>    14</td>      <th>                     </th>      <td> </td>    \n",
       "</tr>\n",
       "<tr>\n",
       "  <th>Covariance Type:</th>      <td>nonrobust</td>    <th>                     </th>      <td> </td>    \n",
       "</tr>\n",
       "</table>\n",
       "<table class=\"simpletable\">\n",
       "<tr>\n",
       "                             <td></td>                                <th>coef</th>     <th>std err</th>      <th>t</th>      <th>P>|t|</th>  <th>[0.025</th>    <th>0.975]</th>  \n",
       "</tr>\n",
       "<tr>\n",
       "  <th>Intercept</th>                                               <td>    0.0122</td> <td>    0.021</td> <td>    0.583</td> <td> 0.560</td> <td>   -0.029</td> <td>    0.053</td>\n",
       "</tr>\n",
       "<tr>\n",
       "  <th>C(Reported_Water_Method)[T.Manual]</th>                      <td>    0.0082</td> <td>    0.003</td> <td>    2.657</td> <td> 0.008</td> <td>    0.002</td> <td>    0.014</td>\n",
       "</tr>\n",
       "<tr>\n",
       "  <th>C(Reported_Facility_Type)[T.Distribution Center]</th>        <td>    0.0081</td> <td>    0.022</td> <td>    0.363</td> <td> 0.717</td> <td>   -0.036</td> <td>    0.052</td>\n",
       "</tr>\n",
       "<tr>\n",
       "  <th>C(Reported_Facility_Type)[T.Financial Office]</th>           <td>    0.0348</td> <td>    0.030</td> <td>    1.171</td> <td> 0.242</td> <td>   -0.023</td> <td>    0.093</td>\n",
       "</tr>\n",
       "<tr>\n",
       "  <th>C(Reported_Facility_Type)[T.Hotel]</th>                      <td>    0.0347</td> <td>    0.023</td> <td>    1.516</td> <td> 0.130</td> <td>   -0.010</td> <td>    0.080</td>\n",
       "</tr>\n",
       "<tr>\n",
       "  <th>C(Reported_Facility_Type)[T.K-12 School]</th>                <td>    0.0330</td> <td>    0.024</td> <td>    1.370</td> <td> 0.171</td> <td>   -0.014</td> <td>    0.080</td>\n",
       "</tr>\n",
       "<tr>\n",
       "  <th>C(Reported_Facility_Type)[T.Medical Office]</th>             <td>    0.0372</td> <td>    0.023</td> <td>    1.590</td> <td> 0.112</td> <td>   -0.009</td> <td>    0.083</td>\n",
       "</tr>\n",
       "<tr>\n",
       "  <th>C(Reported_Facility_Type)[T.Multifamily Housing]</th>        <td>    0.0110</td> <td>    0.021</td> <td>    0.526</td> <td> 0.599</td> <td>   -0.030</td> <td>    0.052</td>\n",
       "</tr>\n",
       "<tr>\n",
       "  <th>C(Reported_Facility_Type)[T.Non-Refrigerated Warehouse]</th> <td>    0.0111</td> <td>    0.022</td> <td>    0.516</td> <td> 0.606</td> <td>   -0.031</td> <td>    0.053</td>\n",
       "</tr>\n",
       "<tr>\n",
       "  <th>C(Reported_Facility_Type)[T.Office]</th>                     <td>    0.0375</td> <td>    0.021</td> <td>    1.786</td> <td> 0.074</td> <td>   -0.004</td> <td>    0.079</td>\n",
       "</tr>\n",
       "<tr>\n",
       "  <th>C(Reported_Facility_Type)[T.Residence Hall/Dormitory]</th>   <td>    0.0271</td> <td>    0.022</td> <td>    1.249</td> <td> 0.212</td> <td>   -0.015</td> <td>    0.070</td>\n",
       "</tr>\n",
       "<tr>\n",
       "  <th>C(Reported_Facility_Type)[T.Retail Store]</th>               <td>    0.0123</td> <td>    0.030</td> <td>    0.416</td> <td> 0.677</td> <td>   -0.046</td> <td>    0.070</td>\n",
       "</tr>\n",
       "<tr>\n",
       "  <th>C(Reported_Facility_Type)[T.Senior Care Community]</th>      <td>    0.0400</td> <td>    0.022</td> <td>    1.826</td> <td> 0.068</td> <td>   -0.003</td> <td>    0.083</td>\n",
       "</tr>\n",
       "<tr>\n",
       "  <th>C(Reported_Facility_Type)[T.Worship Facility]</th>           <td>    0.0369</td> <td>    0.026</td> <td>    1.443</td> <td> 0.149</td> <td>   -0.013</td> <td>    0.087</td>\n",
       "</tr>\n",
       "<tr>\n",
       "  <th>Energy_efficiency</th>                                       <td>   -0.0056</td> <td>    0.002</td> <td>   -2.987</td> <td> 0.003</td> <td>   -0.009</td> <td>   -0.002</td>\n",
       "</tr>\n",
       "</table>\n",
       "<table class=\"simpletable\">\n",
       "<tr>\n",
       "  <th>Omnibus:</th>       <td>524.775</td> <th>  Durbin-Watson:     </th> <td>   1.924</td> \n",
       "</tr>\n",
       "<tr>\n",
       "  <th>Prob(Omnibus):</th> <td> 0.000</td>  <th>  Jarque-Bera (JB):  </th> <td>1038.111</td> \n",
       "</tr>\n",
       "<tr>\n",
       "  <th>Skew:</th>          <td> 1.461</td>  <th>  Prob(JB):          </th> <td>3.78e-226</td>\n",
       "</tr>\n",
       "<tr>\n",
       "  <th>Kurtosis:</th>      <td> 4.748</td>  <th>  Cond. No.          </th> <td>    232.</td> \n",
       "</tr>\n",
       "</table>"
      ],
      "text/plain": [
       "<class 'statsmodels.iolib.summary.Summary'>\n",
       "\"\"\"\n",
       "                            OLS Regression Results                            \n",
       "==============================================================================\n",
       "Dep. Variable:                  VALUE   R-squared:                       0.096\n",
       "Model:                            OLS   Adj. R-squared:                  0.090\n",
       "Method:                 Least Squares   F-statistic:                     16.22\n",
       "Date:                Mon, 20 Nov 2017   Prob (F-statistic):           2.47e-38\n",
       "Time:                        12:37:21   Log-Likelihood:                 5269.3\n",
       "No. Observations:                2148   AIC:                        -1.051e+04\n",
       "Df Residuals:                    2133   BIC:                        -1.042e+04\n",
       "Df Model:                          14                                         \n",
       "Covariance Type:            nonrobust                                         \n",
       "===========================================================================================================================\n",
       "                                                              coef    std err          t      P>|t|      [0.025      0.975]\n",
       "---------------------------------------------------------------------------------------------------------------------------\n",
       "Intercept                                                   0.0122      0.021      0.583      0.560      -0.029       0.053\n",
       "C(Reported_Water_Method)[T.Manual]                          0.0082      0.003      2.657      0.008       0.002       0.014\n",
       "C(Reported_Facility_Type)[T.Distribution Center]            0.0081      0.022      0.363      0.717      -0.036       0.052\n",
       "C(Reported_Facility_Type)[T.Financial Office]               0.0348      0.030      1.171      0.242      -0.023       0.093\n",
       "C(Reported_Facility_Type)[T.Hotel]                          0.0347      0.023      1.516      0.130      -0.010       0.080\n",
       "C(Reported_Facility_Type)[T.K-12 School]                    0.0330      0.024      1.370      0.171      -0.014       0.080\n",
       "C(Reported_Facility_Type)[T.Medical Office]                 0.0372      0.023      1.590      0.112      -0.009       0.083\n",
       "C(Reported_Facility_Type)[T.Multifamily Housing]            0.0110      0.021      0.526      0.599      -0.030       0.052\n",
       "C(Reported_Facility_Type)[T.Non-Refrigerated Warehouse]     0.0111      0.022      0.516      0.606      -0.031       0.053\n",
       "C(Reported_Facility_Type)[T.Office]                         0.0375      0.021      1.786      0.074      -0.004       0.079\n",
       "C(Reported_Facility_Type)[T.Residence Hall/Dormitory]       0.0271      0.022      1.249      0.212      -0.015       0.070\n",
       "C(Reported_Facility_Type)[T.Retail Store]                   0.0123      0.030      0.416      0.677      -0.046       0.070\n",
       "C(Reported_Facility_Type)[T.Senior Care Community]          0.0400      0.022      1.826      0.068      -0.003       0.083\n",
       "C(Reported_Facility_Type)[T.Worship Facility]               0.0369      0.026      1.443      0.149      -0.013       0.087\n",
       "Energy_efficiency                                          -0.0056      0.002     -2.987      0.003      -0.009      -0.002\n",
       "==============================================================================\n",
       "Omnibus:                      524.775   Durbin-Watson:                   1.924\n",
       "Prob(Omnibus):                  0.000   Jarque-Bera (JB):             1038.111\n",
       "Skew:                           1.461   Prob(JB):                    3.78e-226\n",
       "Kurtosis:                       4.748   Cond. No.                         232.\n",
       "==============================================================================\n",
       "\n",
       "Warnings:\n",
       "[1] Standard Errors assume that the covariance matrix of the errors is correctly specified.\n",
       "\"\"\""
      ]
     },
     "execution_count": 381,
     "metadata": {},
     "output_type": "execute_result"
    }
   ],
   "source": [
    "lm1 = smf.ols(formula='VALUE~Energy_efficiency+C(Benchmarking_Submission)+C(Reported_Water_Method)+C(Reported_Facility_Type)'\n",
    "             ,data=train).fit()\n",
    "lm1.summary()"
   ]
  },
  {
   "cell_type": "code",
   "execution_count": 382,
   "metadata": {},
   "outputs": [],
   "source": [
    "pvalues = lm1.pvalues"
   ]
  },
  {
   "cell_type": "code",
   "execution_count": 383,
   "metadata": {},
   "outputs": [
    {
     "data": {
      "text/plain": [
       "Energy_efficiency                                          0.002845\n",
       "C(Reported_Water_Method)[T.Manual]                         0.007936\n",
       "C(Reported_Facility_Type)[T.Senior Care Community]         0.068001\n",
       "C(Reported_Facility_Type)[T.Office]                        0.074174\n",
       "C(Reported_Facility_Type)[T.Medical Office]                0.111972\n",
       "C(Reported_Facility_Type)[T.Hotel]                         0.129684\n",
       "C(Reported_Facility_Type)[T.Worship Facility]              0.149244\n",
       "C(Reported_Facility_Type)[T.K-12 School]                   0.170968\n",
       "C(Reported_Facility_Type)[T.Residence Hall/Dormitory]      0.211700\n",
       "C(Reported_Facility_Type)[T.Financial Office]              0.241824\n",
       "Intercept                                                  0.560130\n",
       "C(Reported_Facility_Type)[T.Multifamily Housing]           0.599052\n",
       "C(Reported_Facility_Type)[T.Non-Refrigerated Warehouse]    0.606063\n",
       "C(Reported_Facility_Type)[T.Retail Store]                  0.677296\n",
       "C(Reported_Facility_Type)[T.Distribution Center]           0.716712\n",
       "dtype: float64"
      ]
     },
     "execution_count": 383,
     "metadata": {},
     "output_type": "execute_result"
    }
   ],
   "source": [
    "pvalues.sort_values(ascending=True)"
   ]
  },
  {
   "cell_type": "code",
   "execution_count": 384,
   "metadata": {},
   "outputs": [],
   "source": [
    "def AdjR2(features):\n",
    "    lm = smf.ols(formula = ('VALUE~'+features), data = train).fit()\n",
    "    lmy = lm.predict(test)\n",
    "    y_err = lmy-test.VALUE\n",
    "    y_norm = test.VALUE-np.mean(test.VALUE)\n",
    "    # Adjusted R^2\n",
    "    R2 = 1 - y_err.dot(y_err) / y_norm.dot(y_norm) * (len(merged16.index)-1) / (len(merged16.index)-(features.count('+')+1+features.count('-'))-1)\n",
    "    return R2, lm"
   ]
  },
  {
   "cell_type": "code",
   "execution_count": 385,
   "metadata": {},
   "outputs": [
    {
     "data": {
      "text/plain": [
       "-1.2042357790208142"
      ]
     },
     "execution_count": 385,
     "metadata": {},
     "output_type": "execute_result"
    }
   ],
   "source": [
    "AdjR2('Energy_efficiency-1')[0]"
   ]
  },
  {
   "cell_type": "code",
   "execution_count": 386,
   "metadata": {},
   "outputs": [
    {
     "data": {
      "text/plain": [
       "0.015938411503404804"
      ]
     },
     "execution_count": 386,
     "metadata": {},
     "output_type": "execute_result"
    }
   ],
   "source": [
    "AdjR2('Energy_efficiency+C(Reported_Water_Method)-1')[0]"
   ]
  },
  {
   "cell_type": "code",
   "execution_count": 387,
   "metadata": {
    "scrolled": false
   },
   "outputs": [
    {
     "data": {
      "text/plain": [
       "0.090844851246921543"
      ]
     },
     "execution_count": 387,
     "metadata": {},
     "output_type": "execute_result"
    }
   ],
   "source": [
    "AdjR2('Energy_efficiency+C(Reported_Water_Method)+C(Reported_Facility_Type)-1')[0]"
   ]
  },
  {
   "cell_type": "code",
   "execution_count": 388,
   "metadata": {},
   "outputs": [
    {
     "data": {
      "text/plain": [
       "0.091183961708969918"
      ]
     },
     "execution_count": 388,
     "metadata": {},
     "output_type": "execute_result"
    }
   ],
   "source": [
    "AdjR2('Energy_efficiency+C(Reported_Water_Method)+C(Reported_Facility_Type)')[0]"
   ]
  },
  {
   "cell_type": "code",
   "execution_count": 389,
   "metadata": {
    "scrolled": false
   },
   "outputs": [
    {
     "data": {
      "text/html": [
       "<table class=\"simpletable\">\n",
       "<caption>OLS Regression Results</caption>\n",
       "<tr>\n",
       "  <th>Dep. Variable:</th>          <td>VALUE</td>      <th>  R-squared:         </th>  <td>   0.096</td> \n",
       "</tr>\n",
       "<tr>\n",
       "  <th>Model:</th>                   <td>OLS</td>       <th>  Adj. R-squared:    </th>  <td>   0.090</td> \n",
       "</tr>\n",
       "<tr>\n",
       "  <th>Method:</th>             <td>Least Squares</td>  <th>  F-statistic:       </th>  <td>   16.22</td> \n",
       "</tr>\n",
       "<tr>\n",
       "  <th>Date:</th>             <td>Mon, 20 Nov 2017</td> <th>  Prob (F-statistic):</th>  <td>2.47e-38</td> \n",
       "</tr>\n",
       "<tr>\n",
       "  <th>Time:</th>                 <td>12:37:25</td>     <th>  Log-Likelihood:    </th>  <td>  5269.3</td> \n",
       "</tr>\n",
       "<tr>\n",
       "  <th>No. Observations:</th>      <td>  2148</td>      <th>  AIC:               </th> <td>-1.051e+04</td>\n",
       "</tr>\n",
       "<tr>\n",
       "  <th>Df Residuals:</th>          <td>  2133</td>      <th>  BIC:               </th> <td>-1.042e+04</td>\n",
       "</tr>\n",
       "<tr>\n",
       "  <th>Df Model:</th>              <td>    14</td>      <th>                     </th>      <td> </td>    \n",
       "</tr>\n",
       "<tr>\n",
       "  <th>Covariance Type:</th>      <td>nonrobust</td>    <th>                     </th>      <td> </td>    \n",
       "</tr>\n",
       "</table>\n",
       "<table class=\"simpletable\">\n",
       "<tr>\n",
       "                             <td></td>                                <th>coef</th>     <th>std err</th>      <th>t</th>      <th>P>|t|</th>  <th>[0.025</th>    <th>0.975]</th>  \n",
       "</tr>\n",
       "<tr>\n",
       "  <th>Intercept</th>                                               <td>    0.0122</td> <td>    0.021</td> <td>    0.583</td> <td> 0.560</td> <td>   -0.029</td> <td>    0.053</td>\n",
       "</tr>\n",
       "<tr>\n",
       "  <th>C(Reported_Water_Method)[T.Manual]</th>                      <td>    0.0082</td> <td>    0.003</td> <td>    2.657</td> <td> 0.008</td> <td>    0.002</td> <td>    0.014</td>\n",
       "</tr>\n",
       "<tr>\n",
       "  <th>C(Reported_Facility_Type)[T.Distribution Center]</th>        <td>    0.0081</td> <td>    0.022</td> <td>    0.363</td> <td> 0.717</td> <td>   -0.036</td> <td>    0.052</td>\n",
       "</tr>\n",
       "<tr>\n",
       "  <th>C(Reported_Facility_Type)[T.Financial Office]</th>           <td>    0.0348</td> <td>    0.030</td> <td>    1.171</td> <td> 0.242</td> <td>   -0.023</td> <td>    0.093</td>\n",
       "</tr>\n",
       "<tr>\n",
       "  <th>C(Reported_Facility_Type)[T.Hotel]</th>                      <td>    0.0347</td> <td>    0.023</td> <td>    1.516</td> <td> 0.130</td> <td>   -0.010</td> <td>    0.080</td>\n",
       "</tr>\n",
       "<tr>\n",
       "  <th>C(Reported_Facility_Type)[T.K-12 School]</th>                <td>    0.0330</td> <td>    0.024</td> <td>    1.370</td> <td> 0.171</td> <td>   -0.014</td> <td>    0.080</td>\n",
       "</tr>\n",
       "<tr>\n",
       "  <th>C(Reported_Facility_Type)[T.Medical Office]</th>             <td>    0.0372</td> <td>    0.023</td> <td>    1.590</td> <td> 0.112</td> <td>   -0.009</td> <td>    0.083</td>\n",
       "</tr>\n",
       "<tr>\n",
       "  <th>C(Reported_Facility_Type)[T.Multifamily Housing]</th>        <td>    0.0110</td> <td>    0.021</td> <td>    0.526</td> <td> 0.599</td> <td>   -0.030</td> <td>    0.052</td>\n",
       "</tr>\n",
       "<tr>\n",
       "  <th>C(Reported_Facility_Type)[T.Non-Refrigerated Warehouse]</th> <td>    0.0111</td> <td>    0.022</td> <td>    0.516</td> <td> 0.606</td> <td>   -0.031</td> <td>    0.053</td>\n",
       "</tr>\n",
       "<tr>\n",
       "  <th>C(Reported_Facility_Type)[T.Office]</th>                     <td>    0.0375</td> <td>    0.021</td> <td>    1.786</td> <td> 0.074</td> <td>   -0.004</td> <td>    0.079</td>\n",
       "</tr>\n",
       "<tr>\n",
       "  <th>C(Reported_Facility_Type)[T.Residence Hall/Dormitory]</th>   <td>    0.0271</td> <td>    0.022</td> <td>    1.249</td> <td> 0.212</td> <td>   -0.015</td> <td>    0.070</td>\n",
       "</tr>\n",
       "<tr>\n",
       "  <th>C(Reported_Facility_Type)[T.Retail Store]</th>               <td>    0.0123</td> <td>    0.030</td> <td>    0.416</td> <td> 0.677</td> <td>   -0.046</td> <td>    0.070</td>\n",
       "</tr>\n",
       "<tr>\n",
       "  <th>C(Reported_Facility_Type)[T.Senior Care Community]</th>      <td>    0.0400</td> <td>    0.022</td> <td>    1.826</td> <td> 0.068</td> <td>   -0.003</td> <td>    0.083</td>\n",
       "</tr>\n",
       "<tr>\n",
       "  <th>C(Reported_Facility_Type)[T.Worship Facility]</th>           <td>    0.0369</td> <td>    0.026</td> <td>    1.443</td> <td> 0.149</td> <td>   -0.013</td> <td>    0.087</td>\n",
       "</tr>\n",
       "<tr>\n",
       "  <th>Energy_efficiency</th>                                       <td>   -0.0056</td> <td>    0.002</td> <td>   -2.987</td> <td> 0.003</td> <td>   -0.009</td> <td>   -0.002</td>\n",
       "</tr>\n",
       "</table>\n",
       "<table class=\"simpletable\">\n",
       "<tr>\n",
       "  <th>Omnibus:</th>       <td>524.775</td> <th>  Durbin-Watson:     </th> <td>   1.924</td> \n",
       "</tr>\n",
       "<tr>\n",
       "  <th>Prob(Omnibus):</th> <td> 0.000</td>  <th>  Jarque-Bera (JB):  </th> <td>1038.111</td> \n",
       "</tr>\n",
       "<tr>\n",
       "  <th>Skew:</th>          <td> 1.461</td>  <th>  Prob(JB):          </th> <td>3.78e-226</td>\n",
       "</tr>\n",
       "<tr>\n",
       "  <th>Kurtosis:</th>      <td> 4.748</td>  <th>  Cond. No.          </th> <td>    232.</td> \n",
       "</tr>\n",
       "</table>"
      ],
      "text/plain": [
       "<class 'statsmodels.iolib.summary.Summary'>\n",
       "\"\"\"\n",
       "                            OLS Regression Results                            \n",
       "==============================================================================\n",
       "Dep. Variable:                  VALUE   R-squared:                       0.096\n",
       "Model:                            OLS   Adj. R-squared:                  0.090\n",
       "Method:                 Least Squares   F-statistic:                     16.22\n",
       "Date:                Mon, 20 Nov 2017   Prob (F-statistic):           2.47e-38\n",
       "Time:                        12:37:25   Log-Likelihood:                 5269.3\n",
       "No. Observations:                2148   AIC:                        -1.051e+04\n",
       "Df Residuals:                    2133   BIC:                        -1.042e+04\n",
       "Df Model:                          14                                         \n",
       "Covariance Type:            nonrobust                                         \n",
       "===========================================================================================================================\n",
       "                                                              coef    std err          t      P>|t|      [0.025      0.975]\n",
       "---------------------------------------------------------------------------------------------------------------------------\n",
       "Intercept                                                   0.0122      0.021      0.583      0.560      -0.029       0.053\n",
       "C(Reported_Water_Method)[T.Manual]                          0.0082      0.003      2.657      0.008       0.002       0.014\n",
       "C(Reported_Facility_Type)[T.Distribution Center]            0.0081      0.022      0.363      0.717      -0.036       0.052\n",
       "C(Reported_Facility_Type)[T.Financial Office]               0.0348      0.030      1.171      0.242      -0.023       0.093\n",
       "C(Reported_Facility_Type)[T.Hotel]                          0.0347      0.023      1.516      0.130      -0.010       0.080\n",
       "C(Reported_Facility_Type)[T.K-12 School]                    0.0330      0.024      1.370      0.171      -0.014       0.080\n",
       "C(Reported_Facility_Type)[T.Medical Office]                 0.0372      0.023      1.590      0.112      -0.009       0.083\n",
       "C(Reported_Facility_Type)[T.Multifamily Housing]            0.0110      0.021      0.526      0.599      -0.030       0.052\n",
       "C(Reported_Facility_Type)[T.Non-Refrigerated Warehouse]     0.0111      0.022      0.516      0.606      -0.031       0.053\n",
       "C(Reported_Facility_Type)[T.Office]                         0.0375      0.021      1.786      0.074      -0.004       0.079\n",
       "C(Reported_Facility_Type)[T.Residence Hall/Dormitory]       0.0271      0.022      1.249      0.212      -0.015       0.070\n",
       "C(Reported_Facility_Type)[T.Retail Store]                   0.0123      0.030      0.416      0.677      -0.046       0.070\n",
       "C(Reported_Facility_Type)[T.Senior Care Community]          0.0400      0.022      1.826      0.068      -0.003       0.083\n",
       "C(Reported_Facility_Type)[T.Worship Facility]               0.0369      0.026      1.443      0.149      -0.013       0.087\n",
       "Energy_efficiency                                          -0.0056      0.002     -2.987      0.003      -0.009      -0.002\n",
       "==============================================================================\n",
       "Omnibus:                      524.775   Durbin-Watson:                   1.924\n",
       "Prob(Omnibus):                  0.000   Jarque-Bera (JB):             1038.111\n",
       "Skew:                           1.461   Prob(JB):                    3.78e-226\n",
       "Kurtosis:                       4.748   Cond. No.                         232.\n",
       "==============================================================================\n",
       "\n",
       "Warnings:\n",
       "[1] Standard Errors assume that the covariance matrix of the errors is correctly specified.\n",
       "\"\"\""
      ]
     },
     "execution_count": 389,
     "metadata": {},
     "output_type": "execute_result"
    }
   ],
   "source": [
    "lm = smf.ols(formula='VALUE~Energy_efficiency+C(Reported_Water_Method)+C(Reported_Facility_Type)'\n",
    "             ,data=train).fit()\n",
    "lm.summary()"
   ]
  },
  {
   "cell_type": "markdown",
   "metadata": {},
   "source": [
    "## We could see that the model is still unsatisfying"
   ]
  },
  {
   "cell_type": "markdown",
   "metadata": {},
   "source": [
    "### Log-log Linear Regression"
   ]
  },
  {
   "cell_type": "markdown",
   "metadata": {},
   "source": [
    "### Logarithm of both x and y"
   ]
  },
  {
   "cell_type": "code",
   "execution_count": 481,
   "metadata": {
    "scrolled": true
   },
   "outputs": [],
   "source": [
    "columns = ['VALUE','Energy_efficiency']"
   ]
  },
  {
   "cell_type": "markdown",
   "metadata": {},
   "source": [
    "### As here energy_efficiency has negative numbers, we would add 1 to each of them"
   ]
  },
  {
   "cell_type": "code",
   "execution_count": 542,
   "metadata": {},
   "outputs": [],
   "source": [
    "loglog = merged16.copy()\n",
    "loglog['Energy_efficiency'] = loglog['Energy_efficiency']+1"
   ]
  },
  {
   "cell_type": "code",
   "execution_count": 543,
   "metadata": {
    "scrolled": true
   },
   "outputs": [
    {
     "name": "stderr",
     "output_type": "stream",
     "text": [
      "C:\\Users\\sddz0\\Anaconda2\\lib\\site-packages\\ipykernel_launcher.py:2: RuntimeWarning: divide by zero encountered in log\n",
      "  \n"
     ]
    }
   ],
   "source": [
    "for column in columns:\n",
    "    loglog[column] = np.log(loglog[column])"
   ]
  },
  {
   "cell_type": "markdown",
   "metadata": {},
   "source": [
    "### remove inf and 0"
   ]
  },
  {
   "cell_type": "code",
   "execution_count": 545,
   "metadata": {},
   "outputs": [],
   "source": [
    "loglog = loglog.sort_values(by='VALUE',ascending=True).iloc[1:,:]"
   ]
  },
  {
   "cell_type": "code",
   "execution_count": 546,
   "metadata": {},
   "outputs": [],
   "source": [
    "train, test = train_test_split(loglog,test_size = 0.2)"
   ]
  },
  {
   "cell_type": "code",
   "execution_count": 547,
   "metadata": {},
   "outputs": [
    {
     "data": {
      "text/html": [
       "<table class=\"simpletable\">\n",
       "<caption>OLS Regression Results</caption>\n",
       "<tr>\n",
       "  <th>Dep. Variable:</th>          <td>VALUE</td>      <th>  R-squared:         </th> <td>   0.080</td>\n",
       "</tr>\n",
       "<tr>\n",
       "  <th>Model:</th>                   <td>OLS</td>       <th>  Adj. R-squared:    </th> <td>   0.074</td>\n",
       "</tr>\n",
       "<tr>\n",
       "  <th>Method:</th>             <td>Least Squares</td>  <th>  F-statistic:       </th> <td>   13.25</td>\n",
       "</tr>\n",
       "<tr>\n",
       "  <th>Date:</th>             <td>Mon, 20 Nov 2017</td> <th>  Prob (F-statistic):</th> <td>1.40e-30</td>\n",
       "</tr>\n",
       "<tr>\n",
       "  <th>Time:</th>                 <td>13:18:24</td>     <th>  Log-Likelihood:    </th> <td> -2765.6</td>\n",
       "</tr>\n",
       "<tr>\n",
       "  <th>No. Observations:</th>      <td>  2147</td>      <th>  AIC:               </th> <td>   5561.</td>\n",
       "</tr>\n",
       "<tr>\n",
       "  <th>Df Residuals:</th>          <td>  2132</td>      <th>  BIC:               </th> <td>   5646.</td>\n",
       "</tr>\n",
       "<tr>\n",
       "  <th>Df Model:</th>              <td>    14</td>      <th>                     </th>     <td> </td>   \n",
       "</tr>\n",
       "<tr>\n",
       "  <th>Covariance Type:</th>      <td>nonrobust</td>    <th>                     </th>     <td> </td>   \n",
       "</tr>\n",
       "</table>\n",
       "<table class=\"simpletable\">\n",
       "<tr>\n",
       "                             <td></td>                                <th>coef</th>     <th>std err</th>      <th>t</th>      <th>P>|t|</th>  <th>[0.025</th>    <th>0.975]</th>  \n",
       "</tr>\n",
       "<tr>\n",
       "  <th>Intercept</th>                                               <td>   -4.0735</td> <td>    0.883</td> <td>   -4.611</td> <td> 0.000</td> <td>   -5.806</td> <td>   -2.341</td>\n",
       "</tr>\n",
       "<tr>\n",
       "  <th>C(Reported_Water_Method)[T.Manual]</th>                      <td>    0.2726</td> <td>    0.131</td> <td>    2.085</td> <td> 0.037</td> <td>    0.016</td> <td>    0.529</td>\n",
       "</tr>\n",
       "<tr>\n",
       "  <th>C(Reported_Facility_Type)[T.Distribution Center]</th>        <td>    0.3739</td> <td>    0.965</td> <td>    0.388</td> <td> 0.698</td> <td>   -1.518</td> <td>    2.265</td>\n",
       "</tr>\n",
       "<tr>\n",
       "  <th>C(Reported_Facility_Type)[T.Financial Office]</th>           <td>    1.1489</td> <td>    1.252</td> <td>    0.918</td> <td> 0.359</td> <td>   -1.307</td> <td>    3.605</td>\n",
       "</tr>\n",
       "<tr>\n",
       "  <th>C(Reported_Facility_Type)[T.Hotel]</th>                      <td>    1.1193</td> <td>    0.984</td> <td>    1.137</td> <td> 0.256</td> <td>   -0.811</td> <td>    3.050</td>\n",
       "</tr>\n",
       "<tr>\n",
       "  <th>C(Reported_Facility_Type)[T.K-12 School]</th>                <td>    1.2492</td> <td>    0.984</td> <td>    1.269</td> <td> 0.205</td> <td>   -0.681</td> <td>    3.180</td>\n",
       "</tr>\n",
       "<tr>\n",
       "  <th>C(Reported_Facility_Type)[T.Medical Office]</th>             <td>    1.3159</td> <td>    1.018</td> <td>    1.293</td> <td> 0.196</td> <td>   -0.680</td> <td>    3.311</td>\n",
       "</tr>\n",
       "<tr>\n",
       "  <th>C(Reported_Facility_Type)[T.Multifamily Housing]</th>        <td>    0.2633</td> <td>    0.881</td> <td>    0.299</td> <td> 0.765</td> <td>   -1.464</td> <td>    1.990</td>\n",
       "</tr>\n",
       "<tr>\n",
       "  <th>C(Reported_Facility_Type)[T.Non-Refrigerated Warehouse]</th> <td>    0.5023</td> <td>    0.910</td> <td>    0.552</td> <td> 0.581</td> <td>   -1.281</td> <td>    2.286</td>\n",
       "</tr>\n",
       "<tr>\n",
       "  <th>C(Reported_Facility_Type)[T.Office]</th>                     <td>    1.2219</td> <td>    0.885</td> <td>    1.381</td> <td> 0.168</td> <td>   -0.514</td> <td>    2.958</td>\n",
       "</tr>\n",
       "<tr>\n",
       "  <th>C(Reported_Facility_Type)[T.Residence Hall/Dormitory]</th>   <td>    1.1750</td> <td>    0.909</td> <td>    1.292</td> <td> 0.197</td> <td>   -0.609</td> <td>    2.958</td>\n",
       "</tr>\n",
       "<tr>\n",
       "  <th>C(Reported_Facility_Type)[T.Retail Store]</th>               <td>    0.6641</td> <td>    1.245</td> <td>    0.533</td> <td> 0.594</td> <td>   -1.778</td> <td>    3.106</td>\n",
       "</tr>\n",
       "<tr>\n",
       "  <th>C(Reported_Facility_Type)[T.Senior Care Community]</th>      <td>    1.2789</td> <td>    0.934</td> <td>    1.369</td> <td> 0.171</td> <td>   -0.553</td> <td>    3.111</td>\n",
       "</tr>\n",
       "<tr>\n",
       "  <th>C(Reported_Facility_Type)[T.Worship Facility]</th>           <td>    1.2857</td> <td>    1.078</td> <td>    1.192</td> <td> 0.233</td> <td>   -0.829</td> <td>    3.400</td>\n",
       "</tr>\n",
       "<tr>\n",
       "  <th>Energy_efficiency</th>                                       <td>   -0.3250</td> <td>    0.078</td> <td>   -4.143</td> <td> 0.000</td> <td>   -0.479</td> <td>   -0.171</td>\n",
       "</tr>\n",
       "</table>\n",
       "<table class=\"simpletable\">\n",
       "<tr>\n",
       "  <th>Omnibus:</th>       <td>21.958</td> <th>  Durbin-Watson:     </th> <td>   1.958</td>\n",
       "</tr>\n",
       "<tr>\n",
       "  <th>Prob(Omnibus):</th> <td> 0.000</td> <th>  Jarque-Bera (JB):  </th> <td>  23.275</td>\n",
       "</tr>\n",
       "<tr>\n",
       "  <th>Skew:</th>          <td>-0.215</td> <th>  Prob(JB):          </th> <td>8.83e-06</td>\n",
       "</tr>\n",
       "<tr>\n",
       "  <th>Kurtosis:</th>      <td> 3.274</td> <th>  Cond. No.          </th> <td>    289.</td>\n",
       "</tr>\n",
       "</table>"
      ],
      "text/plain": [
       "<class 'statsmodels.iolib.summary.Summary'>\n",
       "\"\"\"\n",
       "                            OLS Regression Results                            \n",
       "==============================================================================\n",
       "Dep. Variable:                  VALUE   R-squared:                       0.080\n",
       "Model:                            OLS   Adj. R-squared:                  0.074\n",
       "Method:                 Least Squares   F-statistic:                     13.25\n",
       "Date:                Mon, 20 Nov 2017   Prob (F-statistic):           1.40e-30\n",
       "Time:                        13:18:24   Log-Likelihood:                -2765.6\n",
       "No. Observations:                2147   AIC:                             5561.\n",
       "Df Residuals:                    2132   BIC:                             5646.\n",
       "Df Model:                          14                                         \n",
       "Covariance Type:            nonrobust                                         \n",
       "===========================================================================================================================\n",
       "                                                              coef    std err          t      P>|t|      [0.025      0.975]\n",
       "---------------------------------------------------------------------------------------------------------------------------\n",
       "Intercept                                                  -4.0735      0.883     -4.611      0.000      -5.806      -2.341\n",
       "C(Reported_Water_Method)[T.Manual]                          0.2726      0.131      2.085      0.037       0.016       0.529\n",
       "C(Reported_Facility_Type)[T.Distribution Center]            0.3739      0.965      0.388      0.698      -1.518       2.265\n",
       "C(Reported_Facility_Type)[T.Financial Office]               1.1489      1.252      0.918      0.359      -1.307       3.605\n",
       "C(Reported_Facility_Type)[T.Hotel]                          1.1193      0.984      1.137      0.256      -0.811       3.050\n",
       "C(Reported_Facility_Type)[T.K-12 School]                    1.2492      0.984      1.269      0.205      -0.681       3.180\n",
       "C(Reported_Facility_Type)[T.Medical Office]                 1.3159      1.018      1.293      0.196      -0.680       3.311\n",
       "C(Reported_Facility_Type)[T.Multifamily Housing]            0.2633      0.881      0.299      0.765      -1.464       1.990\n",
       "C(Reported_Facility_Type)[T.Non-Refrigerated Warehouse]     0.5023      0.910      0.552      0.581      -1.281       2.286\n",
       "C(Reported_Facility_Type)[T.Office]                         1.2219      0.885      1.381      0.168      -0.514       2.958\n",
       "C(Reported_Facility_Type)[T.Residence Hall/Dormitory]       1.1750      0.909      1.292      0.197      -0.609       2.958\n",
       "C(Reported_Facility_Type)[T.Retail Store]                   0.6641      1.245      0.533      0.594      -1.778       3.106\n",
       "C(Reported_Facility_Type)[T.Senior Care Community]          1.2789      0.934      1.369      0.171      -0.553       3.111\n",
       "C(Reported_Facility_Type)[T.Worship Facility]               1.2857      1.078      1.192      0.233      -0.829       3.400\n",
       "Energy_efficiency                                          -0.3250      0.078     -4.143      0.000      -0.479      -0.171\n",
       "==============================================================================\n",
       "Omnibus:                       21.958   Durbin-Watson:                   1.958\n",
       "Prob(Omnibus):                  0.000   Jarque-Bera (JB):               23.275\n",
       "Skew:                          -0.215   Prob(JB):                     8.83e-06\n",
       "Kurtosis:                       3.274   Cond. No.                         289.\n",
       "==============================================================================\n",
       "\n",
       "Warnings:\n",
       "[1] Standard Errors assume that the covariance matrix of the errors is correctly specified.\n",
       "\"\"\""
      ]
     },
     "execution_count": 547,
     "metadata": {},
     "output_type": "execute_result"
    }
   ],
   "source": [
    "loglog1 = smf.ols(formula='VALUE~Energy_efficiency+C(Benchmarking_Submission)+C(Reported_Water_Method)+C(Reported_Facility_Type)'\n",
    "             ,data=train).fit()\n",
    "loglog1.summary()"
   ]
  },
  {
   "cell_type": "code",
   "execution_count": 548,
   "metadata": {},
   "outputs": [],
   "source": [
    "pvalues = loglog1.pvalues"
   ]
  },
  {
   "cell_type": "code",
   "execution_count": 549,
   "metadata": {},
   "outputs": [
    {
     "data": {
      "text/plain": [
       "Intercept                                                  0.000004\n",
       "Energy_efficiency                                          0.000036\n",
       "C(Reported_Water_Method)[T.Manual]                         0.037223\n",
       "C(Reported_Facility_Type)[T.Office]                        0.167535\n",
       "C(Reported_Facility_Type)[T.Senior Care Community]         0.171057\n",
       "C(Reported_Facility_Type)[T.Medical Office]                0.196116\n",
       "C(Reported_Facility_Type)[T.Residence Hall/Dormitory]      0.196515\n",
       "C(Reported_Facility_Type)[T.K-12 School]                   0.204574\n",
       "C(Reported_Facility_Type)[T.Worship Facility]              0.233267\n",
       "C(Reported_Facility_Type)[T.Hotel]                         0.255651\n",
       "C(Reported_Facility_Type)[T.Financial Office]              0.358973\n",
       "C(Reported_Facility_Type)[T.Non-Refrigerated Warehouse]    0.580818\n",
       "C(Reported_Facility_Type)[T.Retail Store]                  0.593886\n",
       "C(Reported_Facility_Type)[T.Distribution Center]           0.698325\n",
       "C(Reported_Facility_Type)[T.Multifamily Housing]           0.764991\n",
       "dtype: float64"
      ]
     },
     "execution_count": 549,
     "metadata": {},
     "output_type": "execute_result"
    }
   ],
   "source": [
    "pvalues.sort_values(ascending=True)"
   ]
  },
  {
   "cell_type": "code",
   "execution_count": 550,
   "metadata": {},
   "outputs": [
    {
     "data": {
      "text/plain": [
       "0.01400133066561704"
      ]
     },
     "execution_count": 550,
     "metadata": {},
     "output_type": "execute_result"
    }
   ],
   "source": [
    "AdjR2('Energy_efficiency')[0]"
   ]
  },
  {
   "cell_type": "code",
   "execution_count": 551,
   "metadata": {},
   "outputs": [
    {
     "data": {
      "text/plain": [
       "0.018888723646621752"
      ]
     },
     "execution_count": 551,
     "metadata": {},
     "output_type": "execute_result"
    }
   ],
   "source": [
    "AdjR2('Energy_efficiency+C(Reported_Water_Method)')[0]"
   ]
  },
  {
   "cell_type": "code",
   "execution_count": 552,
   "metadata": {
    "scrolled": false
   },
   "outputs": [
    {
     "data": {
      "text/plain": [
       "0.096349950639519233"
      ]
     },
     "execution_count": 552,
     "metadata": {},
     "output_type": "execute_result"
    }
   ],
   "source": [
    "AdjR2('Energy_efficiency+C(Reported_Water_Method)+C(Reported_Facility_Type)')[0]"
   ]
  },
  {
   "cell_type": "code",
   "execution_count": 553,
   "metadata": {
    "scrolled": true
   },
   "outputs": [
    {
     "data": {
      "text/html": [
       "<table class=\"simpletable\">\n",
       "<caption>OLS Regression Results</caption>\n",
       "<tr>\n",
       "  <th>Dep. Variable:</th>          <td>VALUE</td>      <th>  R-squared:         </th> <td>   0.080</td>\n",
       "</tr>\n",
       "<tr>\n",
       "  <th>Model:</th>                   <td>OLS</td>       <th>  Adj. R-squared:    </th> <td>   0.074</td>\n",
       "</tr>\n",
       "<tr>\n",
       "  <th>Method:</th>             <td>Least Squares</td>  <th>  F-statistic:       </th> <td>   13.25</td>\n",
       "</tr>\n",
       "<tr>\n",
       "  <th>Date:</th>             <td>Mon, 20 Nov 2017</td> <th>  Prob (F-statistic):</th> <td>1.40e-30</td>\n",
       "</tr>\n",
       "<tr>\n",
       "  <th>Time:</th>                 <td>13:18:33</td>     <th>  Log-Likelihood:    </th> <td> -2765.6</td>\n",
       "</tr>\n",
       "<tr>\n",
       "  <th>No. Observations:</th>      <td>  2147</td>      <th>  AIC:               </th> <td>   5561.</td>\n",
       "</tr>\n",
       "<tr>\n",
       "  <th>Df Residuals:</th>          <td>  2132</td>      <th>  BIC:               </th> <td>   5646.</td>\n",
       "</tr>\n",
       "<tr>\n",
       "  <th>Df Model:</th>              <td>    14</td>      <th>                     </th>     <td> </td>   \n",
       "</tr>\n",
       "<tr>\n",
       "  <th>Covariance Type:</th>      <td>nonrobust</td>    <th>                     </th>     <td> </td>   \n",
       "</tr>\n",
       "</table>\n",
       "<table class=\"simpletable\">\n",
       "<tr>\n",
       "                             <td></td>                                <th>coef</th>     <th>std err</th>      <th>t</th>      <th>P>|t|</th>  <th>[0.025</th>    <th>0.975]</th>  \n",
       "</tr>\n",
       "<tr>\n",
       "  <th>Intercept</th>                                               <td>   -4.0735</td> <td>    0.883</td> <td>   -4.611</td> <td> 0.000</td> <td>   -5.806</td> <td>   -2.341</td>\n",
       "</tr>\n",
       "<tr>\n",
       "  <th>C(Reported_Water_Method)[T.Manual]</th>                      <td>    0.2726</td> <td>    0.131</td> <td>    2.085</td> <td> 0.037</td> <td>    0.016</td> <td>    0.529</td>\n",
       "</tr>\n",
       "<tr>\n",
       "  <th>C(Reported_Facility_Type)[T.Distribution Center]</th>        <td>    0.3739</td> <td>    0.965</td> <td>    0.388</td> <td> 0.698</td> <td>   -1.518</td> <td>    2.265</td>\n",
       "</tr>\n",
       "<tr>\n",
       "  <th>C(Reported_Facility_Type)[T.Financial Office]</th>           <td>    1.1489</td> <td>    1.252</td> <td>    0.918</td> <td> 0.359</td> <td>   -1.307</td> <td>    3.605</td>\n",
       "</tr>\n",
       "<tr>\n",
       "  <th>C(Reported_Facility_Type)[T.Hotel]</th>                      <td>    1.1193</td> <td>    0.984</td> <td>    1.137</td> <td> 0.256</td> <td>   -0.811</td> <td>    3.050</td>\n",
       "</tr>\n",
       "<tr>\n",
       "  <th>C(Reported_Facility_Type)[T.K-12 School]</th>                <td>    1.2492</td> <td>    0.984</td> <td>    1.269</td> <td> 0.205</td> <td>   -0.681</td> <td>    3.180</td>\n",
       "</tr>\n",
       "<tr>\n",
       "  <th>C(Reported_Facility_Type)[T.Medical Office]</th>             <td>    1.3159</td> <td>    1.018</td> <td>    1.293</td> <td> 0.196</td> <td>   -0.680</td> <td>    3.311</td>\n",
       "</tr>\n",
       "<tr>\n",
       "  <th>C(Reported_Facility_Type)[T.Multifamily Housing]</th>        <td>    0.2633</td> <td>    0.881</td> <td>    0.299</td> <td> 0.765</td> <td>   -1.464</td> <td>    1.990</td>\n",
       "</tr>\n",
       "<tr>\n",
       "  <th>C(Reported_Facility_Type)[T.Non-Refrigerated Warehouse]</th> <td>    0.5023</td> <td>    0.910</td> <td>    0.552</td> <td> 0.581</td> <td>   -1.281</td> <td>    2.286</td>\n",
       "</tr>\n",
       "<tr>\n",
       "  <th>C(Reported_Facility_Type)[T.Office]</th>                     <td>    1.2219</td> <td>    0.885</td> <td>    1.381</td> <td> 0.168</td> <td>   -0.514</td> <td>    2.958</td>\n",
       "</tr>\n",
       "<tr>\n",
       "  <th>C(Reported_Facility_Type)[T.Residence Hall/Dormitory]</th>   <td>    1.1750</td> <td>    0.909</td> <td>    1.292</td> <td> 0.197</td> <td>   -0.609</td> <td>    2.958</td>\n",
       "</tr>\n",
       "<tr>\n",
       "  <th>C(Reported_Facility_Type)[T.Retail Store]</th>               <td>    0.6641</td> <td>    1.245</td> <td>    0.533</td> <td> 0.594</td> <td>   -1.778</td> <td>    3.106</td>\n",
       "</tr>\n",
       "<tr>\n",
       "  <th>C(Reported_Facility_Type)[T.Senior Care Community]</th>      <td>    1.2789</td> <td>    0.934</td> <td>    1.369</td> <td> 0.171</td> <td>   -0.553</td> <td>    3.111</td>\n",
       "</tr>\n",
       "<tr>\n",
       "  <th>C(Reported_Facility_Type)[T.Worship Facility]</th>           <td>    1.2857</td> <td>    1.078</td> <td>    1.192</td> <td> 0.233</td> <td>   -0.829</td> <td>    3.400</td>\n",
       "</tr>\n",
       "<tr>\n",
       "  <th>Energy_efficiency</th>                                       <td>   -0.3250</td> <td>    0.078</td> <td>   -4.143</td> <td> 0.000</td> <td>   -0.479</td> <td>   -0.171</td>\n",
       "</tr>\n",
       "</table>\n",
       "<table class=\"simpletable\">\n",
       "<tr>\n",
       "  <th>Omnibus:</th>       <td>21.958</td> <th>  Durbin-Watson:     </th> <td>   1.958</td>\n",
       "</tr>\n",
       "<tr>\n",
       "  <th>Prob(Omnibus):</th> <td> 0.000</td> <th>  Jarque-Bera (JB):  </th> <td>  23.275</td>\n",
       "</tr>\n",
       "<tr>\n",
       "  <th>Skew:</th>          <td>-0.215</td> <th>  Prob(JB):          </th> <td>8.83e-06</td>\n",
       "</tr>\n",
       "<tr>\n",
       "  <th>Kurtosis:</th>      <td> 3.274</td> <th>  Cond. No.          </th> <td>    289.</td>\n",
       "</tr>\n",
       "</table>"
      ],
      "text/plain": [
       "<class 'statsmodels.iolib.summary.Summary'>\n",
       "\"\"\"\n",
       "                            OLS Regression Results                            \n",
       "==============================================================================\n",
       "Dep. Variable:                  VALUE   R-squared:                       0.080\n",
       "Model:                            OLS   Adj. R-squared:                  0.074\n",
       "Method:                 Least Squares   F-statistic:                     13.25\n",
       "Date:                Mon, 20 Nov 2017   Prob (F-statistic):           1.40e-30\n",
       "Time:                        13:18:33   Log-Likelihood:                -2765.6\n",
       "No. Observations:                2147   AIC:                             5561.\n",
       "Df Residuals:                    2132   BIC:                             5646.\n",
       "Df Model:                          14                                         \n",
       "Covariance Type:            nonrobust                                         \n",
       "===========================================================================================================================\n",
       "                                                              coef    std err          t      P>|t|      [0.025      0.975]\n",
       "---------------------------------------------------------------------------------------------------------------------------\n",
       "Intercept                                                  -4.0735      0.883     -4.611      0.000      -5.806      -2.341\n",
       "C(Reported_Water_Method)[T.Manual]                          0.2726      0.131      2.085      0.037       0.016       0.529\n",
       "C(Reported_Facility_Type)[T.Distribution Center]            0.3739      0.965      0.388      0.698      -1.518       2.265\n",
       "C(Reported_Facility_Type)[T.Financial Office]               1.1489      1.252      0.918      0.359      -1.307       3.605\n",
       "C(Reported_Facility_Type)[T.Hotel]                          1.1193      0.984      1.137      0.256      -0.811       3.050\n",
       "C(Reported_Facility_Type)[T.K-12 School]                    1.2492      0.984      1.269      0.205      -0.681       3.180\n",
       "C(Reported_Facility_Type)[T.Medical Office]                 1.3159      1.018      1.293      0.196      -0.680       3.311\n",
       "C(Reported_Facility_Type)[T.Multifamily Housing]            0.2633      0.881      0.299      0.765      -1.464       1.990\n",
       "C(Reported_Facility_Type)[T.Non-Refrigerated Warehouse]     0.5023      0.910      0.552      0.581      -1.281       2.286\n",
       "C(Reported_Facility_Type)[T.Office]                         1.2219      0.885      1.381      0.168      -0.514       2.958\n",
       "C(Reported_Facility_Type)[T.Residence Hall/Dormitory]       1.1750      0.909      1.292      0.197      -0.609       2.958\n",
       "C(Reported_Facility_Type)[T.Retail Store]                   0.6641      1.245      0.533      0.594      -1.778       3.106\n",
       "C(Reported_Facility_Type)[T.Senior Care Community]          1.2789      0.934      1.369      0.171      -0.553       3.111\n",
       "C(Reported_Facility_Type)[T.Worship Facility]               1.2857      1.078      1.192      0.233      -0.829       3.400\n",
       "Energy_efficiency                                          -0.3250      0.078     -4.143      0.000      -0.479      -0.171\n",
       "==============================================================================\n",
       "Omnibus:                       21.958   Durbin-Watson:                   1.958\n",
       "Prob(Omnibus):                  0.000   Jarque-Bera (JB):               23.275\n",
       "Skew:                          -0.215   Prob(JB):                     8.83e-06\n",
       "Kurtosis:                       3.274   Cond. No.                         289.\n",
       "==============================================================================\n",
       "\n",
       "Warnings:\n",
       "[1] Standard Errors assume that the covariance matrix of the errors is correctly specified.\n",
       "\"\"\""
      ]
     },
     "execution_count": 553,
     "metadata": {},
     "output_type": "execute_result"
    }
   ],
   "source": [
    "lm = smf.ols(formula='VALUE~Energy_efficiency+C(Reported_Water_Method)+C(Reported_Facility_Type)'\n",
    "             ,data=train).fit()\n",
    "lm.summary()"
   ]
  },
  {
   "cell_type": "markdown",
   "metadata": {},
   "source": [
    "### Semi-log Linear Regression"
   ]
  },
  {
   "cell_type": "code",
   "execution_count": 560,
   "metadata": {},
   "outputs": [],
   "source": [
    "semilog = merged16.copy()"
   ]
  },
  {
   "cell_type": "code",
   "execution_count": 561,
   "metadata": {
    "scrolled": true
   },
   "outputs": [
    {
     "name": "stderr",
     "output_type": "stream",
     "text": [
      "C:\\Users\\sddz0\\Anaconda2\\lib\\site-packages\\ipykernel_launcher.py:1: RuntimeWarning: divide by zero encountered in log\n",
      "  \"\"\"Entry point for launching an IPython kernel.\n"
     ]
    }
   ],
   "source": [
    "semilog.VALUE = np.log(semilog.VALUE)"
   ]
  },
  {
   "cell_type": "code",
   "execution_count": 562,
   "metadata": {},
   "outputs": [],
   "source": [
    "semilog = semilog.sort_values(by='VALUE').iloc[1:,:]"
   ]
  },
  {
   "cell_type": "code",
   "execution_count": 563,
   "metadata": {},
   "outputs": [],
   "source": [
    "train, test = train_test_split(semilog,test_size = 0.2)"
   ]
  },
  {
   "cell_type": "code",
   "execution_count": 564,
   "metadata": {},
   "outputs": [
    {
     "data": {
      "text/html": [
       "<table class=\"simpletable\">\n",
       "<caption>OLS Regression Results</caption>\n",
       "<tr>\n",
       "  <th>Dep. Variable:</th>          <td>VALUE</td>      <th>  R-squared:         </th> <td>   0.073</td>\n",
       "</tr>\n",
       "<tr>\n",
       "  <th>Model:</th>                   <td>OLS</td>       <th>  Adj. R-squared:    </th> <td>   0.067</td>\n",
       "</tr>\n",
       "<tr>\n",
       "  <th>Method:</th>             <td>Least Squares</td>  <th>  F-statistic:       </th> <td>   12.02</td>\n",
       "</tr>\n",
       "<tr>\n",
       "  <th>Date:</th>             <td>Mon, 20 Nov 2017</td> <th>  Prob (F-statistic):</th> <td>2.28e-27</td>\n",
       "</tr>\n",
       "<tr>\n",
       "  <th>Time:</th>                 <td>13:22:35</td>     <th>  Log-Likelihood:    </th> <td> -2745.8</td>\n",
       "</tr>\n",
       "<tr>\n",
       "  <th>No. Observations:</th>      <td>  2147</td>      <th>  AIC:               </th> <td>   5522.</td>\n",
       "</tr>\n",
       "<tr>\n",
       "  <th>Df Residuals:</th>          <td>  2132</td>      <th>  BIC:               </th> <td>   5607.</td>\n",
       "</tr>\n",
       "<tr>\n",
       "  <th>Df Model:</th>              <td>    14</td>      <th>                     </th>     <td> </td>   \n",
       "</tr>\n",
       "<tr>\n",
       "  <th>Covariance Type:</th>      <td>nonrobust</td>    <th>                     </th>     <td> </td>   \n",
       "</tr>\n",
       "</table>\n",
       "<table class=\"simpletable\">\n",
       "<tr>\n",
       "                             <td></td>                                <th>coef</th>     <th>std err</th>      <th>t</th>      <th>P>|t|</th>  <th>[0.025</th>    <th>0.975]</th>  \n",
       "</tr>\n",
       "<tr>\n",
       "  <th>Intercept</th>                                               <td>   -4.3981</td> <td>    0.872</td> <td>   -5.041</td> <td> 0.000</td> <td>   -6.109</td> <td>   -2.687</td>\n",
       "</tr>\n",
       "<tr>\n",
       "  <th>C(Reported_Water_Method)[T.Manual]</th>                      <td>    0.3492</td> <td>    0.126</td> <td>    2.762</td> <td> 0.006</td> <td>    0.101</td> <td>    0.597</td>\n",
       "</tr>\n",
       "<tr>\n",
       "  <th>C(Reported_Facility_Type)[T.Distribution Center]</th>        <td>    0.4013</td> <td>    0.976</td> <td>    0.411</td> <td> 0.681</td> <td>   -1.512</td> <td>    2.314</td>\n",
       "</tr>\n",
       "<tr>\n",
       "  <th>C(Reported_Facility_Type)[T.Financial Office]</th>           <td>    1.0738</td> <td>    1.240</td> <td>    0.866</td> <td> 0.387</td> <td>   -1.359</td> <td>    3.506</td>\n",
       "</tr>\n",
       "<tr>\n",
       "  <th>C(Reported_Facility_Type)[T.Hotel]</th>                      <td>    1.1404</td> <td>    0.975</td> <td>    1.169</td> <td> 0.242</td> <td>   -0.772</td> <td>    3.053</td>\n",
       "</tr>\n",
       "<tr>\n",
       "  <th>C(Reported_Facility_Type)[T.K-12 School]</th>                <td>    1.2249</td> <td>    1.007</td> <td>    1.216</td> <td> 0.224</td> <td>   -0.751</td> <td>    3.200</td>\n",
       "</tr>\n",
       "<tr>\n",
       "  <th>C(Reported_Facility_Type)[T.Medical Office]</th>             <td>    1.2437</td> <td>    1.007</td> <td>    1.235</td> <td> 0.217</td> <td>   -0.732</td> <td>    3.219</td>\n",
       "</tr>\n",
       "<tr>\n",
       "  <th>C(Reported_Facility_Type)[T.Multifamily Housing]</th>        <td>    0.2645</td> <td>    0.873</td> <td>    0.303</td> <td> 0.762</td> <td>   -1.447</td> <td>    1.976</td>\n",
       "</tr>\n",
       "<tr>\n",
       "  <th>C(Reported_Facility_Type)[T.Non-Refrigerated Warehouse]</th> <td>    0.4943</td> <td>    0.903</td> <td>    0.547</td> <td> 0.584</td> <td>   -1.277</td> <td>    2.266</td>\n",
       "</tr>\n",
       "<tr>\n",
       "  <th>C(Reported_Facility_Type)[T.Office]</th>                     <td>    1.1712</td> <td>    0.877</td> <td>    1.336</td> <td> 0.182</td> <td>   -0.549</td> <td>    2.891</td>\n",
       "</tr>\n",
       "<tr>\n",
       "  <th>C(Reported_Facility_Type)[T.Residence Hall/Dormitory]</th>   <td>    0.9749</td> <td>    0.911</td> <td>    1.070</td> <td> 0.285</td> <td>   -0.812</td> <td>    2.762</td>\n",
       "</tr>\n",
       "<tr>\n",
       "  <th>C(Reported_Facility_Type)[T.Retail Store]</th>               <td>    0.6649</td> <td>    1.234</td> <td>    0.539</td> <td> 0.590</td> <td>   -1.755</td> <td>    3.084</td>\n",
       "</tr>\n",
       "<tr>\n",
       "  <th>C(Reported_Facility_Type)[T.Senior Care Community]</th>      <td>    1.1655</td> <td>    0.911</td> <td>    1.279</td> <td> 0.201</td> <td>   -0.621</td> <td>    2.953</td>\n",
       "</tr>\n",
       "<tr>\n",
       "  <th>C(Reported_Facility_Type)[T.Worship Facility]</th>           <td>    1.6754</td> <td>    1.234</td> <td>    1.358</td> <td> 0.175</td> <td>   -0.744</td> <td>    4.095</td>\n",
       "</tr>\n",
       "<tr>\n",
       "  <th>Energy_efficiency</th>                                       <td>   -0.3195</td> <td>    0.079</td> <td>   -4.063</td> <td> 0.000</td> <td>   -0.474</td> <td>   -0.165</td>\n",
       "</tr>\n",
       "</table>\n",
       "<table class=\"simpletable\">\n",
       "<tr>\n",
       "  <th>Omnibus:</th>       <td> 9.757</td> <th>  Durbin-Watson:     </th> <td>   1.992</td>\n",
       "</tr>\n",
       "<tr>\n",
       "  <th>Prob(Omnibus):</th> <td> 0.008</td> <th>  Jarque-Bera (JB):  </th> <td>   8.476</td>\n",
       "</tr>\n",
       "<tr>\n",
       "  <th>Skew:</th>          <td>-0.093</td> <th>  Prob(JB):          </th> <td>  0.0144</td>\n",
       "</tr>\n",
       "<tr>\n",
       "  <th>Kurtosis:</th>      <td> 2.755</td> <th>  Cond. No.          </th> <td>    233.</td>\n",
       "</tr>\n",
       "</table>"
      ],
      "text/plain": [
       "<class 'statsmodels.iolib.summary.Summary'>\n",
       "\"\"\"\n",
       "                            OLS Regression Results                            \n",
       "==============================================================================\n",
       "Dep. Variable:                  VALUE   R-squared:                       0.073\n",
       "Model:                            OLS   Adj. R-squared:                  0.067\n",
       "Method:                 Least Squares   F-statistic:                     12.02\n",
       "Date:                Mon, 20 Nov 2017   Prob (F-statistic):           2.28e-27\n",
       "Time:                        13:22:35   Log-Likelihood:                -2745.8\n",
       "No. Observations:                2147   AIC:                             5522.\n",
       "Df Residuals:                    2132   BIC:                             5607.\n",
       "Df Model:                          14                                         \n",
       "Covariance Type:            nonrobust                                         \n",
       "===========================================================================================================================\n",
       "                                                              coef    std err          t      P>|t|      [0.025      0.975]\n",
       "---------------------------------------------------------------------------------------------------------------------------\n",
       "Intercept                                                  -4.3981      0.872     -5.041      0.000      -6.109      -2.687\n",
       "C(Reported_Water_Method)[T.Manual]                          0.3492      0.126      2.762      0.006       0.101       0.597\n",
       "C(Reported_Facility_Type)[T.Distribution Center]            0.4013      0.976      0.411      0.681      -1.512       2.314\n",
       "C(Reported_Facility_Type)[T.Financial Office]               1.0738      1.240      0.866      0.387      -1.359       3.506\n",
       "C(Reported_Facility_Type)[T.Hotel]                          1.1404      0.975      1.169      0.242      -0.772       3.053\n",
       "C(Reported_Facility_Type)[T.K-12 School]                    1.2249      1.007      1.216      0.224      -0.751       3.200\n",
       "C(Reported_Facility_Type)[T.Medical Office]                 1.2437      1.007      1.235      0.217      -0.732       3.219\n",
       "C(Reported_Facility_Type)[T.Multifamily Housing]            0.2645      0.873      0.303      0.762      -1.447       1.976\n",
       "C(Reported_Facility_Type)[T.Non-Refrigerated Warehouse]     0.4943      0.903      0.547      0.584      -1.277       2.266\n",
       "C(Reported_Facility_Type)[T.Office]                         1.1712      0.877      1.336      0.182      -0.549       2.891\n",
       "C(Reported_Facility_Type)[T.Residence Hall/Dormitory]       0.9749      0.911      1.070      0.285      -0.812       2.762\n",
       "C(Reported_Facility_Type)[T.Retail Store]                   0.6649      1.234      0.539      0.590      -1.755       3.084\n",
       "C(Reported_Facility_Type)[T.Senior Care Community]          1.1655      0.911      1.279      0.201      -0.621       2.953\n",
       "C(Reported_Facility_Type)[T.Worship Facility]               1.6754      1.234      1.358      0.175      -0.744       4.095\n",
       "Energy_efficiency                                          -0.3195      0.079     -4.063      0.000      -0.474      -0.165\n",
       "==============================================================================\n",
       "Omnibus:                        9.757   Durbin-Watson:                   1.992\n",
       "Prob(Omnibus):                  0.008   Jarque-Bera (JB):                8.476\n",
       "Skew:                          -0.093   Prob(JB):                       0.0144\n",
       "Kurtosis:                       2.755   Cond. No.                         233.\n",
       "==============================================================================\n",
       "\n",
       "Warnings:\n",
       "[1] Standard Errors assume that the covariance matrix of the errors is correctly specified.\n",
       "\"\"\""
      ]
     },
     "execution_count": 564,
     "metadata": {},
     "output_type": "execute_result"
    }
   ],
   "source": [
    "semilog1 = smf.ols(formula='VALUE~Energy_efficiency+C(Benchmarking_Submission)+C(Reported_Water_Method)+C(Reported_Facility_Type)'\n",
    "             ,data=train).fit()\n",
    "semilog1.summary()"
   ]
  },
  {
   "cell_type": "code",
   "execution_count": 565,
   "metadata": {},
   "outputs": [],
   "source": [
    "pvalues = semilog1.pvalues"
   ]
  },
  {
   "cell_type": "code",
   "execution_count": 566,
   "metadata": {},
   "outputs": [
    {
     "data": {
      "text/plain": [
       "Intercept                                                  5.009120e-07\n",
       "Energy_efficiency                                          5.023224e-05\n",
       "C(Reported_Water_Method)[T.Manual]                         5.800131e-03\n",
       "C(Reported_Facility_Type)[T.Worship Facility]              1.746069e-01\n",
       "C(Reported_Facility_Type)[T.Office]                        1.818384e-01\n",
       "C(Reported_Facility_Type)[T.Senior Care Community]         2.010179e-01\n",
       "C(Reported_Facility_Type)[T.Medical Office]                2.171121e-01\n",
       "C(Reported_Facility_Type)[T.K-12 School]                   2.241410e-01\n",
       "C(Reported_Facility_Type)[T.Hotel]                         2.424479e-01\n",
       "C(Reported_Facility_Type)[T.Residence Hall/Dormitory]      2.848254e-01\n",
       "C(Reported_Facility_Type)[T.Financial Office]              3.867367e-01\n",
       "C(Reported_Facility_Type)[T.Non-Refrigerated Warehouse]    5.842424e-01\n",
       "C(Reported_Facility_Type)[T.Retail Store]                  5.899962e-01\n",
       "C(Reported_Facility_Type)[T.Distribution Center]           6.808106e-01\n",
       "C(Reported_Facility_Type)[T.Multifamily Housing]           7.618372e-01\n",
       "dtype: float64"
      ]
     },
     "execution_count": 566,
     "metadata": {},
     "output_type": "execute_result"
    }
   ],
   "source": [
    "pvalues.sort_values(ascending=True)"
   ]
  },
  {
   "cell_type": "code",
   "execution_count": 567,
   "metadata": {},
   "outputs": [
    {
     "data": {
      "text/plain": [
       "0.015137896948479224"
      ]
     },
     "execution_count": 567,
     "metadata": {},
     "output_type": "execute_result"
    }
   ],
   "source": [
    "AdjR2('Energy_efficiency')[0]"
   ]
  },
  {
   "cell_type": "code",
   "execution_count": 568,
   "metadata": {},
   "outputs": [
    {
     "data": {
      "text/plain": [
       "0.017012855637926871"
      ]
     },
     "execution_count": 568,
     "metadata": {},
     "output_type": "execute_result"
    }
   ],
   "source": [
    "AdjR2('Energy_efficiency+C(Reported_Water_Method)')[0]"
   ]
  },
  {
   "cell_type": "code",
   "execution_count": 569,
   "metadata": {
    "scrolled": false
   },
   "outputs": [
    {
     "data": {
      "text/plain": [
       "0.11724082504310751"
      ]
     },
     "execution_count": 569,
     "metadata": {},
     "output_type": "execute_result"
    }
   ],
   "source": [
    "AdjR2('Energy_efficiency+C(Reported_Water_Method)+C(Reported_Facility_Type)')[0]"
   ]
  },
  {
   "cell_type": "code",
   "execution_count": 570,
   "metadata": {
    "scrolled": true
   },
   "outputs": [
    {
     "data": {
      "text/html": [
       "<table class=\"simpletable\">\n",
       "<caption>OLS Regression Results</caption>\n",
       "<tr>\n",
       "  <th>Dep. Variable:</th>          <td>VALUE</td>      <th>  R-squared:         </th> <td>   0.073</td>\n",
       "</tr>\n",
       "<tr>\n",
       "  <th>Model:</th>                   <td>OLS</td>       <th>  Adj. R-squared:    </th> <td>   0.067</td>\n",
       "</tr>\n",
       "<tr>\n",
       "  <th>Method:</th>             <td>Least Squares</td>  <th>  F-statistic:       </th> <td>   12.02</td>\n",
       "</tr>\n",
       "<tr>\n",
       "  <th>Date:</th>             <td>Mon, 20 Nov 2017</td> <th>  Prob (F-statistic):</th> <td>2.28e-27</td>\n",
       "</tr>\n",
       "<tr>\n",
       "  <th>Time:</th>                 <td>13:24:43</td>     <th>  Log-Likelihood:    </th> <td> -2745.8</td>\n",
       "</tr>\n",
       "<tr>\n",
       "  <th>No. Observations:</th>      <td>  2147</td>      <th>  AIC:               </th> <td>   5522.</td>\n",
       "</tr>\n",
       "<tr>\n",
       "  <th>Df Residuals:</th>          <td>  2132</td>      <th>  BIC:               </th> <td>   5607.</td>\n",
       "</tr>\n",
       "<tr>\n",
       "  <th>Df Model:</th>              <td>    14</td>      <th>                     </th>     <td> </td>   \n",
       "</tr>\n",
       "<tr>\n",
       "  <th>Covariance Type:</th>      <td>nonrobust</td>    <th>                     </th>     <td> </td>   \n",
       "</tr>\n",
       "</table>\n",
       "<table class=\"simpletable\">\n",
       "<tr>\n",
       "                             <td></td>                                <th>coef</th>     <th>std err</th>      <th>t</th>      <th>P>|t|</th>  <th>[0.025</th>    <th>0.975]</th>  \n",
       "</tr>\n",
       "<tr>\n",
       "  <th>Intercept</th>                                               <td>   -4.3981</td> <td>    0.872</td> <td>   -5.041</td> <td> 0.000</td> <td>   -6.109</td> <td>   -2.687</td>\n",
       "</tr>\n",
       "<tr>\n",
       "  <th>C(Reported_Water_Method)[T.Manual]</th>                      <td>    0.3492</td> <td>    0.126</td> <td>    2.762</td> <td> 0.006</td> <td>    0.101</td> <td>    0.597</td>\n",
       "</tr>\n",
       "<tr>\n",
       "  <th>C(Reported_Facility_Type)[T.Distribution Center]</th>        <td>    0.4013</td> <td>    0.976</td> <td>    0.411</td> <td> 0.681</td> <td>   -1.512</td> <td>    2.314</td>\n",
       "</tr>\n",
       "<tr>\n",
       "  <th>C(Reported_Facility_Type)[T.Financial Office]</th>           <td>    1.0738</td> <td>    1.240</td> <td>    0.866</td> <td> 0.387</td> <td>   -1.359</td> <td>    3.506</td>\n",
       "</tr>\n",
       "<tr>\n",
       "  <th>C(Reported_Facility_Type)[T.Hotel]</th>                      <td>    1.1404</td> <td>    0.975</td> <td>    1.169</td> <td> 0.242</td> <td>   -0.772</td> <td>    3.053</td>\n",
       "</tr>\n",
       "<tr>\n",
       "  <th>C(Reported_Facility_Type)[T.K-12 School]</th>                <td>    1.2249</td> <td>    1.007</td> <td>    1.216</td> <td> 0.224</td> <td>   -0.751</td> <td>    3.200</td>\n",
       "</tr>\n",
       "<tr>\n",
       "  <th>C(Reported_Facility_Type)[T.Medical Office]</th>             <td>    1.2437</td> <td>    1.007</td> <td>    1.235</td> <td> 0.217</td> <td>   -0.732</td> <td>    3.219</td>\n",
       "</tr>\n",
       "<tr>\n",
       "  <th>C(Reported_Facility_Type)[T.Multifamily Housing]</th>        <td>    0.2645</td> <td>    0.873</td> <td>    0.303</td> <td> 0.762</td> <td>   -1.447</td> <td>    1.976</td>\n",
       "</tr>\n",
       "<tr>\n",
       "  <th>C(Reported_Facility_Type)[T.Non-Refrigerated Warehouse]</th> <td>    0.4943</td> <td>    0.903</td> <td>    0.547</td> <td> 0.584</td> <td>   -1.277</td> <td>    2.266</td>\n",
       "</tr>\n",
       "<tr>\n",
       "  <th>C(Reported_Facility_Type)[T.Office]</th>                     <td>    1.1712</td> <td>    0.877</td> <td>    1.336</td> <td> 0.182</td> <td>   -0.549</td> <td>    2.891</td>\n",
       "</tr>\n",
       "<tr>\n",
       "  <th>C(Reported_Facility_Type)[T.Residence Hall/Dormitory]</th>   <td>    0.9749</td> <td>    0.911</td> <td>    1.070</td> <td> 0.285</td> <td>   -0.812</td> <td>    2.762</td>\n",
       "</tr>\n",
       "<tr>\n",
       "  <th>C(Reported_Facility_Type)[T.Retail Store]</th>               <td>    0.6649</td> <td>    1.234</td> <td>    0.539</td> <td> 0.590</td> <td>   -1.755</td> <td>    3.084</td>\n",
       "</tr>\n",
       "<tr>\n",
       "  <th>C(Reported_Facility_Type)[T.Senior Care Community]</th>      <td>    1.1655</td> <td>    0.911</td> <td>    1.279</td> <td> 0.201</td> <td>   -0.621</td> <td>    2.953</td>\n",
       "</tr>\n",
       "<tr>\n",
       "  <th>C(Reported_Facility_Type)[T.Worship Facility]</th>           <td>    1.6754</td> <td>    1.234</td> <td>    1.358</td> <td> 0.175</td> <td>   -0.744</td> <td>    4.095</td>\n",
       "</tr>\n",
       "<tr>\n",
       "  <th>Energy_efficiency</th>                                       <td>   -0.3195</td> <td>    0.079</td> <td>   -4.063</td> <td> 0.000</td> <td>   -0.474</td> <td>   -0.165</td>\n",
       "</tr>\n",
       "</table>\n",
       "<table class=\"simpletable\">\n",
       "<tr>\n",
       "  <th>Omnibus:</th>       <td> 9.757</td> <th>  Durbin-Watson:     </th> <td>   1.992</td>\n",
       "</tr>\n",
       "<tr>\n",
       "  <th>Prob(Omnibus):</th> <td> 0.008</td> <th>  Jarque-Bera (JB):  </th> <td>   8.476</td>\n",
       "</tr>\n",
       "<tr>\n",
       "  <th>Skew:</th>          <td>-0.093</td> <th>  Prob(JB):          </th> <td>  0.0144</td>\n",
       "</tr>\n",
       "<tr>\n",
       "  <th>Kurtosis:</th>      <td> 2.755</td> <th>  Cond. No.          </th> <td>    233.</td>\n",
       "</tr>\n",
       "</table>"
      ],
      "text/plain": [
       "<class 'statsmodels.iolib.summary.Summary'>\n",
       "\"\"\"\n",
       "                            OLS Regression Results                            \n",
       "==============================================================================\n",
       "Dep. Variable:                  VALUE   R-squared:                       0.073\n",
       "Model:                            OLS   Adj. R-squared:                  0.067\n",
       "Method:                 Least Squares   F-statistic:                     12.02\n",
       "Date:                Mon, 20 Nov 2017   Prob (F-statistic):           2.28e-27\n",
       "Time:                        13:24:43   Log-Likelihood:                -2745.8\n",
       "No. Observations:                2147   AIC:                             5522.\n",
       "Df Residuals:                    2132   BIC:                             5607.\n",
       "Df Model:                          14                                         \n",
       "Covariance Type:            nonrobust                                         \n",
       "===========================================================================================================================\n",
       "                                                              coef    std err          t      P>|t|      [0.025      0.975]\n",
       "---------------------------------------------------------------------------------------------------------------------------\n",
       "Intercept                                                  -4.3981      0.872     -5.041      0.000      -6.109      -2.687\n",
       "C(Reported_Water_Method)[T.Manual]                          0.3492      0.126      2.762      0.006       0.101       0.597\n",
       "C(Reported_Facility_Type)[T.Distribution Center]            0.4013      0.976      0.411      0.681      -1.512       2.314\n",
       "C(Reported_Facility_Type)[T.Financial Office]               1.0738      1.240      0.866      0.387      -1.359       3.506\n",
       "C(Reported_Facility_Type)[T.Hotel]                          1.1404      0.975      1.169      0.242      -0.772       3.053\n",
       "C(Reported_Facility_Type)[T.K-12 School]                    1.2249      1.007      1.216      0.224      -0.751       3.200\n",
       "C(Reported_Facility_Type)[T.Medical Office]                 1.2437      1.007      1.235      0.217      -0.732       3.219\n",
       "C(Reported_Facility_Type)[T.Multifamily Housing]            0.2645      0.873      0.303      0.762      -1.447       1.976\n",
       "C(Reported_Facility_Type)[T.Non-Refrigerated Warehouse]     0.4943      0.903      0.547      0.584      -1.277       2.266\n",
       "C(Reported_Facility_Type)[T.Office]                         1.1712      0.877      1.336      0.182      -0.549       2.891\n",
       "C(Reported_Facility_Type)[T.Residence Hall/Dormitory]       0.9749      0.911      1.070      0.285      -0.812       2.762\n",
       "C(Reported_Facility_Type)[T.Retail Store]                   0.6649      1.234      0.539      0.590      -1.755       3.084\n",
       "C(Reported_Facility_Type)[T.Senior Care Community]          1.1655      0.911      1.279      0.201      -0.621       2.953\n",
       "C(Reported_Facility_Type)[T.Worship Facility]               1.6754      1.234      1.358      0.175      -0.744       4.095\n",
       "Energy_efficiency                                          -0.3195      0.079     -4.063      0.000      -0.474      -0.165\n",
       "==============================================================================\n",
       "Omnibus:                        9.757   Durbin-Watson:                   1.992\n",
       "Prob(Omnibus):                  0.008   Jarque-Bera (JB):                8.476\n",
       "Skew:                          -0.093   Prob(JB):                       0.0144\n",
       "Kurtosis:                       2.755   Cond. No.                         233.\n",
       "==============================================================================\n",
       "\n",
       "Warnings:\n",
       "[1] Standard Errors assume that the covariance matrix of the errors is correctly specified.\n",
       "\"\"\""
      ]
     },
     "execution_count": 570,
     "metadata": {},
     "output_type": "execute_result"
    }
   ],
   "source": [
    "lm = smf.ols(formula='VALUE~Energy_efficiency+C(Reported_Water_Method)+C(Reported_Facility_Type)'\n",
    "             ,data=train).fit()\n",
    "lm.summary()"
   ]
  }
 ],
 "metadata": {
  "kernelspec": {
   "display_name": "Python 2",
   "language": "python",
   "name": "python2"
  },
  "language_info": {
   "codemirror_mode": {
    "name": "ipython",
    "version": 2
   },
   "file_extension": ".py",
   "mimetype": "text/x-python",
   "name": "python",
   "nbconvert_exporter": "python",
   "pygments_lexer": "ipython2",
   "version": "2.7.14"
  }
 },
 "nbformat": 4,
 "nbformat_minor": 2
}
