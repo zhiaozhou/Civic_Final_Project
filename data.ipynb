{
 "cells": [
  {
   "cell_type": "code",
   "execution_count": 289,
   "metadata": {},
   "outputs": [
    {
     "name": "stdout",
     "output_type": "stream",
     "text": [
      "Populating the interactive namespace from numpy and matplotlib\n"
     ]
    }
   ],
   "source": [
    "import pandas as pd\n",
    "import numpy as np\n",
    "import matplotlib.pyplot as plt\n",
    "%pylab inline\n",
    "import scipy.stats\n",
    "import statsmodels.formula.api as smf\n",
    "import statsmodels.api as sm\n",
    "import urllib\n",
    "import requests\n",
    "import zipfile\n",
    "pd.set_option('display.max_rows', 50)\n",
    "pd.set_option('display.max_columns', 50)\n",
    "from sklearn.decomposition import PCA\n",
    "import geopandas as gpd\n",
    "from sklearn.model_selection import train_test_split"
   ]
  },
  {
   "cell_type": "markdown",
   "metadata": {},
   "source": [
    "# 1. data preparation"
   ]
  },
  {
   "cell_type": "code",
   "execution_count": 129,
   "metadata": {},
   "outputs": [],
   "source": [
    "def get_LL84(url):\n",
    "    data = pd.read_excel(url)\n",
    "    cols = [x.encode('utf8').replace('\\xc2\\xb2', '2') for x in data.columns]\n",
    "    data.columns = cols\n",
    "    data.rename(columns = {'NYC Borough, Block, and Lot (BBL)':'BBL',\n",
    "                           'NYC Borough, Block and Lot (BBL)':'BBL','Zip Code':'Zip',\n",
    "                           'Site EUI (kBtu/ft2)':'Site EUI',\n",
    "        'Site EUI\\n(kBtu/ft2)':'Site EUI','DOF Benchmarking Submission Status':'Benchmarking Submission',\n",
    "                           'Weather Normalized Source EUI\\n(kBtu/ft2)':'Weather Normalized Source EUI',\n",
    "                           'Weather Normalized Source EUI (kBtu/ft2)':'Weather Normalized Source EUI',\n",
    "                           'Municipally Supplied Potable Water - Indoor Intensity (gal/ft2)':'Indoor Water Intensity(gal/ft2)',\n",
    "                           'Indoor Water Intensity (All Water Sources)\\n(gal/ft2)':'Indoor Water Intensity(gal/ft2)',\n",
    "                           'Water per Square Foot':'Indoor Water Intensity(gal/ft2)',\n",
    "                           'Total GHG Emissions\\n(MtCO2e)':'GHG',\n",
    "                           'Total GHG Emissions (Metric Tons CO2e)':'GHG',\n",
    "                           'Municipally Supplied Potable Water - Indoor Intensity (gal/ft2)':'Indoor Water Intensity(gal/ft2)',\n",
    "                               'Property Floor Area (Buildngs and Parking)\\n(ft2)':'Property Floor Area(ft2)',\n",
    "                           'DOF Property Floor Area (ft2)':'Property Floor Area(ft2)',\n",
    "                               'DOF Property Floor Area (Buildngs and Parking)\\n(ft2)':'Property Floor Area(ft2)',\n",
    "                           'DOF Property Floor Area (ft²)':'Property Floor Area(ft2)',\n",
    "                               'DOF Number of Buildings':'Number of Buildings',\n",
    "                           'Number of Buildings - Self-reported':'Number of Buildings',\n",
    "                          'Primary Property Type - Self Selected':'Reported Facility Type'},inplace=True)\n",
    "    \n",
    "    \n",
    "    data = data[data['ENERGY STAR Score']>0][['BBL','Zip','Benchmarking Submission','Site EUI','Weather Normalized Source EUI',\n",
    "                 'Indoor Water Intensity(gal/ft2)','Reported Water Method','ENERGY STAR Score'\n",
    "                ,'GHG','Property Floor Area(ft2)','Reported Facility Type','Number of Buildings']]\n",
    "    return data"
   ]
  },
  {
   "cell_type": "code",
   "execution_count": 132,
   "metadata": {},
   "outputs": [],
   "source": [
    "LL13 = get_LL84('http://www.nyc.gov/html/gbee/downloads/excel/2013_nyc_ll84_disclosure.xlsx')"
   ]
  },
  {
   "cell_type": "code",
   "execution_count": 133,
   "metadata": {},
   "outputs": [],
   "source": [
    "LL14 = get_LL84('http://www.nyc.gov/html/gbee/downloads/excel/150428_2014_nyc_ll84_disclosure.xlsx')"
   ]
  },
  {
   "cell_type": "code",
   "execution_count": 134,
   "metadata": {},
   "outputs": [],
   "source": [
    "LL15 = get_LL84('http://www.nyc.gov/html/gbee/downloads/excel/2015_nyc_cy2014__ll84_disclosure_data.xlsx')"
   ]
  },
  {
   "cell_type": "code",
   "execution_count": 135,
   "metadata": {},
   "outputs": [],
   "source": [
    "LL16 = get_LL84('http://www.nyc.gov/html/gbee/downloads/excel/nyc_benchmarking_disclosure_data_reported_in_2016.xlsx')"
   ]
  },
  {
   "cell_type": "code",
   "execution_count": 136,
   "metadata": {},
   "outputs": [],
   "source": [
    "PRICE = pd.read_csv('Housing_price/2016.csv')"
   ]
  },
  {
   "cell_type": "markdown",
   "metadata": {},
   "source": [
    "## As we have only 4 years of data here, we would now only use data of 2016 as train data and the others as test data"
   ]
  },
  {
   "cell_type": "code",
   "execution_count": 148,
   "metadata": {},
   "outputs": [],
   "source": [
    "LL16.BBL = LL16.BBL.astype('str').str[:-2]"
   ]
  },
  {
   "cell_type": "code",
   "execution_count": 150,
   "metadata": {},
   "outputs": [],
   "source": [
    "merged16 = pd.merge(LL16,PRICE,on='BBL')"
   ]
  },
  {
   "cell_type": "code",
   "execution_count": 151,
   "metadata": {},
   "outputs": [],
   "source": [
    "merged16 = merged16[merged16.VALUE>0]"
   ]
  },
  {
   "cell_type": "code",
   "execution_count": 154,
   "metadata": {},
   "outputs": [],
   "source": [
    "merged16.dropna(axis=0,inplace = True)"
   ]
  },
  {
   "cell_type": "code",
   "execution_count": 165,
   "metadata": {
    "scrolled": false
   },
   "outputs": [],
   "source": [
    "merged16.columns = [x.replace(' ','_') for x in merged16.columns]"
   ]
  },
  {
   "cell_type": "code",
   "execution_count": 169,
   "metadata": {},
   "outputs": [
    {
     "data": {
      "text/html": [
       "<div>\n",
       "<style scoped>\n",
       "    .dataframe tbody tr th:only-of-type {\n",
       "        vertical-align: middle;\n",
       "    }\n",
       "\n",
       "    .dataframe tbody tr th {\n",
       "        vertical-align: top;\n",
       "    }\n",
       "\n",
       "    .dataframe thead th {\n",
       "        text-align: right;\n",
       "    }\n",
       "</style>\n",
       "<table border=\"1\" class=\"dataframe\">\n",
       "  <thead>\n",
       "    <tr style=\"text-align: right;\">\n",
       "      <th></th>\n",
       "      <th>BBL</th>\n",
       "      <th>Zip</th>\n",
       "      <th>Benchmarking_Submission</th>\n",
       "      <th>Site_EUI</th>\n",
       "      <th>Weather_Normalized_Source_EUI</th>\n",
       "      <th>Indoor_Water_Intensity(gal/ft2)</th>\n",
       "      <th>Reported_Water_Method</th>\n",
       "      <th>ENERGY_STAR_Score</th>\n",
       "      <th>GHG</th>\n",
       "      <th>Property_Floor_Area(ft2)</th>\n",
       "      <th>Reported_Facility_Type</th>\n",
       "      <th>Number_of_Buildings</th>\n",
       "      <th>VALUE</th>\n",
       "    </tr>\n",
       "  </thead>\n",
       "  <tbody>\n",
       "    <tr>\n",
       "      <th>2</th>\n",
       "      <td>1014270028</td>\n",
       "      <td>10021.0</td>\n",
       "      <td>In Compliance</td>\n",
       "      <td>44.9</td>\n",
       "      <td>105.2</td>\n",
       "      <td>71.51</td>\n",
       "      <td>Manual</td>\n",
       "      <td>80.0</td>\n",
       "      <td>538.4</td>\n",
       "      <td>166432.0</td>\n",
       "      <td>Multifamily Housing</td>\n",
       "      <td>1.0</td>\n",
       "      <td>33931000</td>\n",
       "    </tr>\n",
       "    <tr>\n",
       "      <th>3</th>\n",
       "      <td>1015180024</td>\n",
       "      <td>10128.0</td>\n",
       "      <td>In Compliance</td>\n",
       "      <td>91.3</td>\n",
       "      <td>180.7</td>\n",
       "      <td>64.86</td>\n",
       "      <td>ABS</td>\n",
       "      <td>10.0</td>\n",
       "      <td>699.3</td>\n",
       "      <td>114939.0</td>\n",
       "      <td>Multifamily Housing</td>\n",
       "      <td>1.0</td>\n",
       "      <td>24268000</td>\n",
       "    </tr>\n",
       "    <tr>\n",
       "      <th>49</th>\n",
       "      <td>1000260021</td>\n",
       "      <td>10005.0</td>\n",
       "      <td>In Compliance</td>\n",
       "      <td>63.5</td>\n",
       "      <td>128.4</td>\n",
       "      <td>34.22</td>\n",
       "      <td>ABS</td>\n",
       "      <td>39.0</td>\n",
       "      <td>2163.1</td>\n",
       "      <td>493187.0</td>\n",
       "      <td>Multifamily Housing</td>\n",
       "      <td>1.0</td>\n",
       "      <td>114278000</td>\n",
       "    </tr>\n",
       "    <tr>\n",
       "      <th>87</th>\n",
       "      <td>1000520021</td>\n",
       "      <td>10006.0</td>\n",
       "      <td>In Compliance</td>\n",
       "      <td>84.6</td>\n",
       "      <td>131.1</td>\n",
       "      <td>23.11</td>\n",
       "      <td>ABS</td>\n",
       "      <td>24.0</td>\n",
       "      <td>379.0</td>\n",
       "      <td>57945.0</td>\n",
       "      <td>Multifamily Housing</td>\n",
       "      <td>1.0</td>\n",
       "      <td>6108000</td>\n",
       "    </tr>\n",
       "    <tr>\n",
       "      <th>108</th>\n",
       "      <td>1000680028</td>\n",
       "      <td>10038.0</td>\n",
       "      <td>In Compliance</td>\n",
       "      <td>107.7</td>\n",
       "      <td>231.7</td>\n",
       "      <td>88.05</td>\n",
       "      <td>ABS</td>\n",
       "      <td>40.0</td>\n",
       "      <td>534.2</td>\n",
       "      <td>71539.0</td>\n",
       "      <td>Hotel</td>\n",
       "      <td>1.0</td>\n",
       "      <td>30130000</td>\n",
       "    </tr>\n",
       "  </tbody>\n",
       "</table>\n",
       "</div>"
      ],
      "text/plain": [
       "            BBL      Zip Benchmarking_Submission  Site_EUI  \\\n",
       "2    1014270028  10021.0           In Compliance      44.9   \n",
       "3    1015180024  10128.0           In Compliance      91.3   \n",
       "49   1000260021  10005.0           In Compliance      63.5   \n",
       "87   1000520021  10006.0           In Compliance      84.6   \n",
       "108  1000680028  10038.0           In Compliance     107.7   \n",
       "\n",
       "     Weather_Normalized_Source_EUI  Indoor_Water_Intensity(gal/ft2)  \\\n",
       "2                            105.2                            71.51   \n",
       "3                            180.7                            64.86   \n",
       "49                           128.4                            34.22   \n",
       "87                           131.1                            23.11   \n",
       "108                          231.7                            88.05   \n",
       "\n",
       "    Reported_Water_Method  ENERGY_STAR_Score     GHG  \\\n",
       "2                  Manual               80.0   538.4   \n",
       "3                     ABS               10.0   699.3   \n",
       "49                    ABS               39.0  2163.1   \n",
       "87                    ABS               24.0   379.0   \n",
       "108                   ABS               40.0   534.2   \n",
       "\n",
       "     Property_Floor_Area(ft2) Reported_Facility_Type  Number_of_Buildings  \\\n",
       "2                    166432.0    Multifamily Housing                  1.0   \n",
       "3                    114939.0    Multifamily Housing                  1.0   \n",
       "49                   493187.0    Multifamily Housing                  1.0   \n",
       "87                    57945.0    Multifamily Housing                  1.0   \n",
       "108                   71539.0                  Hotel                  1.0   \n",
       "\n",
       "         VALUE  \n",
       "2     33931000  \n",
       "3     24268000  \n",
       "49   114278000  \n",
       "87     6108000  \n",
       "108   30130000  "
      ]
     },
     "execution_count": 169,
     "metadata": {},
     "output_type": "execute_result"
    }
   ],
   "source": [
    "merged16.head()"
   ]
  },
  {
   "cell_type": "markdown",
   "metadata": {},
   "source": [
    "# 2. PCA"
   ]
  },
  {
   "cell_type": "code",
   "execution_count": 239,
   "metadata": {},
   "outputs": [],
   "source": [
    "X_num = merged16[list(merged16.columns[3:6])+list(merged16.columns[7:10])+['Number_of_Buildings','VALUE']]"
   ]
  },
  {
   "cell_type": "markdown",
   "metadata": {},
   "source": [
    "### Normalization"
   ]
  },
  {
   "cell_type": "code",
   "execution_count": 249,
   "metadata": {},
   "outputs": [],
   "source": [
    "def norm(data,columns):\n",
    "    for x in columns:\n",
    "        data[x] = (data[x]-np.mean(data[x]))/np.std(data[x])\n",
    "    return data"
   ]
  },
  {
   "cell_type": "code",
   "execution_count": 247,
   "metadata": {},
   "outputs": [],
   "source": [
    "columns = list(merged16.columns[3:6])+list(merged16.columns[7:10])+['Number_of_Buildings','VALUE']"
   ]
  },
  {
   "cell_type": "code",
   "execution_count": 253,
   "metadata": {},
   "outputs": [],
   "source": [
    "merged16 = norm(merged16,columns)"
   ]
  },
  {
   "cell_type": "markdown",
   "metadata": {},
   "source": [
    "### Remove outliers"
   ]
  },
  {
   "cell_type": "code",
   "execution_count": 254,
   "metadata": {},
   "outputs": [],
   "source": [
    "def clean(data,columns):\n",
    "    for x in columns:\n",
    "        data = data[(data[x]<np.mean(data[x])+2*np.std(data[x]))&(data[x]>np.mean(data[x])-2*np.std(data[x]))]\n",
    "    return data"
   ]
  },
  {
   "cell_type": "code",
   "execution_count": 256,
   "metadata": {},
   "outputs": [],
   "source": [
    "merged16 = clean(merged16,columns)"
   ]
  },
  {
   "cell_type": "code",
   "execution_count": 261,
   "metadata": {},
   "outputs": [],
   "source": [
    "X_num = merged16[list(merged16.columns[3:6])+list(merged16.columns[7:10])+['Number_of_Buildings']]\n",
    "pca = PCA(0.95)\n",
    "Xproj = pca.fit_transform(X_num)"
   ]
  },
  {
   "cell_type": "code",
   "execution_count": 262,
   "metadata": {},
   "outputs": [
    {
     "data": {
      "text/plain": [
       "array([ 0.84502224,  0.11743693])"
      ]
     },
     "execution_count": 262,
     "metadata": {},
     "output_type": "execute_result"
    }
   ],
   "source": [
    "pca.explained_variance_ratio_"
   ]
  },
  {
   "cell_type": "code",
   "execution_count": 263,
   "metadata": {},
   "outputs": [
    {
     "data": {
      "text/plain": [
       "array([[  1.71017040e-02,   6.93292655e-03,   4.40833012e-02,\n",
       "         -9.98357453e-01,   1.64293282e-02,  -2.68535902e-02,\n",
       "          2.73625129e-03],\n",
       "       [ -1.37964318e-03,   3.27544465e-04,  -8.07239675e-02,\n",
       "         -2.86612954e-02,   8.81428118e-02,   9.91195009e-01,\n",
       "          4.92286466e-02]])"
      ]
     },
     "execution_count": 263,
     "metadata": {},
     "output_type": "execute_result"
    }
   ],
   "source": [
    "pca.components_"
   ]
  },
  {
   "cell_type": "code",
   "execution_count": 264,
   "metadata": {},
   "outputs": [
    {
     "data": {
      "text/html": [
       "<div>\n",
       "<style scoped>\n",
       "    .dataframe tbody tr th:only-of-type {\n",
       "        vertical-align: middle;\n",
       "    }\n",
       "\n",
       "    .dataframe tbody tr th {\n",
       "        vertical-align: top;\n",
       "    }\n",
       "\n",
       "    .dataframe thead th {\n",
       "        text-align: right;\n",
       "    }\n",
       "</style>\n",
       "<table border=\"1\" class=\"dataframe\">\n",
       "  <thead>\n",
       "    <tr style=\"text-align: right;\">\n",
       "      <th></th>\n",
       "      <th>Site_EUI</th>\n",
       "      <th>Weather_Normalized_Source_EUI</th>\n",
       "      <th>Indoor_Water_Intensity(gal/ft2)</th>\n",
       "      <th>ENERGY_STAR_Score</th>\n",
       "      <th>GHG</th>\n",
       "      <th>Property_Floor_Area(ft2)</th>\n",
       "      <th>Number_of_Buildings</th>\n",
       "    </tr>\n",
       "  </thead>\n",
       "  <tbody>\n",
       "    <tr>\n",
       "      <th>0</th>\n",
       "      <td>0.017102</td>\n",
       "      <td>0.006933</td>\n",
       "      <td>0.044083</td>\n",
       "      <td>-0.998357</td>\n",
       "      <td>0.016429</td>\n",
       "      <td>-0.026854</td>\n",
       "      <td>0.002736</td>\n",
       "    </tr>\n",
       "    <tr>\n",
       "      <th>1</th>\n",
       "      <td>-0.001380</td>\n",
       "      <td>0.000328</td>\n",
       "      <td>-0.080724</td>\n",
       "      <td>-0.028661</td>\n",
       "      <td>0.088143</td>\n",
       "      <td>0.991195</td>\n",
       "      <td>0.049229</td>\n",
       "    </tr>\n",
       "  </tbody>\n",
       "</table>\n",
       "</div>"
      ],
      "text/plain": [
       "   Site_EUI  Weather_Normalized_Source_EUI  Indoor_Water_Intensity(gal/ft2)  \\\n",
       "0  0.017102                       0.006933                         0.044083   \n",
       "1 -0.001380                       0.000328                        -0.080724   \n",
       "\n",
       "   ENERGY_STAR_Score       GHG  Property_Floor_Area(ft2)  Number_of_Buildings  \n",
       "0          -0.998357  0.016429                 -0.026854             0.002736  \n",
       "1          -0.028661  0.088143                  0.991195             0.049229  "
      ]
     },
     "execution_count": 264,
     "metadata": {},
     "output_type": "execute_result"
    }
   ],
   "source": [
    "components_explanation = pd.DataFrame(pca.components_,columns = X_num.columns)\n",
    "components_explanation"
   ]
  },
  {
   "cell_type": "markdown",
   "metadata": {},
   "source": [
    "## Here we could find the impact of each original variable on 2 principle components\n",
    "## Based on the coefficients, we could explain each component as:\n",
    "## Component 1: Energy efficiency\n",
    "## Component 2: Property construction area"
   ]
  },
  {
   "cell_type": "markdown",
   "metadata": {},
   "source": [
    "# 3. Analysis"
   ]
  },
  {
   "cell_type": "code",
   "execution_count": 265,
   "metadata": {},
   "outputs": [],
   "source": [
    "merged16['Energy_efficiency'] = Xproj[:,0]\n",
    "merged16['Property_area'] = Xproj[:,1]"
   ]
  },
  {
   "cell_type": "markdown",
   "metadata": {},
   "source": [
    "### Hierarchical linear regression ---- to check if energy efficiency actually works"
   ]
  },
  {
   "cell_type": "code",
   "execution_count": 282,
   "metadata": {},
   "outputs": [
    {
     "data": {
      "text/html": [
       "<table class=\"simpletable\">\n",
       "<caption>OLS Regression Results</caption>\n",
       "<tr>\n",
       "  <th>Dep. Variable:</th>          <td>VALUE</td>      <th>  R-squared:         </th> <td>   0.280</td> \n",
       "</tr>\n",
       "<tr>\n",
       "  <th>Model:</th>                   <td>OLS</td>       <th>  Adj. R-squared:    </th> <td>   0.276</td> \n",
       "</tr>\n",
       "<tr>\n",
       "  <th>Method:</th>             <td>Least Squares</td>  <th>  F-statistic:       </th> <td>   74.12</td> \n",
       "</tr>\n",
       "<tr>\n",
       "  <th>Date:</th>             <td>Mon, 20 Nov 2017</td> <th>  Prob (F-statistic):</th> <td>1.69e-178</td>\n",
       "</tr>\n",
       "<tr>\n",
       "  <th>Time:</th>                 <td>00:25:45</td>     <th>  Log-Likelihood:    </th> <td>  15.961</td> \n",
       "</tr>\n",
       "<tr>\n",
       "  <th>No. Observations:</th>      <td>  2685</td>      <th>  AIC:               </th> <td>  -1.923</td> \n",
       "</tr>\n",
       "<tr>\n",
       "  <th>Df Residuals:</th>          <td>  2670</td>      <th>  BIC:               </th> <td>   86.51</td> \n",
       "</tr>\n",
       "<tr>\n",
       "  <th>Df Model:</th>              <td>    14</td>      <th>                     </th>     <td> </td>    \n",
       "</tr>\n",
       "<tr>\n",
       "  <th>Covariance Type:</th>      <td>nonrobust</td>    <th>                     </th>     <td> </td>    \n",
       "</tr>\n",
       "</table>\n",
       "<table class=\"simpletable\">\n",
       "<tr>\n",
       "                             <td></td>                                <th>coef</th>     <th>std err</th>      <th>t</th>      <th>P>|t|</th>  <th>[0.025</th>    <th>0.975]</th>  \n",
       "</tr>\n",
       "<tr>\n",
       "  <th>C(Benchmarking_Submission)[In Compliance]</th>               <td>   -0.3541</td> <td>    0.241</td> <td>   -1.468</td> <td> 0.142</td> <td>   -0.827</td> <td>    0.119</td>\n",
       "</tr>\n",
       "<tr>\n",
       "  <th>C(Reported_Water_Method)[T.Manual]</th>                      <td>    0.0813</td> <td>    0.032</td> <td>    2.507</td> <td> 0.012</td> <td>    0.018</td> <td>    0.145</td>\n",
       "</tr>\n",
       "<tr>\n",
       "  <th>C(Reported_Facility_Type)[T.Distribution Center]</th>        <td>    0.0028</td> <td>    0.258</td> <td>    0.011</td> <td> 0.991</td> <td>   -0.503</td> <td>    0.508</td>\n",
       "</tr>\n",
       "<tr>\n",
       "  <th>C(Reported_Facility_Type)[T.Financial Office]</th>           <td>    0.3022</td> <td>    0.343</td> <td>    0.882</td> <td> 0.378</td> <td>   -0.370</td> <td>    0.974</td>\n",
       "</tr>\n",
       "<tr>\n",
       "  <th>C(Reported_Facility_Type)[T.Hotel]</th>                      <td>    0.4120</td> <td>    0.264</td> <td>    1.559</td> <td> 0.119</td> <td>   -0.106</td> <td>    0.930</td>\n",
       "</tr>\n",
       "<tr>\n",
       "  <th>C(Reported_Facility_Type)[T.K-12 School]</th>                <td>    0.3892</td> <td>    0.270</td> <td>    1.443</td> <td> 0.149</td> <td>   -0.140</td> <td>    0.918</td>\n",
       "</tr>\n",
       "<tr>\n",
       "  <th>C(Reported_Facility_Type)[T.Medical Office]</th>             <td>    0.3616</td> <td>    0.264</td> <td>    1.368</td> <td> 0.172</td> <td>   -0.157</td> <td>    0.880</td>\n",
       "</tr>\n",
       "<tr>\n",
       "  <th>C(Reported_Facility_Type)[T.Multifamily Housing]</th>        <td>    0.0418</td> <td>    0.241</td> <td>    0.173</td> <td> 0.863</td> <td>   -0.431</td> <td>    0.515</td>\n",
       "</tr>\n",
       "<tr>\n",
       "  <th>C(Reported_Facility_Type)[T.Non-Refrigerated Warehouse]</th> <td>    0.0044</td> <td>    0.248</td> <td>    0.018</td> <td> 0.986</td> <td>   -0.482</td> <td>    0.491</td>\n",
       "</tr>\n",
       "<tr>\n",
       "  <th>C(Reported_Facility_Type)[T.Office]</th>                     <td>    0.3810</td> <td>    0.242</td> <td>    1.573</td> <td> 0.116</td> <td>   -0.094</td> <td>    0.856</td>\n",
       "</tr>\n",
       "<tr>\n",
       "  <th>C(Reported_Facility_Type)[T.Residence Hall/Dormitory]</th>   <td>    0.3491</td> <td>    0.249</td> <td>    1.404</td> <td> 0.160</td> <td>   -0.138</td> <td>    0.837</td>\n",
       "</tr>\n",
       "<tr>\n",
       "  <th>C(Reported_Facility_Type)[T.Retail Store]</th>               <td>    0.0831</td> <td>    0.341</td> <td>    0.244</td> <td> 0.808</td> <td>   -0.586</td> <td>    0.752</td>\n",
       "</tr>\n",
       "<tr>\n",
       "  <th>C(Reported_Facility_Type)[T.Senior Care Community]</th>      <td>    0.3630</td> <td>    0.251</td> <td>    1.445</td> <td> 0.148</td> <td>   -0.129</td> <td>    0.855</td>\n",
       "</tr>\n",
       "<tr>\n",
       "  <th>C(Reported_Facility_Type)[T.Worship Facility]</th>           <td>    0.4687</td> <td>    0.295</td> <td>    1.586</td> <td> 0.113</td> <td>   -0.111</td> <td>    1.048</td>\n",
       "</tr>\n",
       "<tr>\n",
       "  <th>Property_area</th>                                           <td>    0.3765</td> <td>    0.014</td> <td>   26.451</td> <td> 0.000</td> <td>    0.349</td> <td>    0.404</td>\n",
       "</tr>\n",
       "</table>\n",
       "<table class=\"simpletable\">\n",
       "<tr>\n",
       "  <th>Omnibus:</th>       <td>594.401</td> <th>  Durbin-Watson:     </th> <td>   0.614</td> \n",
       "</tr>\n",
       "<tr>\n",
       "  <th>Prob(Omnibus):</th> <td> 0.000</td>  <th>  Jarque-Bera (JB):  </th> <td>1106.936</td> \n",
       "</tr>\n",
       "<tr>\n",
       "  <th>Skew:</th>          <td> 1.369</td>  <th>  Prob(JB):          </th> <td>4.28e-241</td>\n",
       "</tr>\n",
       "<tr>\n",
       "  <th>Kurtosis:</th>      <td> 4.548</td>  <th>  Cond. No.          </th> <td>    260.</td> \n",
       "</tr>\n",
       "</table>"
      ],
      "text/plain": [
       "<class 'statsmodels.iolib.summary.Summary'>\n",
       "\"\"\"\n",
       "                            OLS Regression Results                            \n",
       "==============================================================================\n",
       "Dep. Variable:                  VALUE   R-squared:                       0.280\n",
       "Model:                            OLS   Adj. R-squared:                  0.276\n",
       "Method:                 Least Squares   F-statistic:                     74.12\n",
       "Date:                Mon, 20 Nov 2017   Prob (F-statistic):          1.69e-178\n",
       "Time:                        00:25:45   Log-Likelihood:                 15.961\n",
       "No. Observations:                2685   AIC:                            -1.923\n",
       "Df Residuals:                    2670   BIC:                             86.51\n",
       "Df Model:                          14                                         \n",
       "Covariance Type:            nonrobust                                         \n",
       "===========================================================================================================================\n",
       "                                                              coef    std err          t      P>|t|      [0.025      0.975]\n",
       "---------------------------------------------------------------------------------------------------------------------------\n",
       "C(Benchmarking_Submission)[In Compliance]                  -0.3541      0.241     -1.468      0.142      -0.827       0.119\n",
       "C(Reported_Water_Method)[T.Manual]                          0.0813      0.032      2.507      0.012       0.018       0.145\n",
       "C(Reported_Facility_Type)[T.Distribution Center]            0.0028      0.258      0.011      0.991      -0.503       0.508\n",
       "C(Reported_Facility_Type)[T.Financial Office]               0.3022      0.343      0.882      0.378      -0.370       0.974\n",
       "C(Reported_Facility_Type)[T.Hotel]                          0.4120      0.264      1.559      0.119      -0.106       0.930\n",
       "C(Reported_Facility_Type)[T.K-12 School]                    0.3892      0.270      1.443      0.149      -0.140       0.918\n",
       "C(Reported_Facility_Type)[T.Medical Office]                 0.3616      0.264      1.368      0.172      -0.157       0.880\n",
       "C(Reported_Facility_Type)[T.Multifamily Housing]            0.0418      0.241      0.173      0.863      -0.431       0.515\n",
       "C(Reported_Facility_Type)[T.Non-Refrigerated Warehouse]     0.0044      0.248      0.018      0.986      -0.482       0.491\n",
       "C(Reported_Facility_Type)[T.Office]                         0.3810      0.242      1.573      0.116      -0.094       0.856\n",
       "C(Reported_Facility_Type)[T.Residence Hall/Dormitory]       0.3491      0.249      1.404      0.160      -0.138       0.837\n",
       "C(Reported_Facility_Type)[T.Retail Store]                   0.0831      0.341      0.244      0.808      -0.586       0.752\n",
       "C(Reported_Facility_Type)[T.Senior Care Community]          0.3630      0.251      1.445      0.148      -0.129       0.855\n",
       "C(Reported_Facility_Type)[T.Worship Facility]               0.4687      0.295      1.586      0.113      -0.111       1.048\n",
       "Property_area                                               0.3765      0.014     26.451      0.000       0.349       0.404\n",
       "==============================================================================\n",
       "Omnibus:                      594.401   Durbin-Watson:                   0.614\n",
       "Prob(Omnibus):                  0.000   Jarque-Bera (JB):             1106.936\n",
       "Skew:                           1.369   Prob(JB):                    4.28e-241\n",
       "Kurtosis:                       4.548   Cond. No.                         260.\n",
       "==============================================================================\n",
       "\n",
       "Warnings:\n",
       "[1] Standard Errors assume that the covariance matrix of the errors is correctly specified.\n",
       "\"\"\""
      ]
     },
     "execution_count": 282,
     "metadata": {},
     "output_type": "execute_result"
    }
   ],
   "source": [
    "lm_no_energy = smf.ols(formula='VALUE~Property_area+C(Benchmarking_Submission)+C(Reported_Water_Method)+\\\n",
    "                       C(Reported_Facility_Type)-1'\n",
    "             ,data=merged16).fit()\n",
    "lm_no_energy.summary()"
   ]
  },
  {
   "cell_type": "code",
   "execution_count": 283,
   "metadata": {},
   "outputs": [
    {
     "data": {
      "text/html": [
       "<table class=\"simpletable\">\n",
       "<caption>OLS Regression Results</caption>\n",
       "<tr>\n",
       "  <th>Dep. Variable:</th>          <td>VALUE</td>      <th>  R-squared:         </th> <td>   0.286</td> \n",
       "</tr>\n",
       "<tr>\n",
       "  <th>Model:</th>                   <td>OLS</td>       <th>  Adj. R-squared:    </th> <td>   0.282</td> \n",
       "</tr>\n",
       "<tr>\n",
       "  <th>Method:</th>             <td>Least Squares</td>  <th>  F-statistic:       </th> <td>   71.33</td> \n",
       "</tr>\n",
       "<tr>\n",
       "  <th>Date:</th>             <td>Mon, 20 Nov 2017</td> <th>  Prob (F-statistic):</th> <td>1.40e-182</td>\n",
       "</tr>\n",
       "<tr>\n",
       "  <th>Time:</th>                 <td>00:26:11</td>     <th>  Log-Likelihood:    </th> <td>  27.745</td> \n",
       "</tr>\n",
       "<tr>\n",
       "  <th>No. Observations:</th>      <td>  2685</td>      <th>  AIC:               </th> <td>  -23.49</td> \n",
       "</tr>\n",
       "<tr>\n",
       "  <th>Df Residuals:</th>          <td>  2669</td>      <th>  BIC:               </th> <td>   70.84</td> \n",
       "</tr>\n",
       "<tr>\n",
       "  <th>Df Model:</th>              <td>    15</td>      <th>                     </th>     <td> </td>    \n",
       "</tr>\n",
       "<tr>\n",
       "  <th>Covariance Type:</th>      <td>nonrobust</td>    <th>                     </th>     <td> </td>    \n",
       "</tr>\n",
       "</table>\n",
       "<table class=\"simpletable\">\n",
       "<tr>\n",
       "                             <td></td>                                <th>coef</th>     <th>std err</th>      <th>t</th>      <th>P>|t|</th>  <th>[0.025</th>    <th>0.975]</th>  \n",
       "</tr>\n",
       "<tr>\n",
       "  <th>C(Benchmarking_Submission)[In Compliance]</th>               <td>   -0.3617</td> <td>    0.240</td> <td>   -1.505</td> <td> 0.132</td> <td>   -0.833</td> <td>    0.109</td>\n",
       "</tr>\n",
       "<tr>\n",
       "  <th>C(Reported_Water_Method)[T.Manual]</th>                      <td>    0.0793</td> <td>    0.032</td> <td>    2.456</td> <td> 0.014</td> <td>    0.016</td> <td>    0.143</td>\n",
       "</tr>\n",
       "<tr>\n",
       "  <th>C(Reported_Facility_Type)[T.Distribution Center]</th>        <td>    0.0205</td> <td>    0.257</td> <td>    0.080</td> <td> 0.936</td> <td>   -0.483</td> <td>    0.524</td>\n",
       "</tr>\n",
       "<tr>\n",
       "  <th>C(Reported_Facility_Type)[T.Financial Office]</th>           <td>    0.2783</td> <td>    0.341</td> <td>    0.815</td> <td> 0.415</td> <td>   -0.391</td> <td>    0.948</td>\n",
       "</tr>\n",
       "<tr>\n",
       "  <th>C(Reported_Facility_Type)[T.Hotel]</th>                      <td>    0.4225</td> <td>    0.263</td> <td>    1.606</td> <td> 0.109</td> <td>   -0.094</td> <td>    0.938</td>\n",
       "</tr>\n",
       "<tr>\n",
       "  <th>C(Reported_Facility_Type)[T.K-12 School]</th>                <td>    0.3962</td> <td>    0.269</td> <td>    1.475</td> <td> 0.140</td> <td>   -0.130</td> <td>    0.923</td>\n",
       "</tr>\n",
       "<tr>\n",
       "  <th>C(Reported_Facility_Type)[T.Medical Office]</th>             <td>    0.3552</td> <td>    0.263</td> <td>    1.349</td> <td> 0.177</td> <td>   -0.161</td> <td>    0.871</td>\n",
       "</tr>\n",
       "<tr>\n",
       "  <th>C(Reported_Facility_Type)[T.Multifamily Housing]</th>        <td>    0.0500</td> <td>    0.240</td> <td>    0.208</td> <td> 0.835</td> <td>   -0.421</td> <td>    0.521</td>\n",
       "</tr>\n",
       "<tr>\n",
       "  <th>C(Reported_Facility_Type)[T.Non-Refrigerated Warehouse]</th> <td>    0.0150</td> <td>    0.247</td> <td>    0.061</td> <td> 0.952</td> <td>   -0.470</td> <td>    0.500</td>\n",
       "</tr>\n",
       "<tr>\n",
       "  <th>C(Reported_Facility_Type)[T.Office]</th>                     <td>    0.3752</td> <td>    0.241</td> <td>    1.556</td> <td> 0.120</td> <td>   -0.098</td> <td>    0.848</td>\n",
       "</tr>\n",
       "<tr>\n",
       "  <th>C(Reported_Facility_Type)[T.Residence Hall/Dormitory]</th>   <td>    0.3666</td> <td>    0.248</td> <td>    1.480</td> <td> 0.139</td> <td>   -0.119</td> <td>    0.852</td>\n",
       "</tr>\n",
       "<tr>\n",
       "  <th>C(Reported_Facility_Type)[T.Retail Store]</th>               <td>    0.0688</td> <td>    0.340</td> <td>    0.202</td> <td> 0.840</td> <td>   -0.597</td> <td>    0.735</td>\n",
       "</tr>\n",
       "<tr>\n",
       "  <th>C(Reported_Facility_Type)[T.Senior Care Community]</th>      <td>    0.3574</td> <td>    0.250</td> <td>    1.429</td> <td> 0.153</td> <td>   -0.133</td> <td>    0.848</td>\n",
       "</tr>\n",
       "<tr>\n",
       "  <th>C(Reported_Facility_Type)[T.Worship Facility]</th>           <td>    0.4615</td> <td>    0.294</td> <td>    1.569</td> <td> 0.117</td> <td>   -0.115</td> <td>    1.038</td>\n",
       "</tr>\n",
       "<tr>\n",
       "  <th>Energy_efficiency</th>                                       <td>   -0.0259</td> <td>    0.005</td> <td>   -4.851</td> <td> 0.000</td> <td>   -0.036</td> <td>   -0.015</td>\n",
       "</tr>\n",
       "<tr>\n",
       "  <th>Property_area</th>                                           <td>    0.3768</td> <td>    0.014</td> <td>   26.584</td> <td> 0.000</td> <td>    0.349</td> <td>    0.405</td>\n",
       "</tr>\n",
       "</table>\n",
       "<table class=\"simpletable\">\n",
       "<tr>\n",
       "  <th>Omnibus:</th>       <td>595.323</td> <th>  Durbin-Watson:     </th> <td>   0.633</td> \n",
       "</tr>\n",
       "<tr>\n",
       "  <th>Prob(Omnibus):</th> <td> 0.000</td>  <th>  Jarque-Bera (JB):  </th> <td>1114.183</td> \n",
       "</tr>\n",
       "<tr>\n",
       "  <th>Skew:</th>          <td> 1.366</td>  <th>  Prob(JB):          </th> <td>1.14e-242</td>\n",
       "</tr>\n",
       "<tr>\n",
       "  <th>Kurtosis:</th>      <td> 4.579</td>  <th>  Cond. No.          </th> <td>    260.</td> \n",
       "</tr>\n",
       "</table>"
      ],
      "text/plain": [
       "<class 'statsmodels.iolib.summary.Summary'>\n",
       "\"\"\"\n",
       "                            OLS Regression Results                            \n",
       "==============================================================================\n",
       "Dep. Variable:                  VALUE   R-squared:                       0.286\n",
       "Model:                            OLS   Adj. R-squared:                  0.282\n",
       "Method:                 Least Squares   F-statistic:                     71.33\n",
       "Date:                Mon, 20 Nov 2017   Prob (F-statistic):          1.40e-182\n",
       "Time:                        00:26:11   Log-Likelihood:                 27.745\n",
       "No. Observations:                2685   AIC:                            -23.49\n",
       "Df Residuals:                    2669   BIC:                             70.84\n",
       "Df Model:                          15                                         \n",
       "Covariance Type:            nonrobust                                         \n",
       "===========================================================================================================================\n",
       "                                                              coef    std err          t      P>|t|      [0.025      0.975]\n",
       "---------------------------------------------------------------------------------------------------------------------------\n",
       "C(Benchmarking_Submission)[In Compliance]                  -0.3617      0.240     -1.505      0.132      -0.833       0.109\n",
       "C(Reported_Water_Method)[T.Manual]                          0.0793      0.032      2.456      0.014       0.016       0.143\n",
       "C(Reported_Facility_Type)[T.Distribution Center]            0.0205      0.257      0.080      0.936      -0.483       0.524\n",
       "C(Reported_Facility_Type)[T.Financial Office]               0.2783      0.341      0.815      0.415      -0.391       0.948\n",
       "C(Reported_Facility_Type)[T.Hotel]                          0.4225      0.263      1.606      0.109      -0.094       0.938\n",
       "C(Reported_Facility_Type)[T.K-12 School]                    0.3962      0.269      1.475      0.140      -0.130       0.923\n",
       "C(Reported_Facility_Type)[T.Medical Office]                 0.3552      0.263      1.349      0.177      -0.161       0.871\n",
       "C(Reported_Facility_Type)[T.Multifamily Housing]            0.0500      0.240      0.208      0.835      -0.421       0.521\n",
       "C(Reported_Facility_Type)[T.Non-Refrigerated Warehouse]     0.0150      0.247      0.061      0.952      -0.470       0.500\n",
       "C(Reported_Facility_Type)[T.Office]                         0.3752      0.241      1.556      0.120      -0.098       0.848\n",
       "C(Reported_Facility_Type)[T.Residence Hall/Dormitory]       0.3666      0.248      1.480      0.139      -0.119       0.852\n",
       "C(Reported_Facility_Type)[T.Retail Store]                   0.0688      0.340      0.202      0.840      -0.597       0.735\n",
       "C(Reported_Facility_Type)[T.Senior Care Community]          0.3574      0.250      1.429      0.153      -0.133       0.848\n",
       "C(Reported_Facility_Type)[T.Worship Facility]               0.4615      0.294      1.569      0.117      -0.115       1.038\n",
       "Energy_efficiency                                          -0.0259      0.005     -4.851      0.000      -0.036      -0.015\n",
       "Property_area                                               0.3768      0.014     26.584      0.000       0.349       0.405\n",
       "==============================================================================\n",
       "Omnibus:                      595.323   Durbin-Watson:                   0.633\n",
       "Prob(Omnibus):                  0.000   Jarque-Bera (JB):             1114.183\n",
       "Skew:                           1.366   Prob(JB):                    1.14e-242\n",
       "Kurtosis:                       4.579   Cond. No.                         260.\n",
       "==============================================================================\n",
       "\n",
       "Warnings:\n",
       "[1] Standard Errors assume that the covariance matrix of the errors is correctly specified.\n",
       "\"\"\""
      ]
     },
     "execution_count": 283,
     "metadata": {},
     "output_type": "execute_result"
    }
   ],
   "source": [
    "lm_with_energy = smf.ols(formula='VALUE~Energy_efficiency+Property_area+C(Benchmarking_Submission)+C(Reported_Water_Method)+\\\n",
    "                       C(Reported_Facility_Type)-1'\n",
    "             ,data=merged16).fit()\n",
    "lm_with_energy.summary()"
   ]
  },
  {
   "cell_type": "code",
   "execution_count": 284,
   "metadata": {},
   "outputs": [
    {
     "data": {
      "text/html": [
       "<div>\n",
       "<style scoped>\n",
       "    .dataframe tbody tr th:only-of-type {\n",
       "        vertical-align: middle;\n",
       "    }\n",
       "\n",
       "    .dataframe tbody tr th {\n",
       "        vertical-align: top;\n",
       "    }\n",
       "\n",
       "    .dataframe thead th {\n",
       "        text-align: right;\n",
       "    }\n",
       "</style>\n",
       "<table border=\"1\" class=\"dataframe\">\n",
       "  <thead>\n",
       "    <tr style=\"text-align: right;\">\n",
       "      <th></th>\n",
       "      <th>df_resid</th>\n",
       "      <th>ssr</th>\n",
       "      <th>df_diff</th>\n",
       "      <th>ss_diff</th>\n",
       "      <th>F</th>\n",
       "      <th>Pr(&gt;F)</th>\n",
       "    </tr>\n",
       "  </thead>\n",
       "  <tbody>\n",
       "    <tr>\n",
       "      <th>0</th>\n",
       "      <td>2670.0</td>\n",
       "      <td>155.348282</td>\n",
       "      <td>0.0</td>\n",
       "      <td>NaN</td>\n",
       "      <td>NaN</td>\n",
       "      <td>NaN</td>\n",
       "    </tr>\n",
       "    <tr>\n",
       "      <th>1</th>\n",
       "      <td>2669.0</td>\n",
       "      <td>153.990696</td>\n",
       "      <td>1.0</td>\n",
       "      <td>1.357586</td>\n",
       "      <td>23.529974</td>\n",
       "      <td>0.000001</td>\n",
       "    </tr>\n",
       "  </tbody>\n",
       "</table>\n",
       "</div>"
      ],
      "text/plain": [
       "   df_resid         ssr  df_diff   ss_diff          F    Pr(>F)\n",
       "0    2670.0  155.348282      0.0       NaN        NaN       NaN\n",
       "1    2669.0  153.990696      1.0  1.357586  23.529974  0.000001"
      ]
     },
     "execution_count": 284,
     "metadata": {},
     "output_type": "execute_result"
    }
   ],
   "source": [
    "anova = sm.stats.anova_lm(lm_no_energy,lm_with_energy)\n",
    "anova"
   ]
  },
  {
   "cell_type": "code",
   "execution_count": 285,
   "metadata": {},
   "outputs": [
    {
     "data": {
      "text/plain": [
       "True"
      ]
     },
     "execution_count": 285,
     "metadata": {},
     "output_type": "execute_result"
    }
   ],
   "source": [
    "anova['Pr(>F)'][1] < 0.05"
   ]
  },
  {
   "cell_type": "markdown",
   "metadata": {},
   "source": [
    "## As p here is way less than our significance level 5%, We could conclude that energy efficiency actually has a significant impact on property market value"
   ]
  },
  {
   "cell_type": "markdown",
   "metadata": {},
   "source": [
    "### Linear Regression\n",
    "### Optimize the model using feature selection (maximizing adj-R2)"
   ]
  },
  {
   "cell_type": "code",
   "execution_count": 266,
   "metadata": {},
   "outputs": [
    {
     "data": {
      "text/html": [
       "<div>\n",
       "<style scoped>\n",
       "    .dataframe tbody tr th:only-of-type {\n",
       "        vertical-align: middle;\n",
       "    }\n",
       "\n",
       "    .dataframe tbody tr th {\n",
       "        vertical-align: top;\n",
       "    }\n",
       "\n",
       "    .dataframe thead th {\n",
       "        text-align: right;\n",
       "    }\n",
       "</style>\n",
       "<table border=\"1\" class=\"dataframe\">\n",
       "  <thead>\n",
       "    <tr style=\"text-align: right;\">\n",
       "      <th></th>\n",
       "      <th>BBL</th>\n",
       "      <th>Zip</th>\n",
       "      <th>Benchmarking_Submission</th>\n",
       "      <th>Site_EUI</th>\n",
       "      <th>Weather_Normalized_Source_EUI</th>\n",
       "      <th>Indoor_Water_Intensity(gal/ft2)</th>\n",
       "      <th>Reported_Water_Method</th>\n",
       "      <th>ENERGY_STAR_Score</th>\n",
       "      <th>GHG</th>\n",
       "      <th>Property_Floor_Area(ft2)</th>\n",
       "      <th>Reported_Facility_Type</th>\n",
       "      <th>Number_of_Buildings</th>\n",
       "      <th>VALUE</th>\n",
       "      <th>Energy_efficiency</th>\n",
       "      <th>Property_area</th>\n",
       "    </tr>\n",
       "  </thead>\n",
       "  <tbody>\n",
       "    <tr>\n",
       "      <th>3</th>\n",
       "      <td>1015180024</td>\n",
       "      <td>10128.0</td>\n",
       "      <td>In Compliance</td>\n",
       "      <td>-0.017825</td>\n",
       "      <td>-0.008997</td>\n",
       "      <td>-0.020404</td>\n",
       "      <td>ABS</td>\n",
       "      <td>-1.871790</td>\n",
       "      <td>-0.012300</td>\n",
       "      <td>0.053541</td>\n",
       "      <td>Multifamily Housing</td>\n",
       "      <td>-0.088747</td>\n",
       "      <td>0.530914</td>\n",
       "      <td>1.994778</td>\n",
       "      <td>0.399601</td>\n",
       "    </tr>\n",
       "    <tr>\n",
       "      <th>87</th>\n",
       "      <td>1000520021</td>\n",
       "      <td>10006.0</td>\n",
       "      <td>In Compliance</td>\n",
       "      <td>-0.023664</td>\n",
       "      <td>-0.022774</td>\n",
       "      <td>-0.166633</td>\n",
       "      <td>ABS</td>\n",
       "      <td>-1.360822</td>\n",
       "      <td>-0.072823</td>\n",
       "      <td>-0.561290</td>\n",
       "      <td>Multifamily Housing</td>\n",
       "      <td>-0.088747</td>\n",
       "      <td>-0.348515</td>\n",
       "      <td>1.493524</td>\n",
       "      <td>-0.217988</td>\n",
       "    </tr>\n",
       "    <tr>\n",
       "      <th>118</th>\n",
       "      <td>1000710001</td>\n",
       "      <td>10038.0</td>\n",
       "      <td>In Compliance</td>\n",
       "      <td>-0.013903</td>\n",
       "      <td>-0.017135</td>\n",
       "      <td>-0.121766</td>\n",
       "      <td>ABS</td>\n",
       "      <td>-1.433817</td>\n",
       "      <td>-0.062052</td>\n",
       "      <td>-0.614969</td>\n",
       "      <td>Multifamily Housing</td>\n",
       "      <td>-0.088747</td>\n",
       "      <td>-0.046381</td>\n",
       "      <td>1.570202</td>\n",
       "      <td>-0.271787</td>\n",
       "    </tr>\n",
       "    <tr>\n",
       "      <th>121</th>\n",
       "      <td>1000720027</td>\n",
       "      <td>10038.0</td>\n",
       "      <td>In Compliance</td>\n",
       "      <td>-0.066195</td>\n",
       "      <td>-0.040216</td>\n",
       "      <td>-0.152868</td>\n",
       "      <td>ABS</td>\n",
       "      <td>1.376507</td>\n",
       "      <td>-0.121422</td>\n",
       "      <td>-0.625369</td>\n",
       "      <td>Multifamily Housing</td>\n",
       "      <td>-0.088747</td>\n",
       "      <td>-0.402027</td>\n",
       "      <td>-1.238628</td>\n",
       "      <td>-0.365300</td>\n",
       "    </tr>\n",
       "    <tr>\n",
       "      <th>126</th>\n",
       "      <td>1000760024</td>\n",
       "      <td>10038.0</td>\n",
       "      <td>In Compliance</td>\n",
       "      <td>-0.041444</td>\n",
       "      <td>-0.026301</td>\n",
       "      <td>-0.159663</td>\n",
       "      <td>ABS</td>\n",
       "      <td>0.938534</td>\n",
       "      <td>-0.092776</td>\n",
       "      <td>-0.517244</td>\n",
       "      <td>Multifamily Housing</td>\n",
       "      <td>-0.088747</td>\n",
       "      <td>0.225341</td>\n",
       "      <td>-0.803587</td>\n",
       "      <td>-0.242531</td>\n",
       "    </tr>\n",
       "  </tbody>\n",
       "</table>\n",
       "</div>"
      ],
      "text/plain": [
       "            BBL      Zip Benchmarking_Submission  Site_EUI  \\\n",
       "3    1015180024  10128.0           In Compliance -0.017825   \n",
       "87   1000520021  10006.0           In Compliance -0.023664   \n",
       "118  1000710001  10038.0           In Compliance -0.013903   \n",
       "121  1000720027  10038.0           In Compliance -0.066195   \n",
       "126  1000760024  10038.0           In Compliance -0.041444   \n",
       "\n",
       "     Weather_Normalized_Source_EUI  Indoor_Water_Intensity(gal/ft2)  \\\n",
       "3                        -0.008997                        -0.020404   \n",
       "87                       -0.022774                        -0.166633   \n",
       "118                      -0.017135                        -0.121766   \n",
       "121                      -0.040216                        -0.152868   \n",
       "126                      -0.026301                        -0.159663   \n",
       "\n",
       "    Reported_Water_Method  ENERGY_STAR_Score       GHG  \\\n",
       "3                     ABS          -1.871790 -0.012300   \n",
       "87                    ABS          -1.360822 -0.072823   \n",
       "118                   ABS          -1.433817 -0.062052   \n",
       "121                   ABS           1.376507 -0.121422   \n",
       "126                   ABS           0.938534 -0.092776   \n",
       "\n",
       "     Property_Floor_Area(ft2) Reported_Facility_Type  Number_of_Buildings  \\\n",
       "3                    0.053541    Multifamily Housing            -0.088747   \n",
       "87                  -0.561290    Multifamily Housing            -0.088747   \n",
       "118                 -0.614969    Multifamily Housing            -0.088747   \n",
       "121                 -0.625369    Multifamily Housing            -0.088747   \n",
       "126                 -0.517244    Multifamily Housing            -0.088747   \n",
       "\n",
       "        VALUE  Energy_efficiency  Property_area  \n",
       "3    0.530914           1.994778       0.399601  \n",
       "87  -0.348515           1.493524      -0.217988  \n",
       "118 -0.046381           1.570202      -0.271787  \n",
       "121 -0.402027          -1.238628      -0.365300  \n",
       "126  0.225341          -0.803587      -0.242531  "
      ]
     },
     "execution_count": 266,
     "metadata": {},
     "output_type": "execute_result"
    }
   ],
   "source": [
    "merged16.head()"
   ]
  },
  {
   "cell_type": "code",
   "execution_count": 290,
   "metadata": {},
   "outputs": [],
   "source": [
    "train,test = train_test_split(merged16, test_size = 0.3)"
   ]
  },
  {
   "cell_type": "code",
   "execution_count": 324,
   "metadata": {},
   "outputs": [
    {
     "data": {
      "text/html": [
       "<table class=\"simpletable\">\n",
       "<caption>OLS Regression Results</caption>\n",
       "<tr>\n",
       "  <th>Dep. Variable:</th>          <td>VALUE</td>      <th>  R-squared:         </th> <td>   0.280</td> \n",
       "</tr>\n",
       "<tr>\n",
       "  <th>Model:</th>                   <td>OLS</td>       <th>  Adj. R-squared:    </th> <td>   0.275</td> \n",
       "</tr>\n",
       "<tr>\n",
       "  <th>Method:</th>             <td>Least Squares</td>  <th>  F-statistic:       </th> <td>   48.41</td> \n",
       "</tr>\n",
       "<tr>\n",
       "  <th>Date:</th>             <td>Mon, 20 Nov 2017</td> <th>  Prob (F-statistic):</th> <td>1.99e-121</td>\n",
       "</tr>\n",
       "<tr>\n",
       "  <th>Time:</th>                 <td>01:04:01</td>     <th>  Log-Likelihood:    </th> <td>  17.215</td> \n",
       "</tr>\n",
       "<tr>\n",
       "  <th>No. Observations:</th>      <td>  1879</td>      <th>  AIC:               </th> <td>  -2.429</td> \n",
       "</tr>\n",
       "<tr>\n",
       "  <th>Df Residuals:</th>          <td>  1863</td>      <th>  BIC:               </th> <td>   86.19</td> \n",
       "</tr>\n",
       "<tr>\n",
       "  <th>Df Model:</th>              <td>    15</td>      <th>                     </th>     <td> </td>    \n",
       "</tr>\n",
       "<tr>\n",
       "  <th>Covariance Type:</th>      <td>nonrobust</td>    <th>                     </th>     <td> </td>    \n",
       "</tr>\n",
       "</table>\n",
       "<table class=\"simpletable\">\n",
       "<tr>\n",
       "                             <td></td>                                <th>coef</th>     <th>std err</th>      <th>t</th>      <th>P>|t|</th>  <th>[0.025</th>    <th>0.975]</th>  \n",
       "</tr>\n",
       "<tr>\n",
       "  <th>Intercept</th>                                               <td>   -0.3631</td> <td>    0.241</td> <td>   -1.508</td> <td> 0.132</td> <td>   -0.835</td> <td>    0.109</td>\n",
       "</tr>\n",
       "<tr>\n",
       "  <th>C(Reported_Water_Method)[T.Manual]</th>                      <td>    0.0643</td> <td>    0.038</td> <td>    1.682</td> <td> 0.093</td> <td>   -0.011</td> <td>    0.139</td>\n",
       "</tr>\n",
       "<tr>\n",
       "  <th>C(Reported_Facility_Type)[T.Distribution Center]</th>        <td>    0.0270</td> <td>    0.260</td> <td>    0.104</td> <td> 0.917</td> <td>   -0.483</td> <td>    0.537</td>\n",
       "</tr>\n",
       "<tr>\n",
       "  <th>C(Reported_Facility_Type)[T.Financial Office]</th>           <td>    0.3022</td> <td>    0.343</td> <td>    0.881</td> <td> 0.378</td> <td>   -0.370</td> <td>    0.975</td>\n",
       "</tr>\n",
       "<tr>\n",
       "  <th>C(Reported_Facility_Type)[T.Hotel]</th>                      <td>    0.4648</td> <td>    0.278</td> <td>    1.672</td> <td> 0.095</td> <td>   -0.081</td> <td>    1.010</td>\n",
       "</tr>\n",
       "<tr>\n",
       "  <th>C(Reported_Facility_Type)[T.K-12 School]</th>                <td>    0.4439</td> <td>    0.278</td> <td>    1.596</td> <td> 0.111</td> <td>   -0.101</td> <td>    0.989</td>\n",
       "</tr>\n",
       "<tr>\n",
       "  <th>C(Reported_Facility_Type)[T.Medical Office]</th>             <td>    0.4129</td> <td>    0.278</td> <td>    1.483</td> <td> 0.138</td> <td>   -0.133</td> <td>    0.959</td>\n",
       "</tr>\n",
       "<tr>\n",
       "  <th>C(Reported_Facility_Type)[T.Multifamily Housing]</th>        <td>    0.0537</td> <td>    0.241</td> <td>    0.223</td> <td> 0.824</td> <td>   -0.419</td> <td>    0.526</td>\n",
       "</tr>\n",
       "<tr>\n",
       "  <th>C(Reported_Facility_Type)[T.Non-Refrigerated Warehouse]</th> <td>   -0.0048</td> <td>    0.250</td> <td>   -0.019</td> <td> 0.985</td> <td>   -0.495</td> <td>    0.486</td>\n",
       "</tr>\n",
       "<tr>\n",
       "  <th>C(Reported_Facility_Type)[T.Office]</th>                     <td>    0.3688</td> <td>    0.242</td> <td>    1.523</td> <td> 0.128</td> <td>   -0.106</td> <td>    0.844</td>\n",
       "</tr>\n",
       "<tr>\n",
       "  <th>C(Reported_Facility_Type)[T.Residence Hall/Dormitory]</th>   <td>    0.3876</td> <td>    0.253</td> <td>    1.535</td> <td> 0.125</td> <td>   -0.108</td> <td>    0.883</td>\n",
       "</tr>\n",
       "<tr>\n",
       "  <th>C(Reported_Facility_Type)[T.Retail Store]</th>               <td>    0.0732</td> <td>    0.341</td> <td>    0.215</td> <td> 0.830</td> <td>   -0.595</td> <td>    0.741</td>\n",
       "</tr>\n",
       "<tr>\n",
       "  <th>C(Reported_Facility_Type)[T.Senior Care Community]</th>      <td>    0.3556</td> <td>    0.253</td> <td>    1.407</td> <td> 0.160</td> <td>   -0.140</td> <td>    0.851</td>\n",
       "</tr>\n",
       "<tr>\n",
       "  <th>C(Reported_Facility_Type)[T.Worship Facility]</th>           <td>    0.4628</td> <td>    0.295</td> <td>    1.569</td> <td> 0.117</td> <td>   -0.116</td> <td>    1.041</td>\n",
       "</tr>\n",
       "<tr>\n",
       "  <th>Energy_efficiency</th>                                       <td>   -0.0220</td> <td>    0.006</td> <td>   -3.446</td> <td> 0.001</td> <td>   -0.035</td> <td>   -0.009</td>\n",
       "</tr>\n",
       "<tr>\n",
       "  <th>Property_area</th>                                           <td>    0.3666</td> <td>    0.017</td> <td>   21.958</td> <td> 0.000</td> <td>    0.334</td> <td>    0.399</td>\n",
       "</tr>\n",
       "</table>\n",
       "<table class=\"simpletable\">\n",
       "<tr>\n",
       "  <th>Omnibus:</th>       <td>385.470</td> <th>  Durbin-Watson:     </th> <td>   1.989</td> \n",
       "</tr>\n",
       "<tr>\n",
       "  <th>Prob(Omnibus):</th> <td> 0.000</td>  <th>  Jarque-Bera (JB):  </th> <td> 675.859</td> \n",
       "</tr>\n",
       "<tr>\n",
       "  <th>Skew:</th>          <td> 1.305</td>  <th>  Prob(JB):          </th> <td>1.73e-147</td>\n",
       "</tr>\n",
       "<tr>\n",
       "  <th>Kurtosis:</th>      <td> 4.351</td>  <th>  Cond. No.          </th> <td>    217.</td> \n",
       "</tr>\n",
       "</table>"
      ],
      "text/plain": [
       "<class 'statsmodels.iolib.summary.Summary'>\n",
       "\"\"\"\n",
       "                            OLS Regression Results                            \n",
       "==============================================================================\n",
       "Dep. Variable:                  VALUE   R-squared:                       0.280\n",
       "Model:                            OLS   Adj. R-squared:                  0.275\n",
       "Method:                 Least Squares   F-statistic:                     48.41\n",
       "Date:                Mon, 20 Nov 2017   Prob (F-statistic):          1.99e-121\n",
       "Time:                        01:04:01   Log-Likelihood:                 17.215\n",
       "No. Observations:                1879   AIC:                            -2.429\n",
       "Df Residuals:                    1863   BIC:                             86.19\n",
       "Df Model:                          15                                         \n",
       "Covariance Type:            nonrobust                                         \n",
       "===========================================================================================================================\n",
       "                                                              coef    std err          t      P>|t|      [0.025      0.975]\n",
       "---------------------------------------------------------------------------------------------------------------------------\n",
       "Intercept                                                  -0.3631      0.241     -1.508      0.132      -0.835       0.109\n",
       "C(Reported_Water_Method)[T.Manual]                          0.0643      0.038      1.682      0.093      -0.011       0.139\n",
       "C(Reported_Facility_Type)[T.Distribution Center]            0.0270      0.260      0.104      0.917      -0.483       0.537\n",
       "C(Reported_Facility_Type)[T.Financial Office]               0.3022      0.343      0.881      0.378      -0.370       0.975\n",
       "C(Reported_Facility_Type)[T.Hotel]                          0.4648      0.278      1.672      0.095      -0.081       1.010\n",
       "C(Reported_Facility_Type)[T.K-12 School]                    0.4439      0.278      1.596      0.111      -0.101       0.989\n",
       "C(Reported_Facility_Type)[T.Medical Office]                 0.4129      0.278      1.483      0.138      -0.133       0.959\n",
       "C(Reported_Facility_Type)[T.Multifamily Housing]            0.0537      0.241      0.223      0.824      -0.419       0.526\n",
       "C(Reported_Facility_Type)[T.Non-Refrigerated Warehouse]    -0.0048      0.250     -0.019      0.985      -0.495       0.486\n",
       "C(Reported_Facility_Type)[T.Office]                         0.3688      0.242      1.523      0.128      -0.106       0.844\n",
       "C(Reported_Facility_Type)[T.Residence Hall/Dormitory]       0.3876      0.253      1.535      0.125      -0.108       0.883\n",
       "C(Reported_Facility_Type)[T.Retail Store]                   0.0732      0.341      0.215      0.830      -0.595       0.741\n",
       "C(Reported_Facility_Type)[T.Senior Care Community]          0.3556      0.253      1.407      0.160      -0.140       0.851\n",
       "C(Reported_Facility_Type)[T.Worship Facility]               0.4628      0.295      1.569      0.117      -0.116       1.041\n",
       "Energy_efficiency                                          -0.0220      0.006     -3.446      0.001      -0.035      -0.009\n",
       "Property_area                                               0.3666      0.017     21.958      0.000       0.334       0.399\n",
       "==============================================================================\n",
       "Omnibus:                      385.470   Durbin-Watson:                   1.989\n",
       "Prob(Omnibus):                  0.000   Jarque-Bera (JB):              675.859\n",
       "Skew:                           1.305   Prob(JB):                    1.73e-147\n",
       "Kurtosis:                       4.351   Cond. No.                         217.\n",
       "==============================================================================\n",
       "\n",
       "Warnings:\n",
       "[1] Standard Errors assume that the covariance matrix of the errors is correctly specified.\n",
       "\"\"\""
      ]
     },
     "execution_count": 324,
     "metadata": {},
     "output_type": "execute_result"
    }
   ],
   "source": [
    "lm1 = smf.ols(formula='VALUE~Energy_efficiency+Property_area+C(Benchmarking_Submission)+C(Reported_Water_Method)+C(Reported_Facility_Type)'\n",
    "             ,data=train).fit()\n",
    "lm1.summary()"
   ]
  },
  {
   "cell_type": "code",
   "execution_count": 325,
   "metadata": {},
   "outputs": [],
   "source": [
    "pvalues = lm1.pvalues"
   ]
  },
  {
   "cell_type": "code",
   "execution_count": 326,
   "metadata": {},
   "outputs": [
    {
     "data": {
      "text/plain": [
       "Property_area                                              3.130896e-95\n",
       "Energy_efficiency                                          5.817321e-04\n",
       "C(Reported_Water_Method)[T.Manual]                         9.281261e-02\n",
       "C(Reported_Facility_Type)[T.Hotel]                         9.475852e-02\n",
       "C(Reported_Facility_Type)[T.K-12 School]                   1.105920e-01\n",
       "C(Reported_Facility_Type)[T.Worship Facility]              1.167370e-01\n",
       "C(Reported_Facility_Type)[T.Residence Hall/Dormitory]      1.250401e-01\n",
       "C(Reported_Facility_Type)[T.Office]                        1.278746e-01\n",
       "Intercept                                                  1.318176e-01\n",
       "C(Reported_Facility_Type)[T.Medical Office]                1.381797e-01\n",
       "C(Reported_Facility_Type)[T.Senior Care Community]         1.595013e-01\n",
       "C(Reported_Facility_Type)[T.Financial Office]              3.781726e-01\n",
       "C(Reported_Facility_Type)[T.Multifamily Housing]           8.235968e-01\n",
       "C(Reported_Facility_Type)[T.Retail Store]                  8.298614e-01\n",
       "C(Reported_Facility_Type)[T.Distribution Center]           9.174007e-01\n",
       "C(Reported_Facility_Type)[T.Non-Refrigerated Warehouse]    9.846170e-01\n",
       "dtype: float64"
      ]
     },
     "execution_count": 326,
     "metadata": {},
     "output_type": "execute_result"
    }
   ],
   "source": [
    "pvalues.sort_values(ascending=True)"
   ]
  },
  {
   "cell_type": "code",
   "execution_count": 322,
   "metadata": {},
   "outputs": [],
   "source": [
    "def AdjR2(features):\n",
    "    lm = smf.ols(formula = ('VALUE~'+features), data = train).fit()\n",
    "    lmy = lm.predict(test)\n",
    "    y_err = lmy-test.VALUE\n",
    "    y_norm = test.VALUE-np.mean(test.VALUE)\n",
    "    # Adjusted R^2\n",
    "    R2 = 1 - y_err.dot(y_err) / y_norm.dot(y_norm) * (len(merged16.index)-1) / (len(merged16.index)-(features.count('+')+1+features.count('-'))-1)\n",
    "    return R2, lm"
   ]
  },
  {
   "cell_type": "code",
   "execution_count": 323,
   "metadata": {},
   "outputs": [
    {
     "data": {
      "text/plain": [
       "(0.29484652625565744,\n",
       " <statsmodels.regression.linear_model.RegressionResultsWrapper at 0x1ac99320>)"
      ]
     },
     "execution_count": 323,
     "metadata": {},
     "output_type": "execute_result"
    }
   ],
   "source": [
    "AdjR2('Energy_efficiency+Property_area+C(Benchmarking_Submission)+C(Reported_Water_Method)+C(Reported_Facility_Type)-1')"
   ]
  },
  {
   "cell_type": "code",
   "execution_count": 328,
   "metadata": {},
   "outputs": [
    {
     "data": {
      "text/plain": [
       "0.20542377904204556"
      ]
     },
     "execution_count": 328,
     "metadata": {},
     "output_type": "execute_result"
    }
   ],
   "source": [
    "AdjR2('Property_area')[0]"
   ]
  },
  {
   "cell_type": "code",
   "execution_count": 329,
   "metadata": {},
   "outputs": [
    {
     "data": {
      "text/plain": [
       "0.22337348360059217"
      ]
     },
     "execution_count": 329,
     "metadata": {},
     "output_type": "execute_result"
    }
   ],
   "source": [
    "AdjR2('Energy_efficiency+Property_area')[0]"
   ]
  },
  {
   "cell_type": "code",
   "execution_count": 331,
   "metadata": {},
   "outputs": [
    {
     "data": {
      "text/plain": [
       "0.22615508754401314"
      ]
     },
     "execution_count": 331,
     "metadata": {},
     "output_type": "execute_result"
    }
   ],
   "source": [
    "AdjR2('Energy_efficiency+Property_area+C(Reported_Water_Method)')[0]"
   ]
  },
  {
   "cell_type": "code",
   "execution_count": 332,
   "metadata": {},
   "outputs": [
    {
     "data": {
      "text/plain": [
       "0.29537276019128755"
      ]
     },
     "execution_count": 332,
     "metadata": {},
     "output_type": "execute_result"
    }
   ],
   "source": [
    "AdjR2('Energy_efficiency+Property_area+C(Reported_Water_Method)+C(Reported_Facility_Type)')[0]"
   ]
  },
  {
   "cell_type": "code",
   "execution_count": 333,
   "metadata": {},
   "outputs": [
    {
     "data": {
      "text/plain": [
       "0.29510974143809277"
      ]
     },
     "execution_count": 333,
     "metadata": {},
     "output_type": "execute_result"
    }
   ],
   "source": [
    "AdjR2('Energy_efficiency+Property_area+C(Reported_Water_Method)+C(Reported_Facility_Type)-1')[0]"
   ]
  },
  {
   "cell_type": "code",
   "execution_count": 334,
   "metadata": {},
   "outputs": [
    {
     "data": {
      "text/html": [
       "<table class=\"simpletable\">\n",
       "<caption>OLS Regression Results</caption>\n",
       "<tr>\n",
       "  <th>Dep. Variable:</th>          <td>VALUE</td>      <th>  R-squared:         </th> <td>   0.280</td> \n",
       "</tr>\n",
       "<tr>\n",
       "  <th>Model:</th>                   <td>OLS</td>       <th>  Adj. R-squared:    </th> <td>   0.275</td> \n",
       "</tr>\n",
       "<tr>\n",
       "  <th>Method:</th>             <td>Least Squares</td>  <th>  F-statistic:       </th> <td>   48.41</td> \n",
       "</tr>\n",
       "<tr>\n",
       "  <th>Date:</th>             <td>Mon, 20 Nov 2017</td> <th>  Prob (F-statistic):</th> <td>1.99e-121</td>\n",
       "</tr>\n",
       "<tr>\n",
       "  <th>Time:</th>                 <td>01:07:59</td>     <th>  Log-Likelihood:    </th> <td>  17.215</td> \n",
       "</tr>\n",
       "<tr>\n",
       "  <th>No. Observations:</th>      <td>  1879</td>      <th>  AIC:               </th> <td>  -2.429</td> \n",
       "</tr>\n",
       "<tr>\n",
       "  <th>Df Residuals:</th>          <td>  1863</td>      <th>  BIC:               </th> <td>   86.19</td> \n",
       "</tr>\n",
       "<tr>\n",
       "  <th>Df Model:</th>              <td>    15</td>      <th>                     </th>     <td> </td>    \n",
       "</tr>\n",
       "<tr>\n",
       "  <th>Covariance Type:</th>      <td>nonrobust</td>    <th>                     </th>     <td> </td>    \n",
       "</tr>\n",
       "</table>\n",
       "<table class=\"simpletable\">\n",
       "<tr>\n",
       "                             <td></td>                                <th>coef</th>     <th>std err</th>      <th>t</th>      <th>P>|t|</th>  <th>[0.025</th>    <th>0.975]</th>  \n",
       "</tr>\n",
       "<tr>\n",
       "  <th>Intercept</th>                                               <td>   -0.3631</td> <td>    0.241</td> <td>   -1.508</td> <td> 0.132</td> <td>   -0.835</td> <td>    0.109</td>\n",
       "</tr>\n",
       "<tr>\n",
       "  <th>C(Reported_Water_Method)[T.Manual]</th>                      <td>    0.0643</td> <td>    0.038</td> <td>    1.682</td> <td> 0.093</td> <td>   -0.011</td> <td>    0.139</td>\n",
       "</tr>\n",
       "<tr>\n",
       "  <th>C(Reported_Facility_Type)[T.Distribution Center]</th>        <td>    0.0270</td> <td>    0.260</td> <td>    0.104</td> <td> 0.917</td> <td>   -0.483</td> <td>    0.537</td>\n",
       "</tr>\n",
       "<tr>\n",
       "  <th>C(Reported_Facility_Type)[T.Financial Office]</th>           <td>    0.3022</td> <td>    0.343</td> <td>    0.881</td> <td> 0.378</td> <td>   -0.370</td> <td>    0.975</td>\n",
       "</tr>\n",
       "<tr>\n",
       "  <th>C(Reported_Facility_Type)[T.Hotel]</th>                      <td>    0.4648</td> <td>    0.278</td> <td>    1.672</td> <td> 0.095</td> <td>   -0.081</td> <td>    1.010</td>\n",
       "</tr>\n",
       "<tr>\n",
       "  <th>C(Reported_Facility_Type)[T.K-12 School]</th>                <td>    0.4439</td> <td>    0.278</td> <td>    1.596</td> <td> 0.111</td> <td>   -0.101</td> <td>    0.989</td>\n",
       "</tr>\n",
       "<tr>\n",
       "  <th>C(Reported_Facility_Type)[T.Medical Office]</th>             <td>    0.4129</td> <td>    0.278</td> <td>    1.483</td> <td> 0.138</td> <td>   -0.133</td> <td>    0.959</td>\n",
       "</tr>\n",
       "<tr>\n",
       "  <th>C(Reported_Facility_Type)[T.Multifamily Housing]</th>        <td>    0.0537</td> <td>    0.241</td> <td>    0.223</td> <td> 0.824</td> <td>   -0.419</td> <td>    0.526</td>\n",
       "</tr>\n",
       "<tr>\n",
       "  <th>C(Reported_Facility_Type)[T.Non-Refrigerated Warehouse]</th> <td>   -0.0048</td> <td>    0.250</td> <td>   -0.019</td> <td> 0.985</td> <td>   -0.495</td> <td>    0.486</td>\n",
       "</tr>\n",
       "<tr>\n",
       "  <th>C(Reported_Facility_Type)[T.Office]</th>                     <td>    0.3688</td> <td>    0.242</td> <td>    1.523</td> <td> 0.128</td> <td>   -0.106</td> <td>    0.844</td>\n",
       "</tr>\n",
       "<tr>\n",
       "  <th>C(Reported_Facility_Type)[T.Residence Hall/Dormitory]</th>   <td>    0.3876</td> <td>    0.253</td> <td>    1.535</td> <td> 0.125</td> <td>   -0.108</td> <td>    0.883</td>\n",
       "</tr>\n",
       "<tr>\n",
       "  <th>C(Reported_Facility_Type)[T.Retail Store]</th>               <td>    0.0732</td> <td>    0.341</td> <td>    0.215</td> <td> 0.830</td> <td>   -0.595</td> <td>    0.741</td>\n",
       "</tr>\n",
       "<tr>\n",
       "  <th>C(Reported_Facility_Type)[T.Senior Care Community]</th>      <td>    0.3556</td> <td>    0.253</td> <td>    1.407</td> <td> 0.160</td> <td>   -0.140</td> <td>    0.851</td>\n",
       "</tr>\n",
       "<tr>\n",
       "  <th>C(Reported_Facility_Type)[T.Worship Facility]</th>           <td>    0.4628</td> <td>    0.295</td> <td>    1.569</td> <td> 0.117</td> <td>   -0.116</td> <td>    1.041</td>\n",
       "</tr>\n",
       "<tr>\n",
       "  <th>Energy_efficiency</th>                                       <td>   -0.0220</td> <td>    0.006</td> <td>   -3.446</td> <td> 0.001</td> <td>   -0.035</td> <td>   -0.009</td>\n",
       "</tr>\n",
       "<tr>\n",
       "  <th>Property_area</th>                                           <td>    0.3666</td> <td>    0.017</td> <td>   21.958</td> <td> 0.000</td> <td>    0.334</td> <td>    0.399</td>\n",
       "</tr>\n",
       "</table>\n",
       "<table class=\"simpletable\">\n",
       "<tr>\n",
       "  <th>Omnibus:</th>       <td>385.470</td> <th>  Durbin-Watson:     </th> <td>   1.989</td> \n",
       "</tr>\n",
       "<tr>\n",
       "  <th>Prob(Omnibus):</th> <td> 0.000</td>  <th>  Jarque-Bera (JB):  </th> <td> 675.859</td> \n",
       "</tr>\n",
       "<tr>\n",
       "  <th>Skew:</th>          <td> 1.305</td>  <th>  Prob(JB):          </th> <td>1.73e-147</td>\n",
       "</tr>\n",
       "<tr>\n",
       "  <th>Kurtosis:</th>      <td> 4.351</td>  <th>  Cond. No.          </th> <td>    217.</td> \n",
       "</tr>\n",
       "</table>"
      ],
      "text/plain": [
       "<class 'statsmodels.iolib.summary.Summary'>\n",
       "\"\"\"\n",
       "                            OLS Regression Results                            \n",
       "==============================================================================\n",
       "Dep. Variable:                  VALUE   R-squared:                       0.280\n",
       "Model:                            OLS   Adj. R-squared:                  0.275\n",
       "Method:                 Least Squares   F-statistic:                     48.41\n",
       "Date:                Mon, 20 Nov 2017   Prob (F-statistic):          1.99e-121\n",
       "Time:                        01:07:59   Log-Likelihood:                 17.215\n",
       "No. Observations:                1879   AIC:                            -2.429\n",
       "Df Residuals:                    1863   BIC:                             86.19\n",
       "Df Model:                          15                                         \n",
       "Covariance Type:            nonrobust                                         \n",
       "===========================================================================================================================\n",
       "                                                              coef    std err          t      P>|t|      [0.025      0.975]\n",
       "---------------------------------------------------------------------------------------------------------------------------\n",
       "Intercept                                                  -0.3631      0.241     -1.508      0.132      -0.835       0.109\n",
       "C(Reported_Water_Method)[T.Manual]                          0.0643      0.038      1.682      0.093      -0.011       0.139\n",
       "C(Reported_Facility_Type)[T.Distribution Center]            0.0270      0.260      0.104      0.917      -0.483       0.537\n",
       "C(Reported_Facility_Type)[T.Financial Office]               0.3022      0.343      0.881      0.378      -0.370       0.975\n",
       "C(Reported_Facility_Type)[T.Hotel]                          0.4648      0.278      1.672      0.095      -0.081       1.010\n",
       "C(Reported_Facility_Type)[T.K-12 School]                    0.4439      0.278      1.596      0.111      -0.101       0.989\n",
       "C(Reported_Facility_Type)[T.Medical Office]                 0.4129      0.278      1.483      0.138      -0.133       0.959\n",
       "C(Reported_Facility_Type)[T.Multifamily Housing]            0.0537      0.241      0.223      0.824      -0.419       0.526\n",
       "C(Reported_Facility_Type)[T.Non-Refrigerated Warehouse]    -0.0048      0.250     -0.019      0.985      -0.495       0.486\n",
       "C(Reported_Facility_Type)[T.Office]                         0.3688      0.242      1.523      0.128      -0.106       0.844\n",
       "C(Reported_Facility_Type)[T.Residence Hall/Dormitory]       0.3876      0.253      1.535      0.125      -0.108       0.883\n",
       "C(Reported_Facility_Type)[T.Retail Store]                   0.0732      0.341      0.215      0.830      -0.595       0.741\n",
       "C(Reported_Facility_Type)[T.Senior Care Community]          0.3556      0.253      1.407      0.160      -0.140       0.851\n",
       "C(Reported_Facility_Type)[T.Worship Facility]               0.4628      0.295      1.569      0.117      -0.116       1.041\n",
       "Energy_efficiency                                          -0.0220      0.006     -3.446      0.001      -0.035      -0.009\n",
       "Property_area                                               0.3666      0.017     21.958      0.000       0.334       0.399\n",
       "==============================================================================\n",
       "Omnibus:                      385.470   Durbin-Watson:                   1.989\n",
       "Prob(Omnibus):                  0.000   Jarque-Bera (JB):              675.859\n",
       "Skew:                           1.305   Prob(JB):                    1.73e-147\n",
       "Kurtosis:                       4.351   Cond. No.                         217.\n",
       "==============================================================================\n",
       "\n",
       "Warnings:\n",
       "[1] Standard Errors assume that the covariance matrix of the errors is correctly specified.\n",
       "\"\"\""
      ]
     },
     "execution_count": 334,
     "metadata": {},
     "output_type": "execute_result"
    }
   ],
   "source": [
    "lm = smf.ols(formula='VALUE~Energy_efficiency+Property_area+C(Reported_Water_Method)+C(Reported_Facility_Type)'\n",
    "             ,data=train).fit()\n",
    "lm.summary()"
   ]
  },
  {
   "cell_type": "markdown",
   "metadata": {},
   "source": [
    "### Log-log Linear Regression"
   ]
  }
 ],
 "metadata": {
  "kernelspec": {
   "display_name": "Python 2",
   "language": "python",
   "name": "python2"
  },
  "language_info": {
   "codemirror_mode": {
    "name": "ipython",
    "version": 2
   },
   "file_extension": ".py",
   "mimetype": "text/x-python",
   "name": "python",
   "nbconvert_exporter": "python",
   "pygments_lexer": "ipython2",
   "version": "2.7.14"
  }
 },
 "nbformat": 4,
 "nbformat_minor": 2
}
