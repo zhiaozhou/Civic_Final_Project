version https://git-lfs.github.com/spec/v1
oid sha256:bdaf242b5ee1ef62fe7980c5fa72ea258c12096cc3114478727cf74cf94333c9
size 242901
