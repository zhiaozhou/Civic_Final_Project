{
 "cells": [
  {
   "cell_type": "code",
   "execution_count": 779,
   "metadata": {},
   "outputs": [
    {
     "name": "stdout",
     "output_type": "stream",
     "text": [
      "Populating the interactive namespace from numpy and matplotlib\n"
     ]
    }
   ],
   "source": [
    "import pandas as pd\n",
    "import numpy as np\n",
    "import matplotlib.pyplot as plt\n",
    "%pylab inline\n",
    "import scipy.stats\n",
    "import statsmodels.formula.api as smf\n",
    "import statsmodels.api as sm\n",
    "import urllib\n",
    "import requests\n",
    "import zipfile\n",
    "pd.set_option('display.max_rows', 50)\n",
    "pd.set_option('display.max_columns', 50)\n",
    "from sklearn.decomposition import PCA\n",
    "import geopandas as gpd\n",
    "from sklearn.model_selection import train_test_split"
   ]
  },
  {
   "cell_type": "markdown",
   "metadata": {},
   "source": [
    "# 1. data preparation"
   ]
  },
  {
   "cell_type": "code",
   "execution_count": 780,
   "metadata": {},
   "outputs": [],
   "source": [
    "def get_LL84(url):\n",
    "    data = pd.read_excel(url)\n",
    "    cols = [x.encode('utf8').replace('\\xc2\\xb2', '2') for x in data.columns]\n",
    "    data.columns = cols\n",
    "    data.rename(columns = {'NYC Borough, Block, and Lot (BBL)':'BBL',\n",
    "                           'NYC Borough, Block and Lot (BBL)':'BBL','Zip Code':'Zip',\n",
    "                           'Site EUI (kBtu/ft2)':'Site EUI',\n",
    "        'Site EUI\\n(kBtu/ft2)':'Site EUI','DOF Benchmarking Submission Status':'Benchmarking Submission',\n",
    "                           'Weather Normalized Source EUI\\n(kBtu/ft2)':'Weather Normalized Source EUI',\n",
    "                           'Weather Normalized Source EUI (kBtu/ft2)':'Weather Normalized Source EUI',\n",
    "                           'Municipally Supplied Potable Water - Indoor Intensity (gal/ft2)':'Indoor Water Intensity(gal/ft2)',\n",
    "                           'Indoor Water Intensity (All Water Sources)\\n(gal/ft2)':'Indoor Water Intensity(gal/ft2)',\n",
    "                           'Water per Square Foot':'Indoor Water Intensity(gal/ft2)',\n",
    "                           'Total GHG Emissions\\n(MtCO2e)':'GHG',\n",
    "                           'Total GHG Emissions (Metric Tons CO2e)':'GHG',\n",
    "                           'Municipally Supplied Potable Water - Indoor Intensity (gal/ft2)':'Indoor Water Intensity(gal/ft2)',\n",
    "                               'Property Floor Area (Buildngs and Parking)\\n(ft2)':'Property Floor Area(ft2)',\n",
    "                           'DOF Property Floor Area (ft2)':'Property Floor Area(ft2)',\n",
    "                               'DOF Property Floor Area (Buildngs and Parking)\\n(ft2)':'Property Floor Area(ft2)',\n",
    "                           'DOF Property Floor Area (ft²)':'Property Floor Area(ft2)',\n",
    "                               'DOF Number of Buildings':'Number of Buildings',\n",
    "                           'Number of Buildings - Self-reported':'Number of Buildings',\n",
    "                          'Primary Property Type - Self Selected':'Reported Facility Type'},inplace=True)\n",
    "    \n",
    "    \n",
    "    data = data[data['ENERGY STAR Score']>0][['BBL','Zip','Benchmarking Submission','Site EUI','Weather Normalized Source EUI',\n",
    "                 'Indoor Water Intensity(gal/ft2)','Reported Water Method','ENERGY STAR Score'\n",
    "                ,'GHG','Property Floor Area(ft2)','Reported Facility Type','Number of Buildings']]\n",
    "    return data"
   ]
  },
  {
   "cell_type": "code",
   "execution_count": 781,
   "metadata": {},
   "outputs": [],
   "source": [
    "#LL13 = get_LL84('http://www.nyc.gov/html/gbee/downloads/excel/2013_nyc_ll84_disclosure.xlsx')"
   ]
  },
  {
   "cell_type": "code",
   "execution_count": 782,
   "metadata": {},
   "outputs": [],
   "source": [
    "#LL14 = get_LL84('http://www.nyc.gov/html/gbee/downloads/excel/150428_2014_nyc_ll84_disclosure.xlsx')"
   ]
  },
  {
   "cell_type": "code",
   "execution_count": 783,
   "metadata": {},
   "outputs": [],
   "source": [
    "#LL15 = get_LL84('http://www.nyc.gov/html/gbee/downloads/excel/2015_nyc_cy2014__ll84_disclosure_data.xlsx')"
   ]
  },
  {
   "cell_type": "code",
   "execution_count": 784,
   "metadata": {},
   "outputs": [],
   "source": [
    "LL16 = get_LL84('http://www.nyc.gov/html/gbee/downloads/excel/nyc_benchmarking_disclosure_data_reported_in_2016.xlsx')"
   ]
  },
  {
   "cell_type": "code",
   "execution_count": 785,
   "metadata": {},
   "outputs": [],
   "source": [
    "PRICE = pd.read_csv('Housing_price/2016.csv')"
   ]
  },
  {
   "cell_type": "markdown",
   "metadata": {},
   "source": [
    "## As we have only 4 years of data here, we would now only use data of 2016 "
   ]
  },
  {
   "cell_type": "code",
   "execution_count": 786,
   "metadata": {},
   "outputs": [],
   "source": [
    "LL16.BBL = LL16.BBL.astype('str').str[:-2]"
   ]
  },
  {
   "cell_type": "code",
   "execution_count": 787,
   "metadata": {},
   "outputs": [],
   "source": [
    "merged16 = pd.merge(LL16,PRICE,on='BBL')"
   ]
  },
  {
   "cell_type": "code",
   "execution_count": 788,
   "metadata": {},
   "outputs": [],
   "source": [
    "merged16 = merged16[merged16.VALUE>0]"
   ]
  },
  {
   "cell_type": "code",
   "execution_count": 789,
   "metadata": {},
   "outputs": [],
   "source": [
    "merged16.dropna(axis=0,inplace = True)"
   ]
  },
  {
   "cell_type": "code",
   "execution_count": 790,
   "metadata": {
    "scrolled": false
   },
   "outputs": [],
   "source": [
    "merged16.columns = [x.replace(' ','_') for x in merged16.columns]"
   ]
  },
  {
   "cell_type": "code",
   "execution_count": 791,
   "metadata": {},
   "outputs": [],
   "source": [
    "merged16.VALUE = merged16.VALUE/merged16['Property_Floor_Area(ft2)']"
   ]
  },
  {
   "cell_type": "code",
   "execution_count": 792,
   "metadata": {},
   "outputs": [
    {
     "data": {
      "text/html": [
       "<div>\n",
       "<style scoped>\n",
       "    .dataframe tbody tr th:only-of-type {\n",
       "        vertical-align: middle;\n",
       "    }\n",
       "\n",
       "    .dataframe tbody tr th {\n",
       "        vertical-align: top;\n",
       "    }\n",
       "\n",
       "    .dataframe thead th {\n",
       "        text-align: right;\n",
       "    }\n",
       "</style>\n",
       "<table border=\"1\" class=\"dataframe\">\n",
       "  <thead>\n",
       "    <tr style=\"text-align: right;\">\n",
       "      <th></th>\n",
       "      <th>BBL</th>\n",
       "      <th>Zip</th>\n",
       "      <th>Benchmarking_Submission</th>\n",
       "      <th>Site_EUI</th>\n",
       "      <th>Weather_Normalized_Source_EUI</th>\n",
       "      <th>Indoor_Water_Intensity(gal/ft2)</th>\n",
       "      <th>Reported_Water_Method</th>\n",
       "      <th>ENERGY_STAR_Score</th>\n",
       "      <th>GHG</th>\n",
       "      <th>Property_Floor_Area(ft2)</th>\n",
       "      <th>Reported_Facility_Type</th>\n",
       "      <th>Number_of_Buildings</th>\n",
       "      <th>VALUE</th>\n",
       "    </tr>\n",
       "  </thead>\n",
       "  <tbody>\n",
       "    <tr>\n",
       "      <th>2</th>\n",
       "      <td>1014270028</td>\n",
       "      <td>10021.0</td>\n",
       "      <td>In Compliance</td>\n",
       "      <td>44.9</td>\n",
       "      <td>105.2</td>\n",
       "      <td>71.51</td>\n",
       "      <td>Manual</td>\n",
       "      <td>80.0</td>\n",
       "      <td>538.4</td>\n",
       "      <td>166432.0</td>\n",
       "      <td>Multifamily Housing</td>\n",
       "      <td>1.0</td>\n",
       "      <td>203.873053</td>\n",
       "    </tr>\n",
       "    <tr>\n",
       "      <th>3</th>\n",
       "      <td>1015180024</td>\n",
       "      <td>10128.0</td>\n",
       "      <td>In Compliance</td>\n",
       "      <td>91.3</td>\n",
       "      <td>180.7</td>\n",
       "      <td>64.86</td>\n",
       "      <td>ABS</td>\n",
       "      <td>10.0</td>\n",
       "      <td>699.3</td>\n",
       "      <td>114939.0</td>\n",
       "      <td>Multifamily Housing</td>\n",
       "      <td>1.0</td>\n",
       "      <td>211.138082</td>\n",
       "    </tr>\n",
       "    <tr>\n",
       "      <th>49</th>\n",
       "      <td>1000260021</td>\n",
       "      <td>10005.0</td>\n",
       "      <td>In Compliance</td>\n",
       "      <td>63.5</td>\n",
       "      <td>128.4</td>\n",
       "      <td>34.22</td>\n",
       "      <td>ABS</td>\n",
       "      <td>39.0</td>\n",
       "      <td>2163.1</td>\n",
       "      <td>493187.0</td>\n",
       "      <td>Multifamily Housing</td>\n",
       "      <td>1.0</td>\n",
       "      <td>231.713326</td>\n",
       "    </tr>\n",
       "    <tr>\n",
       "      <th>87</th>\n",
       "      <td>1000520021</td>\n",
       "      <td>10006.0</td>\n",
       "      <td>In Compliance</td>\n",
       "      <td>84.6</td>\n",
       "      <td>131.1</td>\n",
       "      <td>23.11</td>\n",
       "      <td>ABS</td>\n",
       "      <td>24.0</td>\n",
       "      <td>379.0</td>\n",
       "      <td>57945.0</td>\n",
       "      <td>Multifamily Housing</td>\n",
       "      <td>1.0</td>\n",
       "      <td>105.410303</td>\n",
       "    </tr>\n",
       "    <tr>\n",
       "      <th>108</th>\n",
       "      <td>1000680028</td>\n",
       "      <td>10038.0</td>\n",
       "      <td>In Compliance</td>\n",
       "      <td>107.7</td>\n",
       "      <td>231.7</td>\n",
       "      <td>88.05</td>\n",
       "      <td>ABS</td>\n",
       "      <td>40.0</td>\n",
       "      <td>534.2</td>\n",
       "      <td>71539.0</td>\n",
       "      <td>Hotel</td>\n",
       "      <td>1.0</td>\n",
       "      <td>421.168873</td>\n",
       "    </tr>\n",
       "  </tbody>\n",
       "</table>\n",
       "</div>"
      ],
      "text/plain": [
       "            BBL      Zip Benchmarking_Submission  Site_EUI  \\\n",
       "2    1014270028  10021.0           In Compliance      44.9   \n",
       "3    1015180024  10128.0           In Compliance      91.3   \n",
       "49   1000260021  10005.0           In Compliance      63.5   \n",
       "87   1000520021  10006.0           In Compliance      84.6   \n",
       "108  1000680028  10038.0           In Compliance     107.7   \n",
       "\n",
       "     Weather_Normalized_Source_EUI  Indoor_Water_Intensity(gal/ft2)  \\\n",
       "2                            105.2                            71.51   \n",
       "3                            180.7                            64.86   \n",
       "49                           128.4                            34.22   \n",
       "87                           131.1                            23.11   \n",
       "108                          231.7                            88.05   \n",
       "\n",
       "    Reported_Water_Method  ENERGY_STAR_Score     GHG  \\\n",
       "2                  Manual               80.0   538.4   \n",
       "3                     ABS               10.0   699.3   \n",
       "49                    ABS               39.0  2163.1   \n",
       "87                    ABS               24.0   379.0   \n",
       "108                   ABS               40.0   534.2   \n",
       "\n",
       "     Property_Floor_Area(ft2) Reported_Facility_Type  Number_of_Buildings  \\\n",
       "2                    166432.0    Multifamily Housing                  1.0   \n",
       "3                    114939.0    Multifamily Housing                  1.0   \n",
       "49                   493187.0    Multifamily Housing                  1.0   \n",
       "87                    57945.0    Multifamily Housing                  1.0   \n",
       "108                   71539.0                  Hotel                  1.0   \n",
       "\n",
       "          VALUE  \n",
       "2    203.873053  \n",
       "3    211.138082  \n",
       "49   231.713326  \n",
       "87   105.410303  \n",
       "108  421.168873  "
      ]
     },
     "execution_count": 792,
     "metadata": {},
     "output_type": "execute_result"
    }
   ],
   "source": [
    "merged16.head()"
   ]
  },
  {
   "cell_type": "markdown",
   "metadata": {},
   "source": [
    "# PLUTO"
   ]
  },
  {
   "cell_type": "code",
   "execution_count": 793,
   "metadata": {},
   "outputs": [
    {
     "data": {
      "text/plain": [
       "('pluto.zip', <httplib.HTTPMessage instance at 0x0000000017A126C8>)"
      ]
     },
     "execution_count": 793,
     "metadata": {},
     "output_type": "execute_result"
    }
   ],
   "source": [
    "urllib.urlretrieve('http://www1.nyc.gov/assets/planning/download/zip/data-maps/open-data/nyc_pluto_16v2%20.zip','pluto.zip')"
   ]
  },
  {
   "cell_type": "code",
   "execution_count": 794,
   "metadata": {},
   "outputs": [],
   "source": [
    "pluto = zipfile.ZipFile('pluto.zip')\n",
    "pluto.extractall()"
   ]
  },
  {
   "cell_type": "code",
   "execution_count": 795,
   "metadata": {
    "scrolled": false
   },
   "outputs": [
    {
     "name": "stderr",
     "output_type": "stream",
     "text": [
      "C:\\Users\\sddz0\\Anaconda2\\lib\\site-packages\\ipykernel_launcher.py:1: DtypeWarning: Columns (18,19,21,22,23,24,25,63,64,79) have mixed types. Specify dtype option on import or set low_memory=False.\n",
      "  \"\"\"Entry point for launching an IPython kernel.\n",
      "C:\\Users\\sddz0\\Anaconda2\\lib\\site-packages\\ipykernel_launcher.py:1: DtypeWarning: Columns (18,19,21,22,63,64,79) have mixed types. Specify dtype option on import or set low_memory=False.\n",
      "  \"\"\"Entry point for launching an IPython kernel.\n",
      "C:\\Users\\sddz0\\Anaconda2\\lib\\site-packages\\ipykernel_launcher.py:1: DtypeWarning: Columns (19,22,23,25,63,79) have mixed types. Specify dtype option on import or set low_memory=False.\n",
      "  \"\"\"Entry point for launching an IPython kernel.\n",
      "C:\\Users\\sddz0\\Anaconda2\\lib\\site-packages\\ipykernel_launcher.py:1: DtypeWarning: Columns (18,19,21,22,63,64,76) have mixed types. Specify dtype option on import or set low_memory=False.\n",
      "  \"\"\"Entry point for launching an IPython kernel.\n",
      "C:\\Users\\sddz0\\Anaconda2\\lib\\site-packages\\ipykernel_launcher.py:1: DtypeWarning: Columns (18,19,21,22,23,63,64,79) have mixed types. Specify dtype option on import or set low_memory=False.\n",
      "  \"\"\"Entry point for launching an IPython kernel.\n"
     ]
    }
   ],
   "source": [
    "pluto = pd.concat(pd.read_csv('BORO_zip_files_csv/{}.csv'.format(x))for x in ['BK','BX','MN','QN','SI'])"
   ]
  },
  {
   "cell_type": "code",
   "execution_count": 796,
   "metadata": {},
   "outputs": [
    {
     "data": {
      "text/plain": [
       "Index([u'Borough', u'Block', u'Lot', u'CD', u'CT2010', u'CB2010',\n",
       "       u'SchoolDist', u'Council', u'ZipCode', u'FireComp', u'PolicePrct',\n",
       "       u'HealthArea', u'SanitBoro', u'SanitDistrict', u'SanitSub', u'Address',\n",
       "       u'ZoneDist1', u'ZoneDist2', u'ZoneDist3', u'ZoneDist4', u'Overlay1',\n",
       "       u'Overlay2', u'SPDist1', u'SPDist2', u'SPDist3', u'LtdHeight',\n",
       "       u'SplitZone', u'BldgClass', u'LandUse', u'Easements', u'OwnerType',\n",
       "       u'OwnerName', u'LotArea', u'BldgArea', u'ComArea', u'ResArea',\n",
       "       u'OfficeArea', u'RetailArea', u'GarageArea', u'StrgeArea',\n",
       "       u'FactryArea', u'OtherArea', u'AreaSource', u'NumBldgs', u'NumFloors',\n",
       "       u'UnitsRes', u'UnitsTotal', u'LotFront', u'LotDepth', u'BldgFront',\n",
       "       u'BldgDepth', u'Ext', u'ProxCode', u'IrrLotCode', u'LotType',\n",
       "       u'BsmtCode', u'AssessLand', u'AssessTot', u'ExemptLand', u'ExemptTot',\n",
       "       u'YearBuilt', u'YearAlter1', u'YearAlter2', u'HistDist', u'Landmark',\n",
       "       u'BuiltFAR', u'ResidFAR', u'CommFAR', u'FacilFAR', u'BoroCode', u'BBL',\n",
       "       u'CondoNo', u'Tract2010', u'XCoord', u'YCoord', u'ZoneMap', u'ZMCode',\n",
       "       u'Sanborn', u'TaxMap', u'EDesigNum', u'APPBBL', u'APPDate',\n",
       "       u'PLUTOMapID', u'Version'],\n",
       "      dtype='object')"
      ]
     },
     "execution_count": 796,
     "metadata": {},
     "output_type": "execute_result"
    }
   ],
   "source": [
    "pluto.columns"
   ]
  },
  {
   "cell_type": "code",
   "execution_count": 797,
   "metadata": {},
   "outputs": [],
   "source": [
    "pluto = pluto[['NumFloors','UnitsTotal','YearBuilt','BBL']]"
   ]
  },
  {
   "cell_type": "code",
   "execution_count": 798,
   "metadata": {},
   "outputs": [],
   "source": [
    "pluto = pluto[(pluto != 0).all(1)]"
   ]
  },
  {
   "cell_type": "code",
   "execution_count": 799,
   "metadata": {},
   "outputs": [],
   "source": [
    "pluto.BBL = pluto.BBL.astype('str').str[:-2]"
   ]
  },
  {
   "cell_type": "code",
   "execution_count": 800,
   "metadata": {},
   "outputs": [],
   "source": [
    "merged16 = pd.merge(merged16,pluto,on='BBL')"
   ]
  },
  {
   "cell_type": "code",
   "execution_count": 801,
   "metadata": {},
   "outputs": [],
   "source": [
    "merged16['Age'] = 2017-merged16['YearBuilt']"
   ]
  },
  {
   "cell_type": "code",
   "execution_count": 802,
   "metadata": {},
   "outputs": [],
   "source": [
    "merged16.drop([merged16.columns[-2]],axis=1,inplace=True)"
   ]
  },
  {
   "cell_type": "code",
   "execution_count": 803,
   "metadata": {},
   "outputs": [
    {
     "data": {
      "text/html": [
       "<div>\n",
       "<style scoped>\n",
       "    .dataframe tbody tr th:only-of-type {\n",
       "        vertical-align: middle;\n",
       "    }\n",
       "\n",
       "    .dataframe tbody tr th {\n",
       "        vertical-align: top;\n",
       "    }\n",
       "\n",
       "    .dataframe thead th {\n",
       "        text-align: right;\n",
       "    }\n",
       "</style>\n",
       "<table border=\"1\" class=\"dataframe\">\n",
       "  <thead>\n",
       "    <tr style=\"text-align: right;\">\n",
       "      <th></th>\n",
       "      <th>BBL</th>\n",
       "      <th>Zip</th>\n",
       "      <th>Benchmarking_Submission</th>\n",
       "      <th>Site_EUI</th>\n",
       "      <th>Weather_Normalized_Source_EUI</th>\n",
       "      <th>Indoor_Water_Intensity(gal/ft2)</th>\n",
       "      <th>Reported_Water_Method</th>\n",
       "      <th>ENERGY_STAR_Score</th>\n",
       "      <th>GHG</th>\n",
       "      <th>Property_Floor_Area(ft2)</th>\n",
       "      <th>Reported_Facility_Type</th>\n",
       "      <th>Number_of_Buildings</th>\n",
       "      <th>VALUE</th>\n",
       "      <th>NumFloors</th>\n",
       "      <th>UnitsTotal</th>\n",
       "      <th>Age</th>\n",
       "    </tr>\n",
       "  </thead>\n",
       "  <tbody>\n",
       "    <tr>\n",
       "      <th>0</th>\n",
       "      <td>1014270028</td>\n",
       "      <td>10021.0</td>\n",
       "      <td>In Compliance</td>\n",
       "      <td>44.9</td>\n",
       "      <td>105.2</td>\n",
       "      <td>71.51</td>\n",
       "      <td>Manual</td>\n",
       "      <td>80.0</td>\n",
       "      <td>538.4</td>\n",
       "      <td>166432.0</td>\n",
       "      <td>Multifamily Housing</td>\n",
       "      <td>1.0</td>\n",
       "      <td>203.873053</td>\n",
       "      <td>21.0</td>\n",
       "      <td>149</td>\n",
       "      <td>53</td>\n",
       "    </tr>\n",
       "    <tr>\n",
       "      <th>1</th>\n",
       "      <td>1015180024</td>\n",
       "      <td>10128.0</td>\n",
       "      <td>In Compliance</td>\n",
       "      <td>91.3</td>\n",
       "      <td>180.7</td>\n",
       "      <td>64.86</td>\n",
       "      <td>ABS</td>\n",
       "      <td>10.0</td>\n",
       "      <td>699.3</td>\n",
       "      <td>114939.0</td>\n",
       "      <td>Multifamily Housing</td>\n",
       "      <td>1.0</td>\n",
       "      <td>211.138082</td>\n",
       "      <td>9.0</td>\n",
       "      <td>107</td>\n",
       "      <td>57</td>\n",
       "    </tr>\n",
       "    <tr>\n",
       "      <th>2</th>\n",
       "      <td>1000260021</td>\n",
       "      <td>10005.0</td>\n",
       "      <td>In Compliance</td>\n",
       "      <td>63.5</td>\n",
       "      <td>128.4</td>\n",
       "      <td>34.22</td>\n",
       "      <td>ABS</td>\n",
       "      <td>39.0</td>\n",
       "      <td>2163.1</td>\n",
       "      <td>493187.0</td>\n",
       "      <td>Multifamily Housing</td>\n",
       "      <td>1.0</td>\n",
       "      <td>231.713326</td>\n",
       "      <td>27.0</td>\n",
       "      <td>440</td>\n",
       "      <td>59</td>\n",
       "    </tr>\n",
       "    <tr>\n",
       "      <th>3</th>\n",
       "      <td>1000520021</td>\n",
       "      <td>10006.0</td>\n",
       "      <td>In Compliance</td>\n",
       "      <td>84.6</td>\n",
       "      <td>131.1</td>\n",
       "      <td>23.11</td>\n",
       "      <td>ABS</td>\n",
       "      <td>24.0</td>\n",
       "      <td>379.0</td>\n",
       "      <td>57945.0</td>\n",
       "      <td>Multifamily Housing</td>\n",
       "      <td>1.0</td>\n",
       "      <td>105.410303</td>\n",
       "      <td>13.0</td>\n",
       "      <td>22</td>\n",
       "      <td>117</td>\n",
       "    </tr>\n",
       "    <tr>\n",
       "      <th>4</th>\n",
       "      <td>1000680028</td>\n",
       "      <td>10038.0</td>\n",
       "      <td>In Compliance</td>\n",
       "      <td>107.7</td>\n",
       "      <td>231.7</td>\n",
       "      <td>88.05</td>\n",
       "      <td>ABS</td>\n",
       "      <td>40.0</td>\n",
       "      <td>534.2</td>\n",
       "      <td>71539.0</td>\n",
       "      <td>Hotel</td>\n",
       "      <td>1.0</td>\n",
       "      <td>421.168873</td>\n",
       "      <td>18.0</td>\n",
       "      <td>2</td>\n",
       "      <td>19</td>\n",
       "    </tr>\n",
       "  </tbody>\n",
       "</table>\n",
       "</div>"
      ],
      "text/plain": [
       "          BBL      Zip Benchmarking_Submission  Site_EUI  \\\n",
       "0  1014270028  10021.0           In Compliance      44.9   \n",
       "1  1015180024  10128.0           In Compliance      91.3   \n",
       "2  1000260021  10005.0           In Compliance      63.5   \n",
       "3  1000520021  10006.0           In Compliance      84.6   \n",
       "4  1000680028  10038.0           In Compliance     107.7   \n",
       "\n",
       "   Weather_Normalized_Source_EUI  Indoor_Water_Intensity(gal/ft2)  \\\n",
       "0                          105.2                            71.51   \n",
       "1                          180.7                            64.86   \n",
       "2                          128.4                            34.22   \n",
       "3                          131.1                            23.11   \n",
       "4                          231.7                            88.05   \n",
       "\n",
       "  Reported_Water_Method  ENERGY_STAR_Score     GHG  Property_Floor_Area(ft2)  \\\n",
       "0                Manual               80.0   538.4                  166432.0   \n",
       "1                   ABS               10.0   699.3                  114939.0   \n",
       "2                   ABS               39.0  2163.1                  493187.0   \n",
       "3                   ABS               24.0   379.0                   57945.0   \n",
       "4                   ABS               40.0   534.2                   71539.0   \n",
       "\n",
       "  Reported_Facility_Type  Number_of_Buildings       VALUE  NumFloors  \\\n",
       "0    Multifamily Housing                  1.0  203.873053       21.0   \n",
       "1    Multifamily Housing                  1.0  211.138082        9.0   \n",
       "2    Multifamily Housing                  1.0  231.713326       27.0   \n",
       "3    Multifamily Housing                  1.0  105.410303       13.0   \n",
       "4                  Hotel                  1.0  421.168873       18.0   \n",
       "\n",
       "   UnitsTotal  Age  \n",
       "0         149   53  \n",
       "1         107   57  \n",
       "2         440   59  \n",
       "3          22  117  \n",
       "4           2   19  "
      ]
     },
     "execution_count": 803,
     "metadata": {},
     "output_type": "execute_result"
    }
   ],
   "source": [
    "merged16.head()"
   ]
  },
  {
   "cell_type": "markdown",
   "metadata": {},
   "source": [
    "# 2. PCA"
   ]
  },
  {
   "cell_type": "code",
   "execution_count": 804,
   "metadata": {},
   "outputs": [],
   "source": [
    "X_num = merged16[list(merged16.columns[3:6])+list(merged16.columns[7:10])+['Number_of_Buildings','VALUE','NumFloors','UnitsTotal','Age']]"
   ]
  },
  {
   "cell_type": "markdown",
   "metadata": {},
   "source": [
    "### Normalization"
   ]
  },
  {
   "cell_type": "markdown",
   "metadata": {},
   "source": [
    "### In order to do log transformation later, here we use feature scaling normalization in case of negative numbers"
   ]
  },
  {
   "cell_type": "code",
   "execution_count": 805,
   "metadata": {},
   "outputs": [],
   "source": [
    "columns = list(merged16.columns[3:6])+list(merged16.columns[7:10])+['Number_of_Buildings','VALUE','NumFloors','UnitsTotal','Age']"
   ]
  },
  {
   "cell_type": "code",
   "execution_count": 806,
   "metadata": {},
   "outputs": [],
   "source": [
    "def norm(data,columns):\n",
    "    for x in columns:\n",
    "        data[x] = (data[x]-np.min(data[x]))/(np.max(data[x])-np.min(data[x]))\n",
    "    return data"
   ]
  },
  {
   "cell_type": "code",
   "execution_count": 807,
   "metadata": {},
   "outputs": [],
   "source": [
    "merged16 = norm(merged16,columns)"
   ]
  },
  {
   "cell_type": "code",
   "execution_count": 808,
   "metadata": {},
   "outputs": [
    {
     "data": {
      "text/html": [
       "<div>\n",
       "<style scoped>\n",
       "    .dataframe tbody tr th:only-of-type {\n",
       "        vertical-align: middle;\n",
       "    }\n",
       "\n",
       "    .dataframe tbody tr th {\n",
       "        vertical-align: top;\n",
       "    }\n",
       "\n",
       "    .dataframe thead th {\n",
       "        text-align: right;\n",
       "    }\n",
       "</style>\n",
       "<table border=\"1\" class=\"dataframe\">\n",
       "  <thead>\n",
       "    <tr style=\"text-align: right;\">\n",
       "      <th></th>\n",
       "      <th>BBL</th>\n",
       "      <th>Zip</th>\n",
       "      <th>Benchmarking_Submission</th>\n",
       "      <th>Site_EUI</th>\n",
       "      <th>Weather_Normalized_Source_EUI</th>\n",
       "      <th>Indoor_Water_Intensity(gal/ft2)</th>\n",
       "      <th>Reported_Water_Method</th>\n",
       "      <th>ENERGY_STAR_Score</th>\n",
       "      <th>GHG</th>\n",
       "      <th>Property_Floor_Area(ft2)</th>\n",
       "      <th>Reported_Facility_Type</th>\n",
       "      <th>Number_of_Buildings</th>\n",
       "      <th>VALUE</th>\n",
       "      <th>NumFloors</th>\n",
       "      <th>UnitsTotal</th>\n",
       "      <th>Age</th>\n",
       "    </tr>\n",
       "  </thead>\n",
       "  <tbody>\n",
       "    <tr>\n",
       "      <th>0</th>\n",
       "      <td>1014270028</td>\n",
       "      <td>10021.0</td>\n",
       "      <td>In Compliance</td>\n",
       "      <td>0.000692</td>\n",
       "      <td>0.000514</td>\n",
       "      <td>0.005082</td>\n",
       "      <td>Manual</td>\n",
       "      <td>0.797980</td>\n",
       "      <td>0.001965</td>\n",
       "      <td>0.086420</td>\n",
       "      <td>Multifamily Housing</td>\n",
       "      <td>0.022222</td>\n",
       "      <td>0.148629</td>\n",
       "      <td>0.40</td>\n",
       "      <td>0.116078</td>\n",
       "      <td>0.30625</td>\n",
       "    </tr>\n",
       "    <tr>\n",
       "      <th>1</th>\n",
       "      <td>1015180024</td>\n",
       "      <td>10128.0</td>\n",
       "      <td>In Compliance</td>\n",
       "      <td>0.001415</td>\n",
       "      <td>0.000889</td>\n",
       "      <td>0.004610</td>\n",
       "      <td>ABS</td>\n",
       "      <td>0.090909</td>\n",
       "      <td>0.002558</td>\n",
       "      <td>0.048184</td>\n",
       "      <td>Multifamily Housing</td>\n",
       "      <td>0.022222</td>\n",
       "      <td>0.154151</td>\n",
       "      <td>0.16</td>\n",
       "      <td>0.083137</td>\n",
       "      <td>0.33125</td>\n",
       "    </tr>\n",
       "    <tr>\n",
       "      <th>2</th>\n",
       "      <td>1000260021</td>\n",
       "      <td>10005.0</td>\n",
       "      <td>In Compliance</td>\n",
       "      <td>0.000982</td>\n",
       "      <td>0.000629</td>\n",
       "      <td>0.002432</td>\n",
       "      <td>ABS</td>\n",
       "      <td>0.383838</td>\n",
       "      <td>0.007954</td>\n",
       "      <td>0.329054</td>\n",
       "      <td>Multifamily Housing</td>\n",
       "      <td>0.022222</td>\n",
       "      <td>0.169789</td>\n",
       "      <td>0.52</td>\n",
       "      <td>0.344314</td>\n",
       "      <td>0.34375</td>\n",
       "    </tr>\n",
       "    <tr>\n",
       "      <th>3</th>\n",
       "      <td>1000520021</td>\n",
       "      <td>10006.0</td>\n",
       "      <td>In Compliance</td>\n",
       "      <td>0.001311</td>\n",
       "      <td>0.000643</td>\n",
       "      <td>0.001642</td>\n",
       "      <td>ABS</td>\n",
       "      <td>0.232323</td>\n",
       "      <td>0.001378</td>\n",
       "      <td>0.005862</td>\n",
       "      <td>Multifamily Housing</td>\n",
       "      <td>0.022222</td>\n",
       "      <td>0.073796</td>\n",
       "      <td>0.24</td>\n",
       "      <td>0.016471</td>\n",
       "      <td>0.70625</td>\n",
       "    </tr>\n",
       "    <tr>\n",
       "      <th>4</th>\n",
       "      <td>1000680028</td>\n",
       "      <td>10038.0</td>\n",
       "      <td>In Compliance</td>\n",
       "      <td>0.001671</td>\n",
       "      <td>0.001142</td>\n",
       "      <td>0.006258</td>\n",
       "      <td>ABS</td>\n",
       "      <td>0.393939</td>\n",
       "      <td>0.001950</td>\n",
       "      <td>0.015957</td>\n",
       "      <td>Hotel</td>\n",
       "      <td>0.022222</td>\n",
       "      <td>0.313778</td>\n",
       "      <td>0.34</td>\n",
       "      <td>0.000784</td>\n",
       "      <td>0.09375</td>\n",
       "    </tr>\n",
       "  </tbody>\n",
       "</table>\n",
       "</div>"
      ],
      "text/plain": [
       "          BBL      Zip Benchmarking_Submission  Site_EUI  \\\n",
       "0  1014270028  10021.0           In Compliance  0.000692   \n",
       "1  1015180024  10128.0           In Compliance  0.001415   \n",
       "2  1000260021  10005.0           In Compliance  0.000982   \n",
       "3  1000520021  10006.0           In Compliance  0.001311   \n",
       "4  1000680028  10038.0           In Compliance  0.001671   \n",
       "\n",
       "   Weather_Normalized_Source_EUI  Indoor_Water_Intensity(gal/ft2)  \\\n",
       "0                       0.000514                         0.005082   \n",
       "1                       0.000889                         0.004610   \n",
       "2                       0.000629                         0.002432   \n",
       "3                       0.000643                         0.001642   \n",
       "4                       0.001142                         0.006258   \n",
       "\n",
       "  Reported_Water_Method  ENERGY_STAR_Score       GHG  \\\n",
       "0                Manual           0.797980  0.001965   \n",
       "1                   ABS           0.090909  0.002558   \n",
       "2                   ABS           0.383838  0.007954   \n",
       "3                   ABS           0.232323  0.001378   \n",
       "4                   ABS           0.393939  0.001950   \n",
       "\n",
       "   Property_Floor_Area(ft2) Reported_Facility_Type  Number_of_Buildings  \\\n",
       "0                  0.086420    Multifamily Housing             0.022222   \n",
       "1                  0.048184    Multifamily Housing             0.022222   \n",
       "2                  0.329054    Multifamily Housing             0.022222   \n",
       "3                  0.005862    Multifamily Housing             0.022222   \n",
       "4                  0.015957                  Hotel             0.022222   \n",
       "\n",
       "      VALUE  NumFloors  UnitsTotal      Age  \n",
       "0  0.148629       0.40    0.116078  0.30625  \n",
       "1  0.154151       0.16    0.083137  0.33125  \n",
       "2  0.169789       0.52    0.344314  0.34375  \n",
       "3  0.073796       0.24    0.016471  0.70625  \n",
       "4  0.313778       0.34    0.000784  0.09375  "
      ]
     },
     "execution_count": 808,
     "metadata": {},
     "output_type": "execute_result"
    }
   ],
   "source": [
    "merged16.head()"
   ]
  },
  {
   "cell_type": "markdown",
   "metadata": {},
   "source": [
    "### Remove outliers"
   ]
  },
  {
   "cell_type": "code",
   "execution_count": 809,
   "metadata": {},
   "outputs": [],
   "source": [
    "def clean(data,columns):\n",
    "    for x in columns:\n",
    "        data = data[(data[x]<np.mean(data[x])+2*np.std(data[x]))&(data[x]>np.mean(data[x])-2*np.std(data[x]))]\n",
    "    return data"
   ]
  },
  {
   "cell_type": "code",
   "execution_count": 810,
   "metadata": {},
   "outputs": [],
   "source": [
    "merged16 = clean(merged16,columns)"
   ]
  },
  {
   "cell_type": "code",
   "execution_count": 811,
   "metadata": {},
   "outputs": [
    {
     "data": {
      "text/html": [
       "<div>\n",
       "<style scoped>\n",
       "    .dataframe tbody tr th:only-of-type {\n",
       "        vertical-align: middle;\n",
       "    }\n",
       "\n",
       "    .dataframe tbody tr th {\n",
       "        vertical-align: top;\n",
       "    }\n",
       "\n",
       "    .dataframe thead th {\n",
       "        text-align: right;\n",
       "    }\n",
       "</style>\n",
       "<table border=\"1\" class=\"dataframe\">\n",
       "  <thead>\n",
       "    <tr style=\"text-align: right;\">\n",
       "      <th></th>\n",
       "      <th>BBL</th>\n",
       "      <th>Zip</th>\n",
       "      <th>Benchmarking_Submission</th>\n",
       "      <th>Site_EUI</th>\n",
       "      <th>Weather_Normalized_Source_EUI</th>\n",
       "      <th>Indoor_Water_Intensity(gal/ft2)</th>\n",
       "      <th>Reported_Water_Method</th>\n",
       "      <th>ENERGY_STAR_Score</th>\n",
       "      <th>GHG</th>\n",
       "      <th>Property_Floor_Area(ft2)</th>\n",
       "      <th>Reported_Facility_Type</th>\n",
       "      <th>Number_of_Buildings</th>\n",
       "      <th>VALUE</th>\n",
       "      <th>NumFloors</th>\n",
       "      <th>UnitsTotal</th>\n",
       "      <th>Age</th>\n",
       "    </tr>\n",
       "  </thead>\n",
       "  <tbody>\n",
       "    <tr>\n",
       "      <th>1</th>\n",
       "      <td>1015180024</td>\n",
       "      <td>10128.0</td>\n",
       "      <td>In Compliance</td>\n",
       "      <td>0.001415</td>\n",
       "      <td>0.000889</td>\n",
       "      <td>0.004610</td>\n",
       "      <td>ABS</td>\n",
       "      <td>0.090909</td>\n",
       "      <td>0.002558</td>\n",
       "      <td>0.048184</td>\n",
       "      <td>Multifamily Housing</td>\n",
       "      <td>0.022222</td>\n",
       "      <td>0.154151</td>\n",
       "      <td>0.16</td>\n",
       "      <td>0.083137</td>\n",
       "      <td>0.33125</td>\n",
       "    </tr>\n",
       "    <tr>\n",
       "      <th>3</th>\n",
       "      <td>1000520021</td>\n",
       "      <td>10006.0</td>\n",
       "      <td>In Compliance</td>\n",
       "      <td>0.001311</td>\n",
       "      <td>0.000643</td>\n",
       "      <td>0.001642</td>\n",
       "      <td>ABS</td>\n",
       "      <td>0.232323</td>\n",
       "      <td>0.001378</td>\n",
       "      <td>0.005862</td>\n",
       "      <td>Multifamily Housing</td>\n",
       "      <td>0.022222</td>\n",
       "      <td>0.073796</td>\n",
       "      <td>0.24</td>\n",
       "      <td>0.016471</td>\n",
       "      <td>0.70625</td>\n",
       "    </tr>\n",
       "    <tr>\n",
       "      <th>6</th>\n",
       "      <td>1000710001</td>\n",
       "      <td>10038.0</td>\n",
       "      <td>In Compliance</td>\n",
       "      <td>0.001486</td>\n",
       "      <td>0.000743</td>\n",
       "      <td>0.002553</td>\n",
       "      <td>ABS</td>\n",
       "      <td>0.212121</td>\n",
       "      <td>0.001588</td>\n",
       "      <td>0.002168</td>\n",
       "      <td>Multifamily Housing</td>\n",
       "      <td>0.022222</td>\n",
       "      <td>0.170841</td>\n",
       "      <td>0.16</td>\n",
       "      <td>0.050980</td>\n",
       "      <td>0.51875</td>\n",
       "    </tr>\n",
       "    <tr>\n",
       "      <th>7</th>\n",
       "      <td>1000720027</td>\n",
       "      <td>10038.0</td>\n",
       "      <td>In Compliance</td>\n",
       "      <td>0.000550</td>\n",
       "      <td>0.000331</td>\n",
       "      <td>0.001922</td>\n",
       "      <td>ABS</td>\n",
       "      <td>0.989899</td>\n",
       "      <td>0.000429</td>\n",
       "      <td>0.001452</td>\n",
       "      <td>Multifamily Housing</td>\n",
       "      <td>0.022222</td>\n",
       "      <td>0.066798</td>\n",
       "      <td>0.14</td>\n",
       "      <td>0.018824</td>\n",
       "      <td>0.70625</td>\n",
       "    </tr>\n",
       "    <tr>\n",
       "      <th>10</th>\n",
       "      <td>1000920024</td>\n",
       "      <td>10038.0</td>\n",
       "      <td>In Compliance</td>\n",
       "      <td>0.000373</td>\n",
       "      <td>0.000372</td>\n",
       "      <td>0.002103</td>\n",
       "      <td>Manual</td>\n",
       "      <td>1.000000</td>\n",
       "      <td>0.000795</td>\n",
       "      <td>0.043620</td>\n",
       "      <td>Financial Office</td>\n",
       "      <td>0.022222</td>\n",
       "      <td>0.104004</td>\n",
       "      <td>0.22</td>\n",
       "      <td>0.010980</td>\n",
       "      <td>0.64375</td>\n",
       "    </tr>\n",
       "  </tbody>\n",
       "</table>\n",
       "</div>"
      ],
      "text/plain": [
       "           BBL      Zip Benchmarking_Submission  Site_EUI  \\\n",
       "1   1015180024  10128.0           In Compliance  0.001415   \n",
       "3   1000520021  10006.0           In Compliance  0.001311   \n",
       "6   1000710001  10038.0           In Compliance  0.001486   \n",
       "7   1000720027  10038.0           In Compliance  0.000550   \n",
       "10  1000920024  10038.0           In Compliance  0.000373   \n",
       "\n",
       "    Weather_Normalized_Source_EUI  Indoor_Water_Intensity(gal/ft2)  \\\n",
       "1                        0.000889                         0.004610   \n",
       "3                        0.000643                         0.001642   \n",
       "6                        0.000743                         0.002553   \n",
       "7                        0.000331                         0.001922   \n",
       "10                       0.000372                         0.002103   \n",
       "\n",
       "   Reported_Water_Method  ENERGY_STAR_Score       GHG  \\\n",
       "1                    ABS           0.090909  0.002558   \n",
       "3                    ABS           0.232323  0.001378   \n",
       "6                    ABS           0.212121  0.001588   \n",
       "7                    ABS           0.989899  0.000429   \n",
       "10                Manual           1.000000  0.000795   \n",
       "\n",
       "    Property_Floor_Area(ft2) Reported_Facility_Type  Number_of_Buildings  \\\n",
       "1                   0.048184    Multifamily Housing             0.022222   \n",
       "3                   0.005862    Multifamily Housing             0.022222   \n",
       "6                   0.002168    Multifamily Housing             0.022222   \n",
       "7                   0.001452    Multifamily Housing             0.022222   \n",
       "10                  0.043620       Financial Office             0.022222   \n",
       "\n",
       "       VALUE  NumFloors  UnitsTotal      Age  \n",
       "1   0.154151       0.16    0.083137  0.33125  \n",
       "3   0.073796       0.24    0.016471  0.70625  \n",
       "6   0.170841       0.16    0.050980  0.51875  \n",
       "7   0.066798       0.14    0.018824  0.70625  \n",
       "10  0.104004       0.22    0.010980  0.64375  "
      ]
     },
     "execution_count": 811,
     "metadata": {},
     "output_type": "execute_result"
    }
   ],
   "source": [
    "merged16.head()"
   ]
  },
  {
   "cell_type": "code",
   "execution_count": 812,
   "metadata": {},
   "outputs": [],
   "source": [
    "X_num = merged16[list(merged16.columns[3:6])+list(merged16.columns[7:10])+['Number_of_Buildings','NumFloors','UnitsTotal','Age']]\n",
    "pca = PCA(0.99)\n",
    "Xproj = pca.fit_transform(X_num)"
   ]
  },
  {
   "cell_type": "code",
   "execution_count": 813,
   "metadata": {},
   "outputs": [
    {
     "data": {
      "text/plain": [
       "array([ 0.80296508,  0.15361489,  0.03345228])"
      ]
     },
     "execution_count": 813,
     "metadata": {},
     "output_type": "execute_result"
    }
   ],
   "source": [
    "pca.explained_variance_ratio_"
   ]
  },
  {
   "cell_type": "code",
   "execution_count": 814,
   "metadata": {},
   "outputs": [
    {
     "data": {
      "text/plain": [
       "array([[  1.11379369e-03,   4.46725175e-04,   3.18093164e-03,\n",
       "         -9.99708098e-01,   1.10542838e-03,  -8.00269198e-03,\n",
       "          2.37941122e-04,  -2.09437230e-02,   3.47633095e-03,\n",
       "         -7.49089980e-03],\n",
       "       [  8.92115697e-05,  -2.02698044e-05,   1.72308097e-04,\n",
       "          9.95617200e-03,   4.73800632e-04,   2.70199125e-02,\n",
       "          1.00240598e-03,  -1.17516152e-01,   8.60012704e-02,\n",
       "         -9.88920253e-01],\n",
       "       [ -5.16836010e-04,   2.38779878e-04,  -1.83093723e-02,\n",
       "         -2.09002073e-02,   4.08915049e-03,   1.45445635e-01,\n",
       "          1.09909387e-03,   9.82493333e-01,   1.92774917e-02,\n",
       "         -1.11312587e-01]])"
      ]
     },
     "execution_count": 814,
     "metadata": {},
     "output_type": "execute_result"
    }
   ],
   "source": [
    "pca.components_"
   ]
  },
  {
   "cell_type": "code",
   "execution_count": 815,
   "metadata": {},
   "outputs": [
    {
     "data": {
      "text/html": [
       "<div>\n",
       "<style scoped>\n",
       "    .dataframe tbody tr th:only-of-type {\n",
       "        vertical-align: middle;\n",
       "    }\n",
       "\n",
       "    .dataframe tbody tr th {\n",
       "        vertical-align: top;\n",
       "    }\n",
       "\n",
       "    .dataframe thead th {\n",
       "        text-align: right;\n",
       "    }\n",
       "</style>\n",
       "<table border=\"1\" class=\"dataframe\">\n",
       "  <thead>\n",
       "    <tr style=\"text-align: right;\">\n",
       "      <th></th>\n",
       "      <th>Site_EUI</th>\n",
       "      <th>Weather_Normalized_Source_EUI</th>\n",
       "      <th>Indoor_Water_Intensity(gal/ft2)</th>\n",
       "      <th>ENERGY_STAR_Score</th>\n",
       "      <th>GHG</th>\n",
       "      <th>Property_Floor_Area(ft2)</th>\n",
       "      <th>Number_of_Buildings</th>\n",
       "      <th>NumFloors</th>\n",
       "      <th>UnitsTotal</th>\n",
       "      <th>Age</th>\n",
       "    </tr>\n",
       "  </thead>\n",
       "  <tbody>\n",
       "    <tr>\n",
       "      <th>0</th>\n",
       "      <td>0.001114</td>\n",
       "      <td>0.000447</td>\n",
       "      <td>0.003181</td>\n",
       "      <td>-0.999708</td>\n",
       "      <td>0.001105</td>\n",
       "      <td>-0.008003</td>\n",
       "      <td>0.000238</td>\n",
       "      <td>-0.020944</td>\n",
       "      <td>0.003476</td>\n",
       "      <td>-0.007491</td>\n",
       "    </tr>\n",
       "    <tr>\n",
       "      <th>1</th>\n",
       "      <td>0.000089</td>\n",
       "      <td>-0.000020</td>\n",
       "      <td>0.000172</td>\n",
       "      <td>0.009956</td>\n",
       "      <td>0.000474</td>\n",
       "      <td>0.027020</td>\n",
       "      <td>0.001002</td>\n",
       "      <td>-0.117516</td>\n",
       "      <td>0.086001</td>\n",
       "      <td>-0.988920</td>\n",
       "    </tr>\n",
       "    <tr>\n",
       "      <th>2</th>\n",
       "      <td>-0.000517</td>\n",
       "      <td>0.000239</td>\n",
       "      <td>-0.018309</td>\n",
       "      <td>-0.020900</td>\n",
       "      <td>0.004089</td>\n",
       "      <td>0.145446</td>\n",
       "      <td>0.001099</td>\n",
       "      <td>0.982493</td>\n",
       "      <td>0.019277</td>\n",
       "      <td>-0.111313</td>\n",
       "    </tr>\n",
       "  </tbody>\n",
       "</table>\n",
       "</div>"
      ],
      "text/plain": [
       "   Site_EUI  Weather_Normalized_Source_EUI  Indoor_Water_Intensity(gal/ft2)  \\\n",
       "0  0.001114                       0.000447                         0.003181   \n",
       "1  0.000089                      -0.000020                         0.000172   \n",
       "2 -0.000517                       0.000239                        -0.018309   \n",
       "\n",
       "   ENERGY_STAR_Score       GHG  Property_Floor_Area(ft2)  Number_of_Buildings  \\\n",
       "0          -0.999708  0.001105                 -0.008003             0.000238   \n",
       "1           0.009956  0.000474                  0.027020             0.001002   \n",
       "2          -0.020900  0.004089                  0.145446             0.001099   \n",
       "\n",
       "   NumFloors  UnitsTotal       Age  \n",
       "0  -0.020944    0.003476 -0.007491  \n",
       "1  -0.117516    0.086001 -0.988920  \n",
       "2   0.982493    0.019277 -0.111313  "
      ]
     },
     "execution_count": 815,
     "metadata": {},
     "output_type": "execute_result"
    }
   ],
   "source": [
    "components_explanation = pd.DataFrame(pca.components_,columns = X_num.columns)\n",
    "components_explanation"
   ]
  },
  {
   "cell_type": "markdown",
   "metadata": {},
   "source": [
    "## Here we could find the impact of each original variable on the principle components \n",
    "## Based on the coefficients, we could explain each component as:\n",
    "## Component 1: Energy efficiency\n",
    "## Component 2: Age\n",
    "## Component 3: Stories"
   ]
  },
  {
   "cell_type": "markdown",
   "metadata": {},
   "source": [
    "# 3. Analysis"
   ]
  },
  {
   "cell_type": "code",
   "execution_count": 816,
   "metadata": {},
   "outputs": [],
   "source": [
    "merged16['Energy_efficiency'] = Xproj[:,0]\n",
    "merged16['age'] = Xproj[:,1]\n",
    "merged16['Stories'] = Xproj[:,2]"
   ]
  },
  {
   "cell_type": "code",
   "execution_count": 817,
   "metadata": {},
   "outputs": [],
   "source": [
    "merged16 = merged16.drop(X_num,axis=1)"
   ]
  },
  {
   "cell_type": "code",
   "execution_count": 818,
   "metadata": {},
   "outputs": [
    {
     "data": {
      "text/html": [
       "<div>\n",
       "<style scoped>\n",
       "    .dataframe tbody tr th:only-of-type {\n",
       "        vertical-align: middle;\n",
       "    }\n",
       "\n",
       "    .dataframe tbody tr th {\n",
       "        vertical-align: top;\n",
       "    }\n",
       "\n",
       "    .dataframe thead th {\n",
       "        text-align: right;\n",
       "    }\n",
       "</style>\n",
       "<table border=\"1\" class=\"dataframe\">\n",
       "  <thead>\n",
       "    <tr style=\"text-align: right;\">\n",
       "      <th></th>\n",
       "      <th>BBL</th>\n",
       "      <th>Zip</th>\n",
       "      <th>Benchmarking_Submission</th>\n",
       "      <th>Reported_Water_Method</th>\n",
       "      <th>Reported_Facility_Type</th>\n",
       "      <th>VALUE</th>\n",
       "      <th>Energy_efficiency</th>\n",
       "      <th>age</th>\n",
       "      <th>Stories</th>\n",
       "    </tr>\n",
       "  </thead>\n",
       "  <tbody>\n",
       "    <tr>\n",
       "      <th>1</th>\n",
       "      <td>1015180024</td>\n",
       "      <td>10128.0</td>\n",
       "      <td>In Compliance</td>\n",
       "      <td>ABS</td>\n",
       "      <td>Multifamily Housing</td>\n",
       "      <td>0.154151</td>\n",
       "      <td>0.556229</td>\n",
       "      <td>0.138713</td>\n",
       "      <td>0.070187</td>\n",
       "    </tr>\n",
       "    <tr>\n",
       "      <th>3</th>\n",
       "      <td>1000520021</td>\n",
       "      <td>10006.0</td>\n",
       "      <td>In Compliance</td>\n",
       "      <td>ABS</td>\n",
       "      <td>Multifamily Housing</td>\n",
       "      <td>0.073796</td>\n",
       "      <td>0.410468</td>\n",
       "      <td>-0.247003</td>\n",
       "      <td>0.096698</td>\n",
       "    </tr>\n",
       "    <tr>\n",
       "      <th>6</th>\n",
       "      <td>1000710001</td>\n",
       "      <td>10038.0</td>\n",
       "      <td>In Compliance</td>\n",
       "      <td>ABS</td>\n",
       "      <td>Multifamily Housing</td>\n",
       "      <td>0.170841</td>\n",
       "      <td>0.433897</td>\n",
       "      <td>-0.049512</td>\n",
       "      <td>0.039504</td>\n",
       "    </tr>\n",
       "    <tr>\n",
       "      <th>7</th>\n",
       "      <td>1000720027</td>\n",
       "      <td>10038.0</td>\n",
       "      <td>In Compliance</td>\n",
       "      <td>ABS</td>\n",
       "      <td>Multifamily Housing</td>\n",
       "      <td>0.066798</td>\n",
       "      <td>-0.344750</td>\n",
       "      <td>-0.227627</td>\n",
       "      <td>-0.017990</td>\n",
       "    </tr>\n",
       "    <tr>\n",
       "      <th>10</th>\n",
       "      <td>1000920024</td>\n",
       "      <td>10038.0</td>\n",
       "      <td>In Compliance</td>\n",
       "      <td>Manual</td>\n",
       "      <td>Financial Office</td>\n",
       "      <td>0.104004</td>\n",
       "      <td>-0.356419</td>\n",
       "      <td>-0.174655</td>\n",
       "      <td>0.073336</td>\n",
       "    </tr>\n",
       "  </tbody>\n",
       "</table>\n",
       "</div>"
      ],
      "text/plain": [
       "           BBL      Zip Benchmarking_Submission Reported_Water_Method  \\\n",
       "1   1015180024  10128.0           In Compliance                   ABS   \n",
       "3   1000520021  10006.0           In Compliance                   ABS   \n",
       "6   1000710001  10038.0           In Compliance                   ABS   \n",
       "7   1000720027  10038.0           In Compliance                   ABS   \n",
       "10  1000920024  10038.0           In Compliance                Manual   \n",
       "\n",
       "   Reported_Facility_Type     VALUE  Energy_efficiency       age   Stories  \n",
       "1     Multifamily Housing  0.154151           0.556229  0.138713  0.070187  \n",
       "3     Multifamily Housing  0.073796           0.410468 -0.247003  0.096698  \n",
       "6     Multifamily Housing  0.170841           0.433897 -0.049512  0.039504  \n",
       "7     Multifamily Housing  0.066798          -0.344750 -0.227627 -0.017990  \n",
       "10       Financial Office  0.104004          -0.356419 -0.174655  0.073336  "
      ]
     },
     "execution_count": 818,
     "metadata": {},
     "output_type": "execute_result"
    }
   ],
   "source": [
    "merged16.head()"
   ]
  },
  {
   "cell_type": "markdown",
   "metadata": {},
   "source": [
    "### Hierarchical linear regression ---- to check if energy efficiency actually works"
   ]
  },
  {
   "cell_type": "code",
   "execution_count": 711,
   "metadata": {},
   "outputs": [
    {
     "data": {
      "text/html": [
       "<table class=\"simpletable\">\n",
       "<caption>OLS Regression Results</caption>\n",
       "<tr>\n",
       "  <th>Dep. Variable:</th>          <td>VALUE</td>      <th>  R-squared:         </th> <td>   0.490</td> \n",
       "</tr>\n",
       "<tr>\n",
       "  <th>Model:</th>                   <td>OLS</td>       <th>  Adj. R-squared:    </th> <td>   0.488</td> \n",
       "</tr>\n",
       "<tr>\n",
       "  <th>Method:</th>             <td>Least Squares</td>  <th>  F-statistic:       </th> <td>   192.7</td> \n",
       "</tr>\n",
       "<tr>\n",
       "  <th>Date:</th>             <td>Mon, 20 Nov 2017</td> <th>  Prob (F-statistic):</th> <td>1.49e-312</td>\n",
       "</tr>\n",
       "<tr>\n",
       "  <th>Time:</th>                 <td>21:29:44</td>     <th>  Log-Likelihood:    </th> <td>  4556.8</td> \n",
       "</tr>\n",
       "<tr>\n",
       "  <th>No. Observations:</th>      <td>  2214</td>      <th>  AIC:               </th> <td>  -9090.</td> \n",
       "</tr>\n",
       "<tr>\n",
       "  <th>Df Residuals:</th>          <td>  2202</td>      <th>  BIC:               </th> <td>  -9021.</td> \n",
       "</tr>\n",
       "<tr>\n",
       "  <th>Df Model:</th>              <td>    11</td>      <th>                     </th>     <td> </td>    \n",
       "</tr>\n",
       "<tr>\n",
       "  <th>Covariance Type:</th>      <td>nonrobust</td>    <th>                     </th>     <td> </td>    \n",
       "</tr>\n",
       "</table>\n",
       "<table class=\"simpletable\">\n",
       "<tr>\n",
       "                             <td></td>                                <th>coef</th>     <th>std err</th>      <th>t</th>      <th>P>|t|</th>  <th>[0.025</th>    <th>0.975]</th>  \n",
       "</tr>\n",
       "<tr>\n",
       "  <th>Intercept</th>                                               <td>    0.0391</td> <td>    0.031</td> <td>    1.246</td> <td> 0.213</td> <td>   -0.022</td> <td>    0.101</td>\n",
       "</tr>\n",
       "<tr>\n",
       "  <th>C(Reported_Water_Method)[T.Manual]</th>                      <td>    0.0116</td> <td>    0.005</td> <td>    2.403</td> <td> 0.016</td> <td>    0.002</td> <td>    0.021</td>\n",
       "</tr>\n",
       "<tr>\n",
       "  <th>C(Reported_Facility_Type)[T.Hotel]</th>                      <td>    0.1180</td> <td>    0.044</td> <td>    2.672</td> <td> 0.008</td> <td>    0.031</td> <td>    0.205</td>\n",
       "</tr>\n",
       "<tr>\n",
       "  <th>C(Reported_Facility_Type)[T.Medical Office]</th>             <td>    0.0764</td> <td>    0.044</td> <td>    1.732</td> <td> 0.083</td> <td>   -0.010</td> <td>    0.163</td>\n",
       "</tr>\n",
       "<tr>\n",
       "  <th>C(Reported_Facility_Type)[T.Multifamily Housing]</th>        <td>    0.0142</td> <td>    0.031</td> <td>    0.454</td> <td> 0.650</td> <td>   -0.047</td> <td>    0.076</td>\n",
       "</tr>\n",
       "<tr>\n",
       "  <th>C(Reported_Facility_Type)[T.Non-Refrigerated Warehouse]</th> <td>    0.0639</td> <td>    0.036</td> <td>    1.770</td> <td> 0.077</td> <td>   -0.007</td> <td>    0.135</td>\n",
       "</tr>\n",
       "<tr>\n",
       "  <th>C(Reported_Facility_Type)[T.Office]</th>                     <td>    0.0406</td> <td>    0.032</td> <td>    1.289</td> <td> 0.198</td> <td>   -0.021</td> <td>    0.102</td>\n",
       "</tr>\n",
       "<tr>\n",
       "  <th>C(Reported_Facility_Type)[T.Residence Hall/Dormitory]</th>   <td>   -0.0129</td> <td>    0.035</td> <td>   -0.368</td> <td> 0.713</td> <td>   -0.081</td> <td>    0.056</td>\n",
       "</tr>\n",
       "<tr>\n",
       "  <th>C(Reported_Facility_Type)[T.Retail Store]</th>               <td>    0.0044</td> <td>    0.044</td> <td>    0.099</td> <td> 0.921</td> <td>   -0.082</td> <td>    0.091</td>\n",
       "</tr>\n",
       "<tr>\n",
       "  <th>C(Reported_Facility_Type)[T.Senior Care Community]</th>      <td>    0.1621</td> <td>    0.044</td> <td>    3.674</td> <td> 0.000</td> <td>    0.076</td> <td>    0.249</td>\n",
       "</tr>\n",
       "<tr>\n",
       "  <th>Stories</th>                                                 <td>    0.5387</td> <td>    0.014</td> <td>   39.667</td> <td> 0.000</td> <td>    0.512</td> <td>    0.565</td>\n",
       "</tr>\n",
       "<tr>\n",
       "  <th>age</th>                                                     <td>   -0.0788</td> <td>    0.006</td> <td>  -12.508</td> <td> 0.000</td> <td>   -0.091</td> <td>   -0.066</td>\n",
       "</tr>\n",
       "</table>\n",
       "<table class=\"simpletable\">\n",
       "<tr>\n",
       "  <th>Omnibus:</th>       <td>489.206</td> <th>  Durbin-Watson:     </th> <td>   1.090</td> \n",
       "</tr>\n",
       "<tr>\n",
       "  <th>Prob(Omnibus):</th> <td> 0.000</td>  <th>  Jarque-Bera (JB):  </th> <td>1428.085</td> \n",
       "</tr>\n",
       "<tr>\n",
       "  <th>Skew:</th>          <td> 1.132</td>  <th>  Prob(JB):          </th> <td>7.86e-311</td>\n",
       "</tr>\n",
       "<tr>\n",
       "  <th>Kurtosis:</th>      <td> 6.218</td>  <th>  Cond. No.          </th> <td>    204.</td> \n",
       "</tr>\n",
       "</table>"
      ],
      "text/plain": [
       "<class 'statsmodels.iolib.summary.Summary'>\n",
       "\"\"\"\n",
       "                            OLS Regression Results                            \n",
       "==============================================================================\n",
       "Dep. Variable:                  VALUE   R-squared:                       0.490\n",
       "Model:                            OLS   Adj. R-squared:                  0.488\n",
       "Method:                 Least Squares   F-statistic:                     192.7\n",
       "Date:                Mon, 20 Nov 2017   Prob (F-statistic):          1.49e-312\n",
       "Time:                        21:29:44   Log-Likelihood:                 4556.8\n",
       "No. Observations:                2214   AIC:                            -9090.\n",
       "Df Residuals:                    2202   BIC:                            -9021.\n",
       "Df Model:                          11                                         \n",
       "Covariance Type:            nonrobust                                         \n",
       "===========================================================================================================================\n",
       "                                                              coef    std err          t      P>|t|      [0.025      0.975]\n",
       "---------------------------------------------------------------------------------------------------------------------------\n",
       "Intercept                                                   0.0391      0.031      1.246      0.213      -0.022       0.101\n",
       "C(Reported_Water_Method)[T.Manual]                          0.0116      0.005      2.403      0.016       0.002       0.021\n",
       "C(Reported_Facility_Type)[T.Hotel]                          0.1180      0.044      2.672      0.008       0.031       0.205\n",
       "C(Reported_Facility_Type)[T.Medical Office]                 0.0764      0.044      1.732      0.083      -0.010       0.163\n",
       "C(Reported_Facility_Type)[T.Multifamily Housing]            0.0142      0.031      0.454      0.650      -0.047       0.076\n",
       "C(Reported_Facility_Type)[T.Non-Refrigerated Warehouse]     0.0639      0.036      1.770      0.077      -0.007       0.135\n",
       "C(Reported_Facility_Type)[T.Office]                         0.0406      0.032      1.289      0.198      -0.021       0.102\n",
       "C(Reported_Facility_Type)[T.Residence Hall/Dormitory]      -0.0129      0.035     -0.368      0.713      -0.081       0.056\n",
       "C(Reported_Facility_Type)[T.Retail Store]                   0.0044      0.044      0.099      0.921      -0.082       0.091\n",
       "C(Reported_Facility_Type)[T.Senior Care Community]          0.1621      0.044      3.674      0.000       0.076       0.249\n",
       "Stories                                                     0.5387      0.014     39.667      0.000       0.512       0.565\n",
       "age                                                        -0.0788      0.006    -12.508      0.000      -0.091      -0.066\n",
       "==============================================================================\n",
       "Omnibus:                      489.206   Durbin-Watson:                   1.090\n",
       "Prob(Omnibus):                  0.000   Jarque-Bera (JB):             1428.085\n",
       "Skew:                           1.132   Prob(JB):                    7.86e-311\n",
       "Kurtosis:                       6.218   Cond. No.                         204.\n",
       "==============================================================================\n",
       "\n",
       "Warnings:\n",
       "[1] Standard Errors assume that the covariance matrix of the errors is correctly specified.\n",
       "\"\"\""
      ]
     },
     "execution_count": 711,
     "metadata": {},
     "output_type": "execute_result"
    }
   ],
   "source": [
    "lm_no_energy = smf.ols(formula='VALUE~C(Benchmarking_Submission)+C(Reported_Water_Method)+\\\n",
    "                       C(Reported_Facility_Type)+Stories+age'\n",
    "             ,data=merged16).fit()\n",
    "lm_no_energy.summary()"
   ]
  },
  {
   "cell_type": "code",
   "execution_count": 713,
   "metadata": {},
   "outputs": [
    {
     "data": {
      "text/html": [
       "<table class=\"simpletable\">\n",
       "<caption>OLS Regression Results</caption>\n",
       "<tr>\n",
       "  <th>Dep. Variable:</th>          <td>VALUE</td>      <th>  R-squared:         </th> <td>   0.495</td> \n",
       "</tr>\n",
       "<tr>\n",
       "  <th>Model:</th>                   <td>OLS</td>       <th>  Adj. R-squared:    </th> <td>   0.492</td> \n",
       "</tr>\n",
       "<tr>\n",
       "  <th>Method:</th>             <td>Least Squares</td>  <th>  F-statistic:       </th> <td>   179.8</td> \n",
       "</tr>\n",
       "<tr>\n",
       "  <th>Date:</th>             <td>Mon, 20 Nov 2017</td> <th>  Prob (F-statistic):</th> <td>1.18e-315</td>\n",
       "</tr>\n",
       "<tr>\n",
       "  <th>Time:</th>                 <td>21:32:06</td>     <th>  Log-Likelihood:    </th> <td>  4566.7</td> \n",
       "</tr>\n",
       "<tr>\n",
       "  <th>No. Observations:</th>      <td>  2214</td>      <th>  AIC:               </th> <td>  -9107.</td> \n",
       "</tr>\n",
       "<tr>\n",
       "  <th>Df Residuals:</th>          <td>  2201</td>      <th>  BIC:               </th> <td>  -9033.</td> \n",
       "</tr>\n",
       "<tr>\n",
       "  <th>Df Model:</th>              <td>    12</td>      <th>                     </th>     <td> </td>    \n",
       "</tr>\n",
       "<tr>\n",
       "  <th>Covariance Type:</th>      <td>nonrobust</td>    <th>                     </th>     <td> </td>    \n",
       "</tr>\n",
       "</table>\n",
       "<table class=\"simpletable\">\n",
       "<tr>\n",
       "                             <td></td>                                <th>coef</th>     <th>std err</th>      <th>t</th>      <th>P>|t|</th>  <th>[0.025</th>    <th>0.975]</th>  \n",
       "</tr>\n",
       "<tr>\n",
       "  <th>Intercept</th>                                               <td>    0.0350</td> <td>    0.031</td> <td>    1.120</td> <td> 0.263</td> <td>   -0.026</td> <td>    0.096</td>\n",
       "</tr>\n",
       "<tr>\n",
       "  <th>C(Reported_Water_Method)[T.Manual]</th>                      <td>    0.0112</td> <td>    0.005</td> <td>    2.330</td> <td> 0.020</td> <td>    0.002</td> <td>    0.021</td>\n",
       "</tr>\n",
       "<tr>\n",
       "  <th>C(Reported_Facility_Type)[T.Hotel]</th>                      <td>    0.1180</td> <td>    0.044</td> <td>    2.684</td> <td> 0.007</td> <td>    0.032</td> <td>    0.204</td>\n",
       "</tr>\n",
       "<tr>\n",
       "  <th>C(Reported_Facility_Type)[T.Medical Office]</th>             <td>    0.0793</td> <td>    0.044</td> <td>    1.806</td> <td> 0.071</td> <td>   -0.007</td> <td>    0.165</td>\n",
       "</tr>\n",
       "<tr>\n",
       "  <th>C(Reported_Facility_Type)[T.Multifamily Housing]</th>        <td>    0.0184</td> <td>    0.031</td> <td>    0.589</td> <td> 0.556</td> <td>   -0.043</td> <td>    0.080</td>\n",
       "</tr>\n",
       "<tr>\n",
       "  <th>C(Reported_Facility_Type)[T.Non-Refrigerated Warehouse]</th> <td>    0.0694</td> <td>    0.036</td> <td>    1.929</td> <td> 0.054</td> <td>   -0.001</td> <td>    0.140</td>\n",
       "</tr>\n",
       "<tr>\n",
       "  <th>C(Reported_Facility_Type)[T.Office]</th>                     <td>    0.0431</td> <td>    0.031</td> <td>    1.373</td> <td> 0.170</td> <td>   -0.018</td> <td>    0.105</td>\n",
       "</tr>\n",
       "<tr>\n",
       "  <th>C(Reported_Facility_Type)[T.Residence Hall/Dormitory]</th>   <td>   -0.0095</td> <td>    0.035</td> <td>   -0.274</td> <td> 0.784</td> <td>   -0.078</td> <td>    0.059</td>\n",
       "</tr>\n",
       "<tr>\n",
       "  <th>C(Reported_Facility_Type)[T.Retail Store]</th>               <td>    0.0056</td> <td>    0.044</td> <td>    0.127</td> <td> 0.899</td> <td>   -0.081</td> <td>    0.092</td>\n",
       "</tr>\n",
       "<tr>\n",
       "  <th>C(Reported_Facility_Type)[T.Senior Care Community]</th>      <td>    0.1623</td> <td>    0.044</td> <td>    3.694</td> <td> 0.000</td> <td>    0.076</td> <td>    0.248</td>\n",
       "</tr>\n",
       "<tr>\n",
       "  <th>Stories</th>                                                 <td>    0.5403</td> <td>    0.014</td> <td>   39.936</td> <td> 0.000</td> <td>    0.514</td> <td>    0.567</td>\n",
       "</tr>\n",
       "<tr>\n",
       "  <th>age</th>                                                     <td>   -0.0794</td> <td>    0.006</td> <td>  -12.652</td> <td> 0.000</td> <td>   -0.092</td> <td>   -0.067</td>\n",
       "</tr>\n",
       "<tr>\n",
       "  <th>Energy_efficiency</th>                                       <td>   -0.0120</td> <td>    0.003</td> <td>   -4.446</td> <td> 0.000</td> <td>   -0.017</td> <td>   -0.007</td>\n",
       "</tr>\n",
       "</table>\n",
       "<table class=\"simpletable\">\n",
       "<tr>\n",
       "  <th>Omnibus:</th>       <td>498.490</td> <th>  Durbin-Watson:     </th> <td>   1.101</td>\n",
       "</tr>\n",
       "<tr>\n",
       "  <th>Prob(Omnibus):</th> <td> 0.000</td>  <th>  Jarque-Bera (JB):  </th> <td>1471.891</td>\n",
       "</tr>\n",
       "<tr>\n",
       "  <th>Skew:</th>          <td> 1.149</td>  <th>  Prob(JB):          </th> <td>    0.00</td>\n",
       "</tr>\n",
       "<tr>\n",
       "  <th>Kurtosis:</th>      <td> 6.267</td>  <th>  Cond. No.          </th> <td>    204.</td>\n",
       "</tr>\n",
       "</table>"
      ],
      "text/plain": [
       "<class 'statsmodels.iolib.summary.Summary'>\n",
       "\"\"\"\n",
       "                            OLS Regression Results                            \n",
       "==============================================================================\n",
       "Dep. Variable:                  VALUE   R-squared:                       0.495\n",
       "Model:                            OLS   Adj. R-squared:                  0.492\n",
       "Method:                 Least Squares   F-statistic:                     179.8\n",
       "Date:                Mon, 20 Nov 2017   Prob (F-statistic):          1.18e-315\n",
       "Time:                        21:32:06   Log-Likelihood:                 4566.7\n",
       "No. Observations:                2214   AIC:                            -9107.\n",
       "Df Residuals:                    2201   BIC:                            -9033.\n",
       "Df Model:                          12                                         \n",
       "Covariance Type:            nonrobust                                         \n",
       "===========================================================================================================================\n",
       "                                                              coef    std err          t      P>|t|      [0.025      0.975]\n",
       "---------------------------------------------------------------------------------------------------------------------------\n",
       "Intercept                                                   0.0350      0.031      1.120      0.263      -0.026       0.096\n",
       "C(Reported_Water_Method)[T.Manual]                          0.0112      0.005      2.330      0.020       0.002       0.021\n",
       "C(Reported_Facility_Type)[T.Hotel]                          0.1180      0.044      2.684      0.007       0.032       0.204\n",
       "C(Reported_Facility_Type)[T.Medical Office]                 0.0793      0.044      1.806      0.071      -0.007       0.165\n",
       "C(Reported_Facility_Type)[T.Multifamily Housing]            0.0184      0.031      0.589      0.556      -0.043       0.080\n",
       "C(Reported_Facility_Type)[T.Non-Refrigerated Warehouse]     0.0694      0.036      1.929      0.054      -0.001       0.140\n",
       "C(Reported_Facility_Type)[T.Office]                         0.0431      0.031      1.373      0.170      -0.018       0.105\n",
       "C(Reported_Facility_Type)[T.Residence Hall/Dormitory]      -0.0095      0.035     -0.274      0.784      -0.078       0.059\n",
       "C(Reported_Facility_Type)[T.Retail Store]                   0.0056      0.044      0.127      0.899      -0.081       0.092\n",
       "C(Reported_Facility_Type)[T.Senior Care Community]          0.1623      0.044      3.694      0.000       0.076       0.248\n",
       "Stories                                                     0.5403      0.014     39.936      0.000       0.514       0.567\n",
       "age                                                        -0.0794      0.006    -12.652      0.000      -0.092      -0.067\n",
       "Energy_efficiency                                          -0.0120      0.003     -4.446      0.000      -0.017      -0.007\n",
       "==============================================================================\n",
       "Omnibus:                      498.490   Durbin-Watson:                   1.101\n",
       "Prob(Omnibus):                  0.000   Jarque-Bera (JB):             1471.891\n",
       "Skew:                           1.149   Prob(JB):                         0.00\n",
       "Kurtosis:                       6.267   Cond. No.                         204.\n",
       "==============================================================================\n",
       "\n",
       "Warnings:\n",
       "[1] Standard Errors assume that the covariance matrix of the errors is correctly specified.\n",
       "\"\"\""
      ]
     },
     "execution_count": 713,
     "metadata": {},
     "output_type": "execute_result"
    }
   ],
   "source": [
    "lm_with_energy = smf.ols(formula='VALUE~C(Benchmarking_Submission)+C(Reported_Water_Method)+\\\n",
    "                       C(Reported_Facility_Type)+Stories+age+Energy_efficiency'\n",
    "             ,data=merged16).fit()\n",
    "lm_with_energy.summary()"
   ]
  },
  {
   "cell_type": "code",
   "execution_count": 714,
   "metadata": {},
   "outputs": [
    {
     "data": {
      "text/html": [
       "<div>\n",
       "<style scoped>\n",
       "    .dataframe tbody tr th:only-of-type {\n",
       "        vertical-align: middle;\n",
       "    }\n",
       "\n",
       "    .dataframe tbody tr th {\n",
       "        vertical-align: top;\n",
       "    }\n",
       "\n",
       "    .dataframe thead th {\n",
       "        text-align: right;\n",
       "    }\n",
       "</style>\n",
       "<table border=\"1\" class=\"dataframe\">\n",
       "  <thead>\n",
       "    <tr style=\"text-align: right;\">\n",
       "      <th></th>\n",
       "      <th>df_resid</th>\n",
       "      <th>ssr</th>\n",
       "      <th>df_diff</th>\n",
       "      <th>ss_diff</th>\n",
       "      <th>F</th>\n",
       "      <th>Pr(&gt;F)</th>\n",
       "    </tr>\n",
       "  </thead>\n",
       "  <tbody>\n",
       "    <tr>\n",
       "      <th>0</th>\n",
       "      <td>2202.0</td>\n",
       "      <td>2.113400</td>\n",
       "      <td>0.0</td>\n",
       "      <td>NaN</td>\n",
       "      <td>NaN</td>\n",
       "      <td>NaN</td>\n",
       "    </tr>\n",
       "    <tr>\n",
       "      <th>1</th>\n",
       "      <td>2201.0</td>\n",
       "      <td>2.094591</td>\n",
       "      <td>1.0</td>\n",
       "      <td>0.018809</td>\n",
       "      <td>19.764594</td>\n",
       "      <td>0.000009</td>\n",
       "    </tr>\n",
       "  </tbody>\n",
       "</table>\n",
       "</div>"
      ],
      "text/plain": [
       "   df_resid       ssr  df_diff   ss_diff          F    Pr(>F)\n",
       "0    2202.0  2.113400      0.0       NaN        NaN       NaN\n",
       "1    2201.0  2.094591      1.0  0.018809  19.764594  0.000009"
      ]
     },
     "execution_count": 714,
     "metadata": {},
     "output_type": "execute_result"
    }
   ],
   "source": [
    "anova = sm.stats.anova_lm(lm_no_energy,lm_with_energy)\n",
    "anova"
   ]
  },
  {
   "cell_type": "code",
   "execution_count": 715,
   "metadata": {},
   "outputs": [
    {
     "data": {
      "text/plain": [
       "True"
      ]
     },
     "execution_count": 715,
     "metadata": {},
     "output_type": "execute_result"
    }
   ],
   "source": [
    "anova['Pr(>F)'][1] < 0.05"
   ]
  },
  {
   "cell_type": "markdown",
   "metadata": {},
   "source": [
    "## As p here is way less than our significance level 5%, We could conclude that energy efficiency actually has a significant impact on property market value"
   ]
  },
  {
   "cell_type": "markdown",
   "metadata": {},
   "source": [
    "### Linear Regression\n",
    "### Optimize the model using feature selection (maximizing adj-R2 which would be increased only when adding useful regressors)"
   ]
  },
  {
   "cell_type": "code",
   "execution_count": 716,
   "metadata": {},
   "outputs": [
    {
     "data": {
      "text/html": [
       "<div>\n",
       "<style scoped>\n",
       "    .dataframe tbody tr th:only-of-type {\n",
       "        vertical-align: middle;\n",
       "    }\n",
       "\n",
       "    .dataframe tbody tr th {\n",
       "        vertical-align: top;\n",
       "    }\n",
       "\n",
       "    .dataframe thead th {\n",
       "        text-align: right;\n",
       "    }\n",
       "</style>\n",
       "<table border=\"1\" class=\"dataframe\">\n",
       "  <thead>\n",
       "    <tr style=\"text-align: right;\">\n",
       "      <th></th>\n",
       "      <th>BBL</th>\n",
       "      <th>Zip</th>\n",
       "      <th>Benchmarking_Submission</th>\n",
       "      <th>Reported_Water_Method</th>\n",
       "      <th>Reported_Facility_Type</th>\n",
       "      <th>VALUE</th>\n",
       "      <th>Energy_efficiency</th>\n",
       "      <th>Stories</th>\n",
       "      <th>age</th>\n",
       "    </tr>\n",
       "  </thead>\n",
       "  <tbody>\n",
       "    <tr>\n",
       "      <th>1</th>\n",
       "      <td>1015180024</td>\n",
       "      <td>10128.0</td>\n",
       "      <td>In Compliance</td>\n",
       "      <td>ABS</td>\n",
       "      <td>Multifamily Housing</td>\n",
       "      <td>0.154151</td>\n",
       "      <td>0.556229</td>\n",
       "      <td>0.070187</td>\n",
       "      <td>0.138713</td>\n",
       "    </tr>\n",
       "    <tr>\n",
       "      <th>3</th>\n",
       "      <td>1000520021</td>\n",
       "      <td>10006.0</td>\n",
       "      <td>In Compliance</td>\n",
       "      <td>ABS</td>\n",
       "      <td>Multifamily Housing</td>\n",
       "      <td>0.073796</td>\n",
       "      <td>0.410468</td>\n",
       "      <td>0.096698</td>\n",
       "      <td>-0.247003</td>\n",
       "    </tr>\n",
       "    <tr>\n",
       "      <th>6</th>\n",
       "      <td>1000710001</td>\n",
       "      <td>10038.0</td>\n",
       "      <td>In Compliance</td>\n",
       "      <td>ABS</td>\n",
       "      <td>Multifamily Housing</td>\n",
       "      <td>0.170841</td>\n",
       "      <td>0.433897</td>\n",
       "      <td>0.039504</td>\n",
       "      <td>-0.049512</td>\n",
       "    </tr>\n",
       "    <tr>\n",
       "      <th>7</th>\n",
       "      <td>1000720027</td>\n",
       "      <td>10038.0</td>\n",
       "      <td>In Compliance</td>\n",
       "      <td>ABS</td>\n",
       "      <td>Multifamily Housing</td>\n",
       "      <td>0.066798</td>\n",
       "      <td>-0.344750</td>\n",
       "      <td>-0.017990</td>\n",
       "      <td>-0.227627</td>\n",
       "    </tr>\n",
       "    <tr>\n",
       "      <th>10</th>\n",
       "      <td>1000920024</td>\n",
       "      <td>10038.0</td>\n",
       "      <td>In Compliance</td>\n",
       "      <td>Manual</td>\n",
       "      <td>Financial Office</td>\n",
       "      <td>0.104004</td>\n",
       "      <td>-0.356419</td>\n",
       "      <td>0.073336</td>\n",
       "      <td>-0.174655</td>\n",
       "    </tr>\n",
       "  </tbody>\n",
       "</table>\n",
       "</div>"
      ],
      "text/plain": [
       "           BBL      Zip Benchmarking_Submission Reported_Water_Method  \\\n",
       "1   1015180024  10128.0           In Compliance                   ABS   \n",
       "3   1000520021  10006.0           In Compliance                   ABS   \n",
       "6   1000710001  10038.0           In Compliance                   ABS   \n",
       "7   1000720027  10038.0           In Compliance                   ABS   \n",
       "10  1000920024  10038.0           In Compliance                Manual   \n",
       "\n",
       "   Reported_Facility_Type     VALUE  Energy_efficiency   Stories       age  \n",
       "1     Multifamily Housing  0.154151           0.556229  0.070187  0.138713  \n",
       "3     Multifamily Housing  0.073796           0.410468  0.096698 -0.247003  \n",
       "6     Multifamily Housing  0.170841           0.433897  0.039504 -0.049512  \n",
       "7     Multifamily Housing  0.066798          -0.344750 -0.017990 -0.227627  \n",
       "10       Financial Office  0.104004          -0.356419  0.073336 -0.174655  "
      ]
     },
     "execution_count": 716,
     "metadata": {},
     "output_type": "execute_result"
    }
   ],
   "source": [
    "merged16.head()"
   ]
  },
  {
   "cell_type": "code",
   "execution_count": 748,
   "metadata": {},
   "outputs": [],
   "source": [
    "train,test = train_test_split(merged16, test_size = 0.3)"
   ]
  },
  {
   "cell_type": "code",
   "execution_count": 749,
   "metadata": {},
   "outputs": [
    {
     "data": {
      "text/html": [
       "<table class=\"simpletable\">\n",
       "<caption>OLS Regression Results</caption>\n",
       "<tr>\n",
       "  <th>Dep. Variable:</th>          <td>VALUE</td>      <th>  R-squared:         </th> <td>   0.480</td> \n",
       "</tr>\n",
       "<tr>\n",
       "  <th>Model:</th>                   <td>OLS</td>       <th>  Adj. R-squared:    </th> <td>   0.476</td> \n",
       "</tr>\n",
       "<tr>\n",
       "  <th>Method:</th>             <td>Least Squares</td>  <th>  F-statistic:       </th> <td>   118.3</td> \n",
       "</tr>\n",
       "<tr>\n",
       "  <th>Date:</th>             <td>Mon, 20 Nov 2017</td> <th>  Prob (F-statistic):</th> <td>2.92e-208</td>\n",
       "</tr>\n",
       "<tr>\n",
       "  <th>Time:</th>                 <td>21:40:54</td>     <th>  Log-Likelihood:    </th> <td>  3172.8</td> \n",
       "</tr>\n",
       "<tr>\n",
       "  <th>No. Observations:</th>      <td>  1549</td>      <th>  AIC:               </th> <td>  -6320.</td> \n",
       "</tr>\n",
       "<tr>\n",
       "  <th>Df Residuals:</th>          <td>  1536</td>      <th>  BIC:               </th> <td>  -6250.</td> \n",
       "</tr>\n",
       "<tr>\n",
       "  <th>Df Model:</th>              <td>    12</td>      <th>                     </th>     <td> </td>    \n",
       "</tr>\n",
       "<tr>\n",
       "  <th>Covariance Type:</th>      <td>nonrobust</td>    <th>                     </th>     <td> </td>    \n",
       "</tr>\n",
       "</table>\n",
       "<table class=\"simpletable\">\n",
       "<tr>\n",
       "                             <td></td>                                <th>coef</th>     <th>std err</th>      <th>t</th>      <th>P>|t|</th>  <th>[0.025</th>    <th>0.975]</th>  \n",
       "</tr>\n",
       "<tr>\n",
       "  <th>Intercept</th>                                               <td>    0.0343</td> <td>    0.032</td> <td>    1.072</td> <td> 0.284</td> <td>   -0.028</td> <td>    0.097</td>\n",
       "</tr>\n",
       "<tr>\n",
       "  <th>C(Reported_Water_Method)[T.Manual]</th>                      <td>    0.0143</td> <td>    0.006</td> <td>    2.393</td> <td> 0.017</td> <td>    0.003</td> <td>    0.026</td>\n",
       "</tr>\n",
       "<tr>\n",
       "  <th>C(Reported_Facility_Type)[T.Hotel]</th>                      <td>    0.1175</td> <td>    0.045</td> <td>    2.621</td> <td> 0.009</td> <td>    0.030</td> <td>    0.205</td>\n",
       "</tr>\n",
       "<tr>\n",
       "  <th>C(Reported_Facility_Type)[T.Medical Office]</th>             <td>    0.0816</td> <td>    0.045</td> <td>    1.825</td> <td> 0.068</td> <td>   -0.006</td> <td>    0.169</td>\n",
       "</tr>\n",
       "<tr>\n",
       "  <th>C(Reported_Facility_Type)[T.Multifamily Housing]</th>        <td>    0.0190</td> <td>    0.032</td> <td>    0.596</td> <td> 0.551</td> <td>   -0.044</td> <td>    0.082</td>\n",
       "</tr>\n",
       "<tr>\n",
       "  <th>C(Reported_Facility_Type)[T.Non-Refrigerated Warehouse]</th> <td>    0.0707</td> <td>    0.037</td> <td>    1.925</td> <td> 0.054</td> <td>   -0.001</td> <td>    0.143</td>\n",
       "</tr>\n",
       "<tr>\n",
       "  <th>C(Reported_Facility_Type)[T.Office]</th>                     <td>    0.0449</td> <td>    0.032</td> <td>    1.397</td> <td> 0.162</td> <td>   -0.018</td> <td>    0.108</td>\n",
       "</tr>\n",
       "<tr>\n",
       "  <th>C(Reported_Facility_Type)[T.Residence Hall/Dormitory]</th>   <td>   -0.0278</td> <td>    0.039</td> <td>   -0.715</td> <td> 0.475</td> <td>   -0.104</td> <td>    0.048</td>\n",
       "</tr>\n",
       "<tr>\n",
       "  <th>C(Reported_Facility_Type)[T.Retail Store]</th>               <td>    0.0075</td> <td>    0.045</td> <td>    0.167</td> <td> 0.867</td> <td>   -0.080</td> <td>    0.095</td>\n",
       "</tr>\n",
       "<tr>\n",
       "  <th>C(Reported_Facility_Type)[T.Senior Care Community]</th>      <td>    0.1627</td> <td>    0.045</td> <td>    3.634</td> <td> 0.000</td> <td>    0.075</td> <td>    0.251</td>\n",
       "</tr>\n",
       "<tr>\n",
       "  <th>Stories</th>                                                 <td>    0.5277</td> <td>    0.016</td> <td>   32.458</td> <td> 0.000</td> <td>    0.496</td> <td>    0.560</td>\n",
       "</tr>\n",
       "<tr>\n",
       "  <th>age</th>                                                     <td>   -0.0724</td> <td>    0.008</td> <td>   -9.638</td> <td> 0.000</td> <td>   -0.087</td> <td>   -0.058</td>\n",
       "</tr>\n",
       "<tr>\n",
       "  <th>Energy_efficiency</th>                                       <td>   -0.0113</td> <td>    0.003</td> <td>   -3.408</td> <td> 0.001</td> <td>   -0.018</td> <td>   -0.005</td>\n",
       "</tr>\n",
       "</table>\n",
       "<table class=\"simpletable\">\n",
       "<tr>\n",
       "  <th>Omnibus:</th>       <td>414.211</td> <th>  Durbin-Watson:     </th> <td>   1.947</td> \n",
       "</tr>\n",
       "<tr>\n",
       "  <th>Prob(Omnibus):</th> <td> 0.000</td>  <th>  Jarque-Bera (JB):  </th> <td>1281.101</td> \n",
       "</tr>\n",
       "<tr>\n",
       "  <th>Skew:</th>          <td> 1.334</td>  <th>  Prob(JB):          </th> <td>6.49e-279</td>\n",
       "</tr>\n",
       "<tr>\n",
       "  <th>Kurtosis:</th>      <td> 6.568</td>  <th>  Cond. No.          </th> <td>    172.</td> \n",
       "</tr>\n",
       "</table>"
      ],
      "text/plain": [
       "<class 'statsmodels.iolib.summary.Summary'>\n",
       "\"\"\"\n",
       "                            OLS Regression Results                            \n",
       "==============================================================================\n",
       "Dep. Variable:                  VALUE   R-squared:                       0.480\n",
       "Model:                            OLS   Adj. R-squared:                  0.476\n",
       "Method:                 Least Squares   F-statistic:                     118.3\n",
       "Date:                Mon, 20 Nov 2017   Prob (F-statistic):          2.92e-208\n",
       "Time:                        21:40:54   Log-Likelihood:                 3172.8\n",
       "No. Observations:                1549   AIC:                            -6320.\n",
       "Df Residuals:                    1536   BIC:                            -6250.\n",
       "Df Model:                          12                                         \n",
       "Covariance Type:            nonrobust                                         \n",
       "===========================================================================================================================\n",
       "                                                              coef    std err          t      P>|t|      [0.025      0.975]\n",
       "---------------------------------------------------------------------------------------------------------------------------\n",
       "Intercept                                                   0.0343      0.032      1.072      0.284      -0.028       0.097\n",
       "C(Reported_Water_Method)[T.Manual]                          0.0143      0.006      2.393      0.017       0.003       0.026\n",
       "C(Reported_Facility_Type)[T.Hotel]                          0.1175      0.045      2.621      0.009       0.030       0.205\n",
       "C(Reported_Facility_Type)[T.Medical Office]                 0.0816      0.045      1.825      0.068      -0.006       0.169\n",
       "C(Reported_Facility_Type)[T.Multifamily Housing]            0.0190      0.032      0.596      0.551      -0.044       0.082\n",
       "C(Reported_Facility_Type)[T.Non-Refrigerated Warehouse]     0.0707      0.037      1.925      0.054      -0.001       0.143\n",
       "C(Reported_Facility_Type)[T.Office]                         0.0449      0.032      1.397      0.162      -0.018       0.108\n",
       "C(Reported_Facility_Type)[T.Residence Hall/Dormitory]      -0.0278      0.039     -0.715      0.475      -0.104       0.048\n",
       "C(Reported_Facility_Type)[T.Retail Store]                   0.0075      0.045      0.167      0.867      -0.080       0.095\n",
       "C(Reported_Facility_Type)[T.Senior Care Community]          0.1627      0.045      3.634      0.000       0.075       0.251\n",
       "Stories                                                     0.5277      0.016     32.458      0.000       0.496       0.560\n",
       "age                                                        -0.0724      0.008     -9.638      0.000      -0.087      -0.058\n",
       "Energy_efficiency                                          -0.0113      0.003     -3.408      0.001      -0.018      -0.005\n",
       "==============================================================================\n",
       "Omnibus:                      414.211   Durbin-Watson:                   1.947\n",
       "Prob(Omnibus):                  0.000   Jarque-Bera (JB):             1281.101\n",
       "Skew:                           1.334   Prob(JB):                    6.49e-279\n",
       "Kurtosis:                       6.568   Cond. No.                         172.\n",
       "==============================================================================\n",
       "\n",
       "Warnings:\n",
       "[1] Standard Errors assume that the covariance matrix of the errors is correctly specified.\n",
       "\"\"\""
      ]
     },
     "execution_count": 749,
     "metadata": {},
     "output_type": "execute_result"
    }
   ],
   "source": [
    "lm1 = smf.ols(formula='VALUE~C(Benchmarking_Submission)+C(Reported_Water_Method)+\\\n",
    "                       C(Reported_Facility_Type)+Stories+age+Energy_efficiency'\n",
    "             ,data=train).fit()\n",
    "lm1.summary()"
   ]
  },
  {
   "cell_type": "code",
   "execution_count": 750,
   "metadata": {},
   "outputs": [],
   "source": [
    "pvalues = lm1.pvalues"
   ]
  },
  {
   "cell_type": "code",
   "execution_count": 751,
   "metadata": {},
   "outputs": [
    {
     "data": {
      "text/plain": [
       "Stories                                                    2.000406e-176\n",
       "age                                                         2.187010e-21\n",
       "C(Reported_Facility_Type)[T.Senior Care Community]          2.883538e-04\n",
       "Energy_efficiency                                           6.724888e-04\n",
       "C(Reported_Facility_Type)[T.Hotel]                          8.858720e-03\n",
       "C(Reported_Water_Method)[T.Manual]                          1.683174e-02\n",
       "C(Reported_Facility_Type)[T.Non-Refrigerated Warehouse]     5.440749e-02\n",
       "C(Reported_Facility_Type)[T.Medical Office]                 6.824039e-02\n",
       "C(Reported_Facility_Type)[T.Office]                         1.624775e-01\n",
       "Intercept                                                   2.837653e-01\n",
       "C(Reported_Facility_Type)[T.Residence Hall/Dormitory]       4.749804e-01\n",
       "C(Reported_Facility_Type)[T.Multifamily Housing]            5.514878e-01\n",
       "C(Reported_Facility_Type)[T.Retail Store]                   8.673970e-01\n",
       "dtype: float64"
      ]
     },
     "execution_count": 751,
     "metadata": {},
     "output_type": "execute_result"
    }
   ],
   "source": [
    "pvalues.sort_values(ascending=True)"
   ]
  },
  {
   "cell_type": "code",
   "execution_count": 752,
   "metadata": {},
   "outputs": [],
   "source": [
    "def AdjR2(features):\n",
    "    lm = smf.ols(formula = ('VALUE~'+features), data = train).fit()\n",
    "    lmy = lm.predict(test)\n",
    "    y_err = lmy-test.VALUE\n",
    "    y_norm = test.VALUE-np.mean(test.VALUE)\n",
    "    # Adjusted R^2\n",
    "    R2 = 1 - y_err.dot(y_err) / y_norm.dot(y_norm) * (len(merged16.index)-1) / (len(merged16.index)-(features.count('+')+1+features.count('-'))-1)\n",
    "    return R2, lm"
   ]
  },
  {
   "cell_type": "code",
   "execution_count": 753,
   "metadata": {},
   "outputs": [
    {
     "data": {
      "text/plain": [
       "-1.1121744957088757"
      ]
     },
     "execution_count": 753,
     "metadata": {},
     "output_type": "execute_result"
    }
   ],
   "source": [
    "AdjR2('Stories-1')[0]"
   ]
  },
  {
   "cell_type": "code",
   "execution_count": 754,
   "metadata": {},
   "outputs": [
    {
     "data": {
      "text/plain": [
       "-1.0630039272190839"
      ]
     },
     "execution_count": 754,
     "metadata": {},
     "output_type": "execute_result"
    }
   ],
   "source": [
    "AdjR2('Stories-1+age')[0]"
   ]
  },
  {
   "cell_type": "code",
   "execution_count": 755,
   "metadata": {
    "scrolled": false
   },
   "outputs": [
    {
     "data": {
      "text/plain": [
       "-1.0698769648531985"
      ]
     },
     "execution_count": 755,
     "metadata": {},
     "output_type": "execute_result"
    }
   ],
   "source": [
    "AdjR2('Stories-1+age+Energy_efficiency')[0]"
   ]
  },
  {
   "cell_type": "code",
   "execution_count": 756,
   "metadata": {},
   "outputs": [
    {
     "data": {
      "text/plain": [
       "0.52044003798713212"
      ]
     },
     "execution_count": 756,
     "metadata": {},
     "output_type": "execute_result"
    }
   ],
   "source": [
    "AdjR2('Stories-1+age+Energy_efficiency+C(Reported_Water_Method)')[0]"
   ]
  },
  {
   "cell_type": "code",
   "execution_count": 757,
   "metadata": {},
   "outputs": [
    {
     "data": {
      "text/plain": [
       "0.52457320151373055"
      ]
     },
     "execution_count": 757,
     "metadata": {},
     "output_type": "execute_result"
    }
   ],
   "source": [
    "AdjR2('Stories-1+age+Energy_efficiency+C(Reported_Water_Method)+C(Reported_Facility_Type)')[0]"
   ]
  },
  {
   "cell_type": "code",
   "execution_count": 758,
   "metadata": {},
   "outputs": [
    {
     "data": {
      "text/plain": [
       "0.5247885216217405"
      ]
     },
     "execution_count": 758,
     "metadata": {},
     "output_type": "execute_result"
    }
   ],
   "source": [
    "AdjR2('Stories+age+Energy_efficiency+C(Reported_Water_Method)+C(Reported_Facility_Type)')[0]"
   ]
  },
  {
   "cell_type": "code",
   "execution_count": 761,
   "metadata": {
    "scrolled": false
   },
   "outputs": [
    {
     "data": {
      "text/html": [
       "<table class=\"simpletable\">\n",
       "<caption>OLS Regression Results</caption>\n",
       "<tr>\n",
       "  <th>Dep. Variable:</th>          <td>VALUE</td>      <th>  R-squared:         </th> <td>   0.480</td> \n",
       "</tr>\n",
       "<tr>\n",
       "  <th>Model:</th>                   <td>OLS</td>       <th>  Adj. R-squared:    </th> <td>   0.476</td> \n",
       "</tr>\n",
       "<tr>\n",
       "  <th>Method:</th>             <td>Least Squares</td>  <th>  F-statistic:       </th> <td>   118.3</td> \n",
       "</tr>\n",
       "<tr>\n",
       "  <th>Date:</th>             <td>Mon, 20 Nov 2017</td> <th>  Prob (F-statistic):</th> <td>2.92e-208</td>\n",
       "</tr>\n",
       "<tr>\n",
       "  <th>Time:</th>                 <td>21:45:07</td>     <th>  Log-Likelihood:    </th> <td>  3172.8</td> \n",
       "</tr>\n",
       "<tr>\n",
       "  <th>No. Observations:</th>      <td>  1549</td>      <th>  AIC:               </th> <td>  -6320.</td> \n",
       "</tr>\n",
       "<tr>\n",
       "  <th>Df Residuals:</th>          <td>  1536</td>      <th>  BIC:               </th> <td>  -6250.</td> \n",
       "</tr>\n",
       "<tr>\n",
       "  <th>Df Model:</th>              <td>    12</td>      <th>                     </th>     <td> </td>    \n",
       "</tr>\n",
       "<tr>\n",
       "  <th>Covariance Type:</th>      <td>nonrobust</td>    <th>                     </th>     <td> </td>    \n",
       "</tr>\n",
       "</table>\n",
       "<table class=\"simpletable\">\n",
       "<tr>\n",
       "                             <td></td>                                <th>coef</th>     <th>std err</th>      <th>t</th>      <th>P>|t|</th>  <th>[0.025</th>    <th>0.975]</th>  \n",
       "</tr>\n",
       "<tr>\n",
       "  <th>Intercept</th>                                               <td>    0.0343</td> <td>    0.032</td> <td>    1.072</td> <td> 0.284</td> <td>   -0.028</td> <td>    0.097</td>\n",
       "</tr>\n",
       "<tr>\n",
       "  <th>C(Reported_Water_Method)[T.Manual]</th>                      <td>    0.0143</td> <td>    0.006</td> <td>    2.393</td> <td> 0.017</td> <td>    0.003</td> <td>    0.026</td>\n",
       "</tr>\n",
       "<tr>\n",
       "  <th>C(Reported_Facility_Type)[T.Hotel]</th>                      <td>    0.1175</td> <td>    0.045</td> <td>    2.621</td> <td> 0.009</td> <td>    0.030</td> <td>    0.205</td>\n",
       "</tr>\n",
       "<tr>\n",
       "  <th>C(Reported_Facility_Type)[T.Medical Office]</th>             <td>    0.0816</td> <td>    0.045</td> <td>    1.825</td> <td> 0.068</td> <td>   -0.006</td> <td>    0.169</td>\n",
       "</tr>\n",
       "<tr>\n",
       "  <th>C(Reported_Facility_Type)[T.Multifamily Housing]</th>        <td>    0.0190</td> <td>    0.032</td> <td>    0.596</td> <td> 0.551</td> <td>   -0.044</td> <td>    0.082</td>\n",
       "</tr>\n",
       "<tr>\n",
       "  <th>C(Reported_Facility_Type)[T.Non-Refrigerated Warehouse]</th> <td>    0.0707</td> <td>    0.037</td> <td>    1.925</td> <td> 0.054</td> <td>   -0.001</td> <td>    0.143</td>\n",
       "</tr>\n",
       "<tr>\n",
       "  <th>C(Reported_Facility_Type)[T.Office]</th>                     <td>    0.0449</td> <td>    0.032</td> <td>    1.397</td> <td> 0.162</td> <td>   -0.018</td> <td>    0.108</td>\n",
       "</tr>\n",
       "<tr>\n",
       "  <th>C(Reported_Facility_Type)[T.Residence Hall/Dormitory]</th>   <td>   -0.0278</td> <td>    0.039</td> <td>   -0.715</td> <td> 0.475</td> <td>   -0.104</td> <td>    0.048</td>\n",
       "</tr>\n",
       "<tr>\n",
       "  <th>C(Reported_Facility_Type)[T.Retail Store]</th>               <td>    0.0075</td> <td>    0.045</td> <td>    0.167</td> <td> 0.867</td> <td>   -0.080</td> <td>    0.095</td>\n",
       "</tr>\n",
       "<tr>\n",
       "  <th>C(Reported_Facility_Type)[T.Senior Care Community]</th>      <td>    0.1627</td> <td>    0.045</td> <td>    3.634</td> <td> 0.000</td> <td>    0.075</td> <td>    0.251</td>\n",
       "</tr>\n",
       "<tr>\n",
       "  <th>Stories</th>                                                 <td>    0.5277</td> <td>    0.016</td> <td>   32.458</td> <td> 0.000</td> <td>    0.496</td> <td>    0.560</td>\n",
       "</tr>\n",
       "<tr>\n",
       "  <th>age</th>                                                     <td>   -0.0724</td> <td>    0.008</td> <td>   -9.638</td> <td> 0.000</td> <td>   -0.087</td> <td>   -0.058</td>\n",
       "</tr>\n",
       "<tr>\n",
       "  <th>Energy_efficiency</th>                                       <td>   -0.0113</td> <td>    0.003</td> <td>   -3.408</td> <td> 0.001</td> <td>   -0.018</td> <td>   -0.005</td>\n",
       "</tr>\n",
       "</table>\n",
       "<table class=\"simpletable\">\n",
       "<tr>\n",
       "  <th>Omnibus:</th>       <td>414.211</td> <th>  Durbin-Watson:     </th> <td>   1.947</td> \n",
       "</tr>\n",
       "<tr>\n",
       "  <th>Prob(Omnibus):</th> <td> 0.000</td>  <th>  Jarque-Bera (JB):  </th> <td>1281.101</td> \n",
       "</tr>\n",
       "<tr>\n",
       "  <th>Skew:</th>          <td> 1.334</td>  <th>  Prob(JB):          </th> <td>6.49e-279</td>\n",
       "</tr>\n",
       "<tr>\n",
       "  <th>Kurtosis:</th>      <td> 6.568</td>  <th>  Cond. No.          </th> <td>    172.</td> \n",
       "</tr>\n",
       "</table>"
      ],
      "text/plain": [
       "<class 'statsmodels.iolib.summary.Summary'>\n",
       "\"\"\"\n",
       "                            OLS Regression Results                            \n",
       "==============================================================================\n",
       "Dep. Variable:                  VALUE   R-squared:                       0.480\n",
       "Model:                            OLS   Adj. R-squared:                  0.476\n",
       "Method:                 Least Squares   F-statistic:                     118.3\n",
       "Date:                Mon, 20 Nov 2017   Prob (F-statistic):          2.92e-208\n",
       "Time:                        21:45:07   Log-Likelihood:                 3172.8\n",
       "No. Observations:                1549   AIC:                            -6320.\n",
       "Df Residuals:                    1536   BIC:                            -6250.\n",
       "Df Model:                          12                                         \n",
       "Covariance Type:            nonrobust                                         \n",
       "===========================================================================================================================\n",
       "                                                              coef    std err          t      P>|t|      [0.025      0.975]\n",
       "---------------------------------------------------------------------------------------------------------------------------\n",
       "Intercept                                                   0.0343      0.032      1.072      0.284      -0.028       0.097\n",
       "C(Reported_Water_Method)[T.Manual]                          0.0143      0.006      2.393      0.017       0.003       0.026\n",
       "C(Reported_Facility_Type)[T.Hotel]                          0.1175      0.045      2.621      0.009       0.030       0.205\n",
       "C(Reported_Facility_Type)[T.Medical Office]                 0.0816      0.045      1.825      0.068      -0.006       0.169\n",
       "C(Reported_Facility_Type)[T.Multifamily Housing]            0.0190      0.032      0.596      0.551      -0.044       0.082\n",
       "C(Reported_Facility_Type)[T.Non-Refrigerated Warehouse]     0.0707      0.037      1.925      0.054      -0.001       0.143\n",
       "C(Reported_Facility_Type)[T.Office]                         0.0449      0.032      1.397      0.162      -0.018       0.108\n",
       "C(Reported_Facility_Type)[T.Residence Hall/Dormitory]      -0.0278      0.039     -0.715      0.475      -0.104       0.048\n",
       "C(Reported_Facility_Type)[T.Retail Store]                   0.0075      0.045      0.167      0.867      -0.080       0.095\n",
       "C(Reported_Facility_Type)[T.Senior Care Community]          0.1627      0.045      3.634      0.000       0.075       0.251\n",
       "Stories                                                     0.5277      0.016     32.458      0.000       0.496       0.560\n",
       "age                                                        -0.0724      0.008     -9.638      0.000      -0.087      -0.058\n",
       "Energy_efficiency                                          -0.0113      0.003     -3.408      0.001      -0.018      -0.005\n",
       "==============================================================================\n",
       "Omnibus:                      414.211   Durbin-Watson:                   1.947\n",
       "Prob(Omnibus):                  0.000   Jarque-Bera (JB):             1281.101\n",
       "Skew:                           1.334   Prob(JB):                    6.49e-279\n",
       "Kurtosis:                       6.568   Cond. No.                         172.\n",
       "==============================================================================\n",
       "\n",
       "Warnings:\n",
       "[1] Standard Errors assume that the covariance matrix of the errors is correctly specified.\n",
       "\"\"\""
      ]
     },
     "execution_count": 761,
     "metadata": {},
     "output_type": "execute_result"
    }
   ],
   "source": [
    "lm = smf.ols(formula='VALUE~Stories+age+Energy_efficiency+C(Reported_Water_Method)+C(Reported_Facility_Type)'\n",
    "             ,data=train).fit()\n",
    "lm.summary()"
   ]
  },
  {
   "cell_type": "markdown",
   "metadata": {},
   "source": [
    "### Log-log Linear Regression"
   ]
  },
  {
   "cell_type": "markdown",
   "metadata": {},
   "source": [
    "### Logarithm of both x and y"
   ]
  },
  {
   "cell_type": "code",
   "execution_count": 766,
   "metadata": {},
   "outputs": [
    {
     "data": {
      "text/html": [
       "<div>\n",
       "<style scoped>\n",
       "    .dataframe tbody tr th:only-of-type {\n",
       "        vertical-align: middle;\n",
       "    }\n",
       "\n",
       "    .dataframe tbody tr th {\n",
       "        vertical-align: top;\n",
       "    }\n",
       "\n",
       "    .dataframe thead th {\n",
       "        text-align: right;\n",
       "    }\n",
       "</style>\n",
       "<table border=\"1\" class=\"dataframe\">\n",
       "  <thead>\n",
       "    <tr style=\"text-align: right;\">\n",
       "      <th></th>\n",
       "      <th>BBL</th>\n",
       "      <th>Zip</th>\n",
       "      <th>Benchmarking_Submission</th>\n",
       "      <th>Reported_Water_Method</th>\n",
       "      <th>Reported_Facility_Type</th>\n",
       "      <th>VALUE</th>\n",
       "      <th>Energy_efficiency</th>\n",
       "      <th>Stories</th>\n",
       "      <th>age</th>\n",
       "    </tr>\n",
       "  </thead>\n",
       "  <tbody>\n",
       "    <tr>\n",
       "      <th>1</th>\n",
       "      <td>1015180024</td>\n",
       "      <td>10128.0</td>\n",
       "      <td>In Compliance</td>\n",
       "      <td>ABS</td>\n",
       "      <td>Multifamily Housing</td>\n",
       "      <td>0.154151</td>\n",
       "      <td>0.556229</td>\n",
       "      <td>0.070187</td>\n",
       "      <td>0.138713</td>\n",
       "    </tr>\n",
       "    <tr>\n",
       "      <th>3</th>\n",
       "      <td>1000520021</td>\n",
       "      <td>10006.0</td>\n",
       "      <td>In Compliance</td>\n",
       "      <td>ABS</td>\n",
       "      <td>Multifamily Housing</td>\n",
       "      <td>0.073796</td>\n",
       "      <td>0.410468</td>\n",
       "      <td>0.096698</td>\n",
       "      <td>-0.247003</td>\n",
       "    </tr>\n",
       "    <tr>\n",
       "      <th>6</th>\n",
       "      <td>1000710001</td>\n",
       "      <td>10038.0</td>\n",
       "      <td>In Compliance</td>\n",
       "      <td>ABS</td>\n",
       "      <td>Multifamily Housing</td>\n",
       "      <td>0.170841</td>\n",
       "      <td>0.433897</td>\n",
       "      <td>0.039504</td>\n",
       "      <td>-0.049512</td>\n",
       "    </tr>\n",
       "    <tr>\n",
       "      <th>7</th>\n",
       "      <td>1000720027</td>\n",
       "      <td>10038.0</td>\n",
       "      <td>In Compliance</td>\n",
       "      <td>ABS</td>\n",
       "      <td>Multifamily Housing</td>\n",
       "      <td>0.066798</td>\n",
       "      <td>-0.344750</td>\n",
       "      <td>-0.017990</td>\n",
       "      <td>-0.227627</td>\n",
       "    </tr>\n",
       "    <tr>\n",
       "      <th>10</th>\n",
       "      <td>1000920024</td>\n",
       "      <td>10038.0</td>\n",
       "      <td>In Compliance</td>\n",
       "      <td>Manual</td>\n",
       "      <td>Financial Office</td>\n",
       "      <td>0.104004</td>\n",
       "      <td>-0.356419</td>\n",
       "      <td>0.073336</td>\n",
       "      <td>-0.174655</td>\n",
       "    </tr>\n",
       "  </tbody>\n",
       "</table>\n",
       "</div>"
      ],
      "text/plain": [
       "           BBL      Zip Benchmarking_Submission Reported_Water_Method  \\\n",
       "1   1015180024  10128.0           In Compliance                   ABS   \n",
       "3   1000520021  10006.0           In Compliance                   ABS   \n",
       "6   1000710001  10038.0           In Compliance                   ABS   \n",
       "7   1000720027  10038.0           In Compliance                   ABS   \n",
       "10  1000920024  10038.0           In Compliance                Manual   \n",
       "\n",
       "   Reported_Facility_Type     VALUE  Energy_efficiency   Stories       age  \n",
       "1     Multifamily Housing  0.154151           0.556229  0.070187  0.138713  \n",
       "3     Multifamily Housing  0.073796           0.410468  0.096698 -0.247003  \n",
       "6     Multifamily Housing  0.170841           0.433897  0.039504 -0.049512  \n",
       "7     Multifamily Housing  0.066798          -0.344750 -0.017990 -0.227627  \n",
       "10       Financial Office  0.104004          -0.356419  0.073336 -0.174655  "
      ]
     },
     "execution_count": 766,
     "metadata": {},
     "output_type": "execute_result"
    }
   ],
   "source": [
    "merged16.head()"
   ]
  },
  {
   "cell_type": "code",
   "execution_count": 820,
   "metadata": {
    "scrolled": true
   },
   "outputs": [],
   "source": [
    "columns = ['VALUE','Energy_efficiency','Stories','age']"
   ]
  },
  {
   "cell_type": "markdown",
   "metadata": {},
   "source": [
    "### As here energy_efficiency has negative numbers, we would add 1 to each of them"
   ]
  },
  {
   "cell_type": "code",
   "execution_count": 821,
   "metadata": {},
   "outputs": [],
   "source": [
    "loglog = merged16.copy()\n",
    "loglog['Energy_efficiency'] = loglog['Energy_efficiency']+1\n",
    "loglog['Stories'] = loglog['Stories']+1\n",
    "loglog['age'] = loglog['age']+1"
   ]
  },
  {
   "cell_type": "code",
   "execution_count": 823,
   "metadata": {
    "scrolled": true
   },
   "outputs": [
    {
     "name": "stderr",
     "output_type": "stream",
     "text": [
      "C:\\Users\\sddz0\\Anaconda2\\lib\\site-packages\\ipykernel_launcher.py:2: RuntimeWarning: divide by zero encountered in log\n",
      "  \n"
     ]
    }
   ],
   "source": [
    "for column in columns:\n",
    "    loglog[column] = np.log(loglog[column])"
   ]
  },
  {
   "cell_type": "markdown",
   "metadata": {},
   "source": [
    "### remove inf and 0"
   ]
  },
  {
   "cell_type": "code",
   "execution_count": 827,
   "metadata": {},
   "outputs": [],
   "source": [
    "loglog = loglog.replace([np.inf, -np.inf], np.nan).dropna(axis=0)"
   ]
  },
  {
   "cell_type": "code",
   "execution_count": 828,
   "metadata": {},
   "outputs": [],
   "source": [
    "train, test = train_test_split(loglog,test_size = 0.3)"
   ]
  },
  {
   "cell_type": "code",
   "execution_count": 829,
   "metadata": {},
   "outputs": [
    {
     "data": {
      "text/html": [
       "<table class=\"simpletable\">\n",
       "<caption>OLS Regression Results</caption>\n",
       "<tr>\n",
       "  <th>Dep. Variable:</th>          <td>VALUE</td>      <th>  R-squared:         </th> <td>   0.378</td> \n",
       "</tr>\n",
       "<tr>\n",
       "  <th>Model:</th>                   <td>OLS</td>       <th>  Adj. R-squared:    </th> <td>   0.373</td> \n",
       "</tr>\n",
       "<tr>\n",
       "  <th>Method:</th>             <td>Least Squares</td>  <th>  F-statistic:       </th> <td>   77.79</td> \n",
       "</tr>\n",
       "<tr>\n",
       "  <th>Date:</th>             <td>Mon, 20 Nov 2017</td> <th>  Prob (F-statistic):</th> <td>7.62e-149</td>\n",
       "</tr>\n",
       "<tr>\n",
       "  <th>Time:</th>                 <td>21:59:27</td>     <th>  Log-Likelihood:    </th> <td> -1347.8</td> \n",
       "</tr>\n",
       "<tr>\n",
       "  <th>No. Observations:</th>      <td>  1549</td>      <th>  AIC:               </th> <td>   2722.</td> \n",
       "</tr>\n",
       "<tr>\n",
       "  <th>Df Residuals:</th>          <td>  1536</td>      <th>  BIC:               </th> <td>   2791.</td> \n",
       "</tr>\n",
       "<tr>\n",
       "  <th>Df Model:</th>              <td>    12</td>      <th>                     </th>     <td> </td>    \n",
       "</tr>\n",
       "<tr>\n",
       "  <th>Covariance Type:</th>      <td>nonrobust</td>    <th>                     </th>     <td> </td>    \n",
       "</tr>\n",
       "</table>\n",
       "<table class=\"simpletable\">\n",
       "<tr>\n",
       "                             <td></td>                                <th>coef</th>     <th>std err</th>      <th>t</th>      <th>P>|t|</th>  <th>[0.025</th>    <th>0.975]</th>  \n",
       "</tr>\n",
       "<tr>\n",
       "  <th>Intercept</th>                                               <td>   -3.1880</td> <td>    0.590</td> <td>   -5.401</td> <td> 0.000</td> <td>   -4.346</td> <td>   -2.030</td>\n",
       "</tr>\n",
       "<tr>\n",
       "  <th>C(Reported_Water_Method)[T.Manual]</th>                      <td>    0.1452</td> <td>    0.101</td> <td>    1.437</td> <td> 0.151</td> <td>   -0.053</td> <td>    0.343</td>\n",
       "</tr>\n",
       "<tr>\n",
       "  <th>C(Reported_Facility_Type)[T.Hotel]</th>                      <td>    1.4403</td> <td>    0.828</td> <td>    1.739</td> <td> 0.082</td> <td>   -0.185</td> <td>    3.065</td>\n",
       "</tr>\n",
       "<tr>\n",
       "  <th>C(Reported_Facility_Type)[T.Medical Office]</th>             <td>    0.6505</td> <td>    0.827</td> <td>    0.787</td> <td> 0.432</td> <td>   -0.972</td> <td>    2.273</td>\n",
       "</tr>\n",
       "<tr>\n",
       "  <th>C(Reported_Facility_Type)[T.Multifamily Housing]</th>        <td>   -0.0035</td> <td>    0.590</td> <td>   -0.006</td> <td> 0.995</td> <td>   -1.161</td> <td>    1.154</td>\n",
       "</tr>\n",
       "<tr>\n",
       "  <th>C(Reported_Facility_Type)[T.Non-Refrigerated Warehouse]</th> <td>    0.6800</td> <td>    0.719</td> <td>    0.946</td> <td> 0.344</td> <td>   -0.730</td> <td>    2.090</td>\n",
       "</tr>\n",
       "<tr>\n",
       "  <th>C(Reported_Facility_Type)[T.Office]</th>                     <td>    0.4502</td> <td>    0.593</td> <td>    0.759</td> <td> 0.448</td> <td>   -0.713</td> <td>    1.614</td>\n",
       "</tr>\n",
       "<tr>\n",
       "  <th>C(Reported_Facility_Type)[T.Residence Hall/Dormitory]</th>   <td>   -0.1051</td> <td>    0.657</td> <td>   -0.160</td> <td> 0.873</td> <td>   -1.393</td> <td>    1.183</td>\n",
       "</tr>\n",
       "<tr>\n",
       "  <th>C(Reported_Facility_Type)[T.Retail Store]</th>               <td>    0.1433</td> <td>    0.827</td> <td>    0.173</td> <td> 0.862</td> <td>   -1.478</td> <td>    1.765</td>\n",
       "</tr>\n",
       "<tr>\n",
       "  <th>C(Reported_Facility_Type)[T.Senior Care Community]</th>      <td>    1.8127</td> <td>    0.828</td> <td>    2.190</td> <td> 0.029</td> <td>    0.189</td> <td>    3.436</td>\n",
       "</tr>\n",
       "<tr>\n",
       "  <th>Stories</th>                                                 <td>    8.4396</td> <td>    0.323</td> <td>   26.119</td> <td> 0.000</td> <td>    7.806</td> <td>    9.073</td>\n",
       "</tr>\n",
       "<tr>\n",
       "  <th>age</th>                                                     <td>   -0.6060</td> <td>    0.143</td> <td>   -4.244</td> <td> 0.000</td> <td>   -0.886</td> <td>   -0.326</td>\n",
       "</tr>\n",
       "<tr>\n",
       "  <th>Energy_efficiency</th>                                       <td>   -0.1496</td> <td>    0.062</td> <td>   -2.405</td> <td> 0.016</td> <td>   -0.272</td> <td>   -0.028</td>\n",
       "</tr>\n",
       "</table>\n",
       "<table class=\"simpletable\">\n",
       "<tr>\n",
       "  <th>Omnibus:</th>       <td>15.607</td> <th>  Durbin-Watson:     </th> <td>   2.047</td>\n",
       "</tr>\n",
       "<tr>\n",
       "  <th>Prob(Omnibus):</th> <td> 0.000</td> <th>  Jarque-Bera (JB):  </th> <td>  23.042</td>\n",
       "</tr>\n",
       "<tr>\n",
       "  <th>Skew:</th>          <td>-0.073</td> <th>  Prob(JB):          </th> <td>9.92e-06</td>\n",
       "</tr>\n",
       "<tr>\n",
       "  <th>Kurtosis:</th>      <td> 3.579</td> <th>  Cond. No.          </th> <td>    171.</td>\n",
       "</tr>\n",
       "</table>"
      ],
      "text/plain": [
       "<class 'statsmodels.iolib.summary.Summary'>\n",
       "\"\"\"\n",
       "                            OLS Regression Results                            \n",
       "==============================================================================\n",
       "Dep. Variable:                  VALUE   R-squared:                       0.378\n",
       "Model:                            OLS   Adj. R-squared:                  0.373\n",
       "Method:                 Least Squares   F-statistic:                     77.79\n",
       "Date:                Mon, 20 Nov 2017   Prob (F-statistic):          7.62e-149\n",
       "Time:                        21:59:27   Log-Likelihood:                -1347.8\n",
       "No. Observations:                1549   AIC:                             2722.\n",
       "Df Residuals:                    1536   BIC:                             2791.\n",
       "Df Model:                          12                                         \n",
       "Covariance Type:            nonrobust                                         \n",
       "===========================================================================================================================\n",
       "                                                              coef    std err          t      P>|t|      [0.025      0.975]\n",
       "---------------------------------------------------------------------------------------------------------------------------\n",
       "Intercept                                                  -3.1880      0.590     -5.401      0.000      -4.346      -2.030\n",
       "C(Reported_Water_Method)[T.Manual]                          0.1452      0.101      1.437      0.151      -0.053       0.343\n",
       "C(Reported_Facility_Type)[T.Hotel]                          1.4403      0.828      1.739      0.082      -0.185       3.065\n",
       "C(Reported_Facility_Type)[T.Medical Office]                 0.6505      0.827      0.787      0.432      -0.972       2.273\n",
       "C(Reported_Facility_Type)[T.Multifamily Housing]           -0.0035      0.590     -0.006      0.995      -1.161       1.154\n",
       "C(Reported_Facility_Type)[T.Non-Refrigerated Warehouse]     0.6800      0.719      0.946      0.344      -0.730       2.090\n",
       "C(Reported_Facility_Type)[T.Office]                         0.4502      0.593      0.759      0.448      -0.713       1.614\n",
       "C(Reported_Facility_Type)[T.Residence Hall/Dormitory]      -0.1051      0.657     -0.160      0.873      -1.393       1.183\n",
       "C(Reported_Facility_Type)[T.Retail Store]                   0.1433      0.827      0.173      0.862      -1.478       1.765\n",
       "C(Reported_Facility_Type)[T.Senior Care Community]          1.8127      0.828      2.190      0.029       0.189       3.436\n",
       "Stories                                                     8.4396      0.323     26.119      0.000       7.806       9.073\n",
       "age                                                        -0.6060      0.143     -4.244      0.000      -0.886      -0.326\n",
       "Energy_efficiency                                          -0.1496      0.062     -2.405      0.016      -0.272      -0.028\n",
       "==============================================================================\n",
       "Omnibus:                       15.607   Durbin-Watson:                   2.047\n",
       "Prob(Omnibus):                  0.000   Jarque-Bera (JB):               23.042\n",
       "Skew:                          -0.073   Prob(JB):                     9.92e-06\n",
       "Kurtosis:                       3.579   Cond. No.                         171.\n",
       "==============================================================================\n",
       "\n",
       "Warnings:\n",
       "[1] Standard Errors assume that the covariance matrix of the errors is correctly specified.\n",
       "\"\"\""
      ]
     },
     "execution_count": 829,
     "metadata": {},
     "output_type": "execute_result"
    }
   ],
   "source": [
    "loglog1 = smf.ols(formula='VALUE~C(Benchmarking_Submission)+C(Reported_Water_Method)+\\\n",
    "                       C(Reported_Facility_Type)+Stories+age+Energy_efficiency'\n",
    "             ,data=train).fit()\n",
    "loglog1.summary()"
   ]
  },
  {
   "cell_type": "code",
   "execution_count": 830,
   "metadata": {},
   "outputs": [],
   "source": [
    "pvalues = loglog1.pvalues"
   ]
  },
  {
   "cell_type": "code",
   "execution_count": 831,
   "metadata": {},
   "outputs": [
    {
     "data": {
      "text/plain": [
       "Stories                                                    9.599460e-125\n",
       "Intercept                                                   7.663941e-08\n",
       "age                                                         2.330749e-05\n",
       "Energy_efficiency                                           1.629812e-02\n",
       "C(Reported_Facility_Type)[T.Senior Care Community]          2.864804e-02\n",
       "C(Reported_Facility_Type)[T.Hotel]                          8.232303e-02\n",
       "C(Reported_Water_Method)[T.Manual]                          1.510207e-01\n",
       "C(Reported_Facility_Type)[T.Non-Refrigerated Warehouse]     3.442486e-01\n",
       "C(Reported_Facility_Type)[T.Medical Office]                 4.316470e-01\n",
       "C(Reported_Facility_Type)[T.Office]                         4.480535e-01\n",
       "C(Reported_Facility_Type)[T.Retail Store]                   8.623642e-01\n",
       "C(Reported_Facility_Type)[T.Residence Hall/Dormitory]       8.728667e-01\n",
       "C(Reported_Facility_Type)[T.Multifamily Housing]            9.953200e-01\n",
       "dtype: float64"
      ]
     },
     "execution_count": 831,
     "metadata": {},
     "output_type": "execute_result"
    }
   ],
   "source": [
    "pvalues.sort_values(ascending=True)"
   ]
  },
  {
   "cell_type": "code",
   "execution_count": 833,
   "metadata": {},
   "outputs": [
    {
     "data": {
      "text/plain": [
       "-18.871374706242285"
      ]
     },
     "execution_count": 833,
     "metadata": {},
     "output_type": "execute_result"
    }
   ],
   "source": [
    "AdjR2('Stories-1')[0]"
   ]
  },
  {
   "cell_type": "code",
   "execution_count": 834,
   "metadata": {},
   "outputs": [
    {
     "data": {
      "text/plain": [
       "0.38658611251981623"
      ]
     },
     "execution_count": 834,
     "metadata": {},
     "output_type": "execute_result"
    }
   ],
   "source": [
    "AdjR2('Stories')[0]"
   ]
  },
  {
   "cell_type": "code",
   "execution_count": 835,
   "metadata": {
    "scrolled": false
   },
   "outputs": [
    {
     "data": {
      "text/plain": [
       "0.40423371297921129"
      ]
     },
     "execution_count": 835,
     "metadata": {},
     "output_type": "execute_result"
    }
   ],
   "source": [
    "AdjR2('Stories+age')[0]"
   ]
  },
  {
   "cell_type": "code",
   "execution_count": 836,
   "metadata": {},
   "outputs": [
    {
     "data": {
      "text/plain": [
       "0.41403306701536913"
      ]
     },
     "execution_count": 836,
     "metadata": {},
     "output_type": "execute_result"
    }
   ],
   "source": [
    "AdjR2('Stories+age+Energy_efficiency')[0]"
   ]
  },
  {
   "cell_type": "code",
   "execution_count": 837,
   "metadata": {},
   "outputs": [
    {
     "data": {
      "text/plain": [
       "0.42045735431246034"
      ]
     },
     "execution_count": 837,
     "metadata": {},
     "output_type": "execute_result"
    }
   ],
   "source": [
    "AdjR2('Stories+age+Energy_efficiency+C(Reported_Facility_Type)')[0]"
   ]
  },
  {
   "cell_type": "code",
   "execution_count": 838,
   "metadata": {},
   "outputs": [
    {
     "data": {
      "text/plain": [
       "0.42078641649131432"
      ]
     },
     "execution_count": 838,
     "metadata": {},
     "output_type": "execute_result"
    }
   ],
   "source": [
    "AdjR2('Stories+age+Energy_efficiency+C(Reported_Facility_Type)+C(Reported_Water_Method)')[0]"
   ]
  },
  {
   "cell_type": "code",
   "execution_count": 845,
   "metadata": {
    "scrolled": false
   },
   "outputs": [
    {
     "data": {
      "text/html": [
       "<table class=\"simpletable\">\n",
       "<caption>OLS Regression Results</caption>\n",
       "<tr>\n",
       "  <th>Dep. Variable:</th>          <td>VALUE</td>      <th>  R-squared:         </th> <td>   0.385</td> \n",
       "</tr>\n",
       "<tr>\n",
       "  <th>Model:</th>                   <td>OLS</td>       <th>  Adj. R-squared:    </th> <td>   0.381</td> \n",
       "</tr>\n",
       "<tr>\n",
       "  <th>Method:</th>             <td>Least Squares</td>  <th>  F-statistic:       </th> <td>   96.34</td> \n",
       "</tr>\n",
       "<tr>\n",
       "  <th>Date:</th>             <td>Mon, 20 Nov 2017</td> <th>  Prob (F-statistic):</th> <td>1.19e-154</td>\n",
       "</tr>\n",
       "<tr>\n",
       "  <th>Time:</th>                 <td>22:03:19</td>     <th>  Log-Likelihood:    </th> <td> -1335.7</td> \n",
       "</tr>\n",
       "<tr>\n",
       "  <th>No. Observations:</th>      <td>  1549</td>      <th>  AIC:               </th> <td>   2693.</td> \n",
       "</tr>\n",
       "<tr>\n",
       "  <th>Df Residuals:</th>          <td>  1538</td>      <th>  BIC:               </th> <td>   2752.</td> \n",
       "</tr>\n",
       "<tr>\n",
       "  <th>Df Model:</th>              <td>    10</td>      <th>                     </th>     <td> </td>    \n",
       "</tr>\n",
       "<tr>\n",
       "  <th>Covariance Type:</th>      <td>nonrobust</td>    <th>                     </th>     <td> </td>    \n",
       "</tr>\n",
       "</table>\n",
       "<table class=\"simpletable\">\n",
       "<tr>\n",
       "                             <td></td>                                <th>coef</th>     <th>std err</th>      <th>t</th>      <th>P>|t|</th>  <th>[0.025</th>    <th>0.975]</th>  \n",
       "</tr>\n",
       "<tr>\n",
       "  <th>Intercept</th>                                               <td>   -1.7535</td> <td>    0.576</td> <td>   -3.044</td> <td> 0.002</td> <td>   -2.883</td> <td>   -0.624</td>\n",
       "</tr>\n",
       "<tr>\n",
       "  <th>C(Reported_Water_Method)[T.Manual]</th>                      <td>    0.1768</td> <td>    0.105</td> <td>    1.687</td> <td> 0.092</td> <td>   -0.029</td> <td>    0.382</td>\n",
       "</tr>\n",
       "<tr>\n",
       "  <th>C(Reported_Facility_Type)[T.Medical Office]</th>             <td>   -0.7986</td> <td>    0.815</td> <td>   -0.980</td> <td> 0.327</td> <td>   -2.397</td> <td>    0.800</td>\n",
       "</tr>\n",
       "<tr>\n",
       "  <th>C(Reported_Facility_Type)[T.Multifamily Housing]</th>        <td>   -1.4491</td> <td>    0.576</td> <td>   -2.515</td> <td> 0.012</td> <td>   -2.579</td> <td>   -0.319</td>\n",
       "</tr>\n",
       "<tr>\n",
       "  <th>C(Reported_Facility_Type)[T.Non-Refrigerated Warehouse]</th> <td>   -0.3715</td> <td>    0.817</td> <td>   -0.455</td> <td> 0.649</td> <td>   -1.974</td> <td>    1.231</td>\n",
       "</tr>\n",
       "<tr>\n",
       "  <th>C(Reported_Facility_Type)[T.Office]</th>                     <td>   -0.9999</td> <td>    0.582</td> <td>   -1.718</td> <td> 0.086</td> <td>   -2.141</td> <td>    0.142</td>\n",
       "</tr>\n",
       "<tr>\n",
       "  <th>C(Reported_Facility_Type)[T.Residence Hall/Dormitory]</th>   <td>   -1.5222</td> <td>    0.645</td> <td>   -2.359</td> <td> 0.018</td> <td>   -2.788</td> <td>   -0.256</td>\n",
       "</tr>\n",
       "<tr>\n",
       "  <th>C(Reported_Facility_Type)[T.Senior Care Community]</th>      <td>    0.3606</td> <td>    0.814</td> <td>    0.443</td> <td> 0.658</td> <td>   -1.236</td> <td>    1.957</td>\n",
       "</tr>\n",
       "<tr>\n",
       "  <th>Stories</th>                                                 <td>    8.2837</td> <td>    0.309</td> <td>   26.793</td> <td> 0.000</td> <td>    7.677</td> <td>    8.890</td>\n",
       "</tr>\n",
       "<tr>\n",
       "  <th>age</th>                                                     <td>   -0.5867</td> <td>    0.143</td> <td>   -4.106</td> <td> 0.000</td> <td>   -0.867</td> <td>   -0.306</td>\n",
       "</tr>\n",
       "<tr>\n",
       "  <th>Energy_efficiency</th>                                       <td>   -0.1792</td> <td>    0.060</td> <td>   -3.012</td> <td> 0.003</td> <td>   -0.296</td> <td>   -0.062</td>\n",
       "</tr>\n",
       "</table>\n",
       "<table class=\"simpletable\">\n",
       "<tr>\n",
       "  <th>Omnibus:</th>       <td> 7.310</td> <th>  Durbin-Watson:     </th> <td>   2.034</td>\n",
       "</tr>\n",
       "<tr>\n",
       "  <th>Prob(Omnibus):</th> <td> 0.026</td> <th>  Jarque-Bera (JB):  </th> <td>   9.353</td>\n",
       "</tr>\n",
       "<tr>\n",
       "  <th>Skew:</th>          <td>-0.020</td> <th>  Prob(JB):          </th> <td> 0.00931</td>\n",
       "</tr>\n",
       "<tr>\n",
       "  <th>Kurtosis:</th>      <td> 3.378</td> <th>  Cond. No.          </th> <td>    150.</td>\n",
       "</tr>\n",
       "</table>"
      ],
      "text/plain": [
       "<class 'statsmodels.iolib.summary.Summary'>\n",
       "\"\"\"\n",
       "                            OLS Regression Results                            \n",
       "==============================================================================\n",
       "Dep. Variable:                  VALUE   R-squared:                       0.385\n",
       "Model:                            OLS   Adj. R-squared:                  0.381\n",
       "Method:                 Least Squares   F-statistic:                     96.34\n",
       "Date:                Mon, 20 Nov 2017   Prob (F-statistic):          1.19e-154\n",
       "Time:                        22:03:19   Log-Likelihood:                -1335.7\n",
       "No. Observations:                1549   AIC:                             2693.\n",
       "Df Residuals:                    1538   BIC:                             2752.\n",
       "Df Model:                          10                                         \n",
       "Covariance Type:            nonrobust                                         \n",
       "===========================================================================================================================\n",
       "                                                              coef    std err          t      P>|t|      [0.025      0.975]\n",
       "---------------------------------------------------------------------------------------------------------------------------\n",
       "Intercept                                                  -1.7535      0.576     -3.044      0.002      -2.883      -0.624\n",
       "C(Reported_Water_Method)[T.Manual]                          0.1768      0.105      1.687      0.092      -0.029       0.382\n",
       "C(Reported_Facility_Type)[T.Medical Office]                -0.7986      0.815     -0.980      0.327      -2.397       0.800\n",
       "C(Reported_Facility_Type)[T.Multifamily Housing]           -1.4491      0.576     -2.515      0.012      -2.579      -0.319\n",
       "C(Reported_Facility_Type)[T.Non-Refrigerated Warehouse]    -0.3715      0.817     -0.455      0.649      -1.974       1.231\n",
       "C(Reported_Facility_Type)[T.Office]                        -0.9999      0.582     -1.718      0.086      -2.141       0.142\n",
       "C(Reported_Facility_Type)[T.Residence Hall/Dormitory]      -1.5222      0.645     -2.359      0.018      -2.788      -0.256\n",
       "C(Reported_Facility_Type)[T.Senior Care Community]          0.3606      0.814      0.443      0.658      -1.236       1.957\n",
       "Stories                                                     8.2837      0.309     26.793      0.000       7.677       8.890\n",
       "age                                                        -0.5867      0.143     -4.106      0.000      -0.867      -0.306\n",
       "Energy_efficiency                                          -0.1792      0.060     -3.012      0.003      -0.296      -0.062\n",
       "==============================================================================\n",
       "Omnibus:                        7.310   Durbin-Watson:                   2.034\n",
       "Prob(Omnibus):                  0.026   Jarque-Bera (JB):                9.353\n",
       "Skew:                          -0.020   Prob(JB):                      0.00931\n",
       "Kurtosis:                       3.378   Cond. No.                         150.\n",
       "==============================================================================\n",
       "\n",
       "Warnings:\n",
       "[1] Standard Errors assume that the covariance matrix of the errors is correctly specified.\n",
       "\"\"\""
      ]
     },
     "execution_count": 845,
     "metadata": {},
     "output_type": "execute_result"
    }
   ],
   "source": [
    "semilog1 = smf.ols(formula='VALUE~C(Benchmarking_Submission)+C(Reported_Water_Method)+\\\n",
    "                       C(Reported_Facility_Type)+Stories+age+Energy_efficiency'\n",
    "             ,data=train).fit()\n",
    "semilog1.summary()"
   ]
  },
  {
   "cell_type": "markdown",
   "metadata": {},
   "source": [
    "### Semi-log Linear Regression"
   ]
  },
  {
   "cell_type": "code",
   "execution_count": 840,
   "metadata": {},
   "outputs": [],
   "source": [
    "semilog = merged16.copy()"
   ]
  },
  {
   "cell_type": "code",
   "execution_count": 841,
   "metadata": {
    "scrolled": true
   },
   "outputs": [
    {
     "name": "stderr",
     "output_type": "stream",
     "text": [
      "C:\\Users\\sddz0\\Anaconda2\\lib\\site-packages\\ipykernel_launcher.py:1: RuntimeWarning: divide by zero encountered in log\n",
      "  \"\"\"Entry point for launching an IPython kernel.\n"
     ]
    }
   ],
   "source": [
    "semilog.VALUE = np.log(semilog.VALUE)"
   ]
  },
  {
   "cell_type": "code",
   "execution_count": 842,
   "metadata": {},
   "outputs": [],
   "source": [
    "semilog = semilog.replace([np.inf, -np.inf], np.nan).dropna(axis=0)"
   ]
  },
  {
   "cell_type": "code",
   "execution_count": 882,
   "metadata": {},
   "outputs": [],
   "source": [
    "train, test = train_test_split(semilog,test_size = 0.3)"
   ]
  },
  {
   "cell_type": "code",
   "execution_count": 895,
   "metadata": {},
   "outputs": [
    {
     "data": {
      "text/html": [
       "<table class=\"simpletable\">\n",
       "<caption>OLS Regression Results</caption>\n",
       "<tr>\n",
       "  <th>Dep. Variable:</th>          <td>VALUE</td>      <th>  R-squared:         </th> <td>   0.384</td> \n",
       "</tr>\n",
       "<tr>\n",
       "  <th>Model:</th>                   <td>OLS</td>       <th>  Adj. R-squared:    </th> <td>   0.380</td> \n",
       "</tr>\n",
       "<tr>\n",
       "  <th>Method:</th>             <td>Least Squares</td>  <th>  F-statistic:       </th> <td>   79.96</td> \n",
       "</tr>\n",
       "<tr>\n",
       "  <th>Date:</th>             <td>Mon, 20 Nov 2017</td> <th>  Prob (F-statistic):</th> <td>2.59e-152</td>\n",
       "</tr>\n",
       "<tr>\n",
       "  <th>Time:</th>                 <td>22:08:19</td>     <th>  Log-Likelihood:    </th> <td> -1352.7</td> \n",
       "</tr>\n",
       "<tr>\n",
       "  <th>No. Observations:</th>      <td>  1549</td>      <th>  AIC:               </th> <td>   2731.</td> \n",
       "</tr>\n",
       "<tr>\n",
       "  <th>Df Residuals:</th>          <td>  1536</td>      <th>  BIC:               </th> <td>   2801.</td> \n",
       "</tr>\n",
       "<tr>\n",
       "  <th>Df Model:</th>              <td>    12</td>      <th>                     </th>     <td> </td>    \n",
       "</tr>\n",
       "<tr>\n",
       "  <th>Covariance Type:</th>      <td>nonrobust</td>    <th>                     </th>     <td> </td>    \n",
       "</tr>\n",
       "</table>\n",
       "<table class=\"simpletable\">\n",
       "<tr>\n",
       "                             <td></td>                                <th>coef</th>     <th>std err</th>      <th>t</th>      <th>P>|t|</th>  <th>[0.025</th>    <th>0.975]</th>  \n",
       "</tr>\n",
       "<tr>\n",
       "  <th>Intercept</th>                                               <td>   -3.1120</td> <td>    0.592</td> <td>   -5.255</td> <td> 0.000</td> <td>   -4.274</td> <td>   -1.950</td>\n",
       "</tr>\n",
       "<tr>\n",
       "  <th>C(Reported_Water_Method)[T.Manual]</th>                      <td>    0.0807</td> <td>    0.103</td> <td>    0.786</td> <td> 0.432</td> <td>   -0.121</td> <td>    0.282</td>\n",
       "</tr>\n",
       "<tr>\n",
       "  <th>C(Reported_Facility_Type)[T.Hotel]</th>                      <td>    1.3478</td> <td>    0.831</td> <td>    1.621</td> <td> 0.105</td> <td>   -0.283</td> <td>    2.978</td>\n",
       "</tr>\n",
       "<tr>\n",
       "  <th>C(Reported_Facility_Type)[T.Medical Office]</th>             <td>    0.5770</td> <td>    0.830</td> <td>    0.695</td> <td> 0.487</td> <td>   -1.050</td> <td>    2.204</td>\n",
       "</tr>\n",
       "<tr>\n",
       "  <th>C(Reported_Facility_Type)[T.Multifamily Housing]</th>        <td>   -0.0926</td> <td>    0.592</td> <td>   -0.156</td> <td> 0.876</td> <td>   -1.254</td> <td>    1.069</td>\n",
       "</tr>\n",
       "<tr>\n",
       "  <th>C(Reported_Facility_Type)[T.Non-Refrigerated Warehouse]</th> <td>    0.6487</td> <td>    0.721</td> <td>    0.900</td> <td> 0.368</td> <td>   -0.766</td> <td>    2.063</td>\n",
       "</tr>\n",
       "<tr>\n",
       "  <th>C(Reported_Facility_Type)[T.Office]</th>                     <td>    0.3611</td> <td>    0.595</td> <td>    0.607</td> <td> 0.544</td> <td>   -0.806</td> <td>    1.529</td>\n",
       "</tr>\n",
       "<tr>\n",
       "  <th>C(Reported_Facility_Type)[T.Residence Hall/Dormitory]</th>   <td>   -0.0170</td> <td>    0.680</td> <td>   -0.025</td> <td> 0.980</td> <td>   -1.351</td> <td>    1.317</td>\n",
       "</tr>\n",
       "<tr>\n",
       "  <th>C(Reported_Facility_Type)[T.Retail Store]</th>               <td>    0.0700</td> <td>    0.829</td> <td>    0.084</td> <td> 0.933</td> <td>   -1.557</td> <td>    1.697</td>\n",
       "</tr>\n",
       "<tr>\n",
       "  <th>C(Reported_Facility_Type)[T.Senior Care Community]</th>      <td>    1.6998</td> <td>    0.830</td> <td>    2.047</td> <td> 0.041</td> <td>    0.071</td> <td>    3.328</td>\n",
       "</tr>\n",
       "<tr>\n",
       "  <th>Stories</th>                                                 <td>    8.0395</td> <td>    0.301</td> <td>   26.682</td> <td> 0.000</td> <td>    7.448</td> <td>    8.630</td>\n",
       "</tr>\n",
       "<tr>\n",
       "  <th>age</th>                                                     <td>   -0.6170</td> <td>    0.143</td> <td>   -4.308</td> <td> 0.000</td> <td>   -0.898</td> <td>   -0.336</td>\n",
       "</tr>\n",
       "<tr>\n",
       "  <th>Energy_efficiency</th>                                       <td>   -0.1981</td> <td>    0.061</td> <td>   -3.240</td> <td> 0.001</td> <td>   -0.318</td> <td>   -0.078</td>\n",
       "</tr>\n",
       "</table>\n",
       "<table class=\"simpletable\">\n",
       "<tr>\n",
       "  <th>Omnibus:</th>       <td>12.312</td> <th>  Durbin-Watson:     </th> <td>   1.959</td>\n",
       "</tr>\n",
       "<tr>\n",
       "  <th>Prob(Omnibus):</th> <td> 0.002</td> <th>  Jarque-Bera (JB):  </th> <td>  16.516</td>\n",
       "</tr>\n",
       "<tr>\n",
       "  <th>Skew:</th>          <td>-0.084</td> <th>  Prob(JB):          </th> <td>0.000259</td>\n",
       "</tr>\n",
       "<tr>\n",
       "  <th>Kurtosis:</th>      <td> 3.477</td> <th>  Cond. No.          </th> <td>    171.</td>\n",
       "</tr>\n",
       "</table>"
      ],
      "text/plain": [
       "<class 'statsmodels.iolib.summary.Summary'>\n",
       "\"\"\"\n",
       "                            OLS Regression Results                            \n",
       "==============================================================================\n",
       "Dep. Variable:                  VALUE   R-squared:                       0.384\n",
       "Model:                            OLS   Adj. R-squared:                  0.380\n",
       "Method:                 Least Squares   F-statistic:                     79.96\n",
       "Date:                Mon, 20 Nov 2017   Prob (F-statistic):          2.59e-152\n",
       "Time:                        22:08:19   Log-Likelihood:                -1352.7\n",
       "No. Observations:                1549   AIC:                             2731.\n",
       "Df Residuals:                    1536   BIC:                             2801.\n",
       "Df Model:                          12                                         \n",
       "Covariance Type:            nonrobust                                         \n",
       "===========================================================================================================================\n",
       "                                                              coef    std err          t      P>|t|      [0.025      0.975]\n",
       "---------------------------------------------------------------------------------------------------------------------------\n",
       "Intercept                                                  -3.1120      0.592     -5.255      0.000      -4.274      -1.950\n",
       "C(Reported_Water_Method)[T.Manual]                          0.0807      0.103      0.786      0.432      -0.121       0.282\n",
       "C(Reported_Facility_Type)[T.Hotel]                          1.3478      0.831      1.621      0.105      -0.283       2.978\n",
       "C(Reported_Facility_Type)[T.Medical Office]                 0.5770      0.830      0.695      0.487      -1.050       2.204\n",
       "C(Reported_Facility_Type)[T.Multifamily Housing]           -0.0926      0.592     -0.156      0.876      -1.254       1.069\n",
       "C(Reported_Facility_Type)[T.Non-Refrigerated Warehouse]     0.6487      0.721      0.900      0.368      -0.766       2.063\n",
       "C(Reported_Facility_Type)[T.Office]                         0.3611      0.595      0.607      0.544      -0.806       1.529\n",
       "C(Reported_Facility_Type)[T.Residence Hall/Dormitory]      -0.0170      0.680     -0.025      0.980      -1.351       1.317\n",
       "C(Reported_Facility_Type)[T.Retail Store]                   0.0700      0.829      0.084      0.933      -1.557       1.697\n",
       "C(Reported_Facility_Type)[T.Senior Care Community]          1.6998      0.830      2.047      0.041       0.071       3.328\n",
       "Stories                                                     8.0395      0.301     26.682      0.000       7.448       8.630\n",
       "age                                                        -0.6170      0.143     -4.308      0.000      -0.898      -0.336\n",
       "Energy_efficiency                                          -0.1981      0.061     -3.240      0.001      -0.318      -0.078\n",
       "==============================================================================\n",
       "Omnibus:                       12.312   Durbin-Watson:                   1.959\n",
       "Prob(Omnibus):                  0.002   Jarque-Bera (JB):               16.516\n",
       "Skew:                          -0.084   Prob(JB):                     0.000259\n",
       "Kurtosis:                       3.477   Cond. No.                         171.\n",
       "==============================================================================\n",
       "\n",
       "Warnings:\n",
       "[1] Standard Errors assume that the covariance matrix of the errors is correctly specified.\n",
       "\"\"\""
      ]
     },
     "execution_count": 895,
     "metadata": {},
     "output_type": "execute_result"
    }
   ],
   "source": [
    "semilog1 = smf.ols(formula='VALUE~C(Benchmarking_Submission)+C(Reported_Water_Method)+\\\n",
    "                       C(Reported_Facility_Type)+Stories+age+Energy_efficiency'\n",
    "             ,data=train).fit()\n",
    "semilog1.summary()"
   ]
  },
  {
   "cell_type": "code",
   "execution_count": 884,
   "metadata": {},
   "outputs": [],
   "source": [
    "pvalues = semilog1.pvalues"
   ]
  },
  {
   "cell_type": "code",
   "execution_count": 885,
   "metadata": {},
   "outputs": [
    {
     "data": {
      "text/plain": [
       "Intercept                                                  0.000367\n",
       "Energy_efficiency                                          0.029035\n",
       "C(Reported_Water_Method)[T.Manual]                         0.057119\n",
       "C(Reported_Facility_Type)[T.Multifamily Housing]           0.346200\n",
       "C(Reported_Facility_Type)[T.Non-Refrigerated Warehouse]    0.432367\n",
       "C(Reported_Facility_Type)[T.Senior Care Community]         0.446481\n",
       "C(Reported_Facility_Type)[T.Medical Office]                0.453108\n",
       "C(Reported_Facility_Type)[T.Hotel]                         0.665501\n",
       "C(Reported_Facility_Type)[T.Office]                        0.668861\n",
       "C(Reported_Facility_Type)[T.Residence Hall/Dormitory]      0.800121\n",
       "C(Reported_Facility_Type)[T.Retail Store]                  0.810781\n",
       "dtype: float64"
      ]
     },
     "execution_count": 885,
     "metadata": {},
     "output_type": "execute_result"
    }
   ],
   "source": [
    "pvalues.sort_values(ascending=True)"
   ]
  },
  {
   "cell_type": "code",
   "execution_count": 886,
   "metadata": {},
   "outputs": [
    {
     "data": {
      "text/plain": [
       "-19.492403034402301"
      ]
     },
     "execution_count": 886,
     "metadata": {},
     "output_type": "execute_result"
    }
   ],
   "source": [
    "AdjR2('Stories-1')[0]"
   ]
  },
  {
   "cell_type": "code",
   "execution_count": 887,
   "metadata": {},
   "outputs": [
    {
     "data": {
      "text/plain": [
       "-19.508398731969162"
      ]
     },
     "execution_count": 887,
     "metadata": {},
     "output_type": "execute_result"
    }
   ],
   "source": [
    "AdjR2('Stories-1+age')[0]"
   ]
  },
  {
   "cell_type": "code",
   "execution_count": 888,
   "metadata": {},
   "outputs": [
    {
     "data": {
      "text/plain": [
       "0.37375280072376516"
      ]
     },
     "execution_count": 888,
     "metadata": {},
     "output_type": "execute_result"
    }
   ],
   "source": [
    "AdjR2('Stories+age')[0]"
   ]
  },
  {
   "cell_type": "code",
   "execution_count": 889,
   "metadata": {
    "scrolled": false
   },
   "outputs": [
    {
     "data": {
      "text/plain": [
       "0.38123638527862769"
      ]
     },
     "execution_count": 889,
     "metadata": {},
     "output_type": "execute_result"
    }
   ],
   "source": [
    "AdjR2('Stories+age+Energy_efficiency')[0]"
   ]
  },
  {
   "cell_type": "code",
   "execution_count": 891,
   "metadata": {},
   "outputs": [
    {
     "data": {
      "text/plain": [
       "0.38214599618876299"
      ]
     },
     "execution_count": 891,
     "metadata": {},
     "output_type": "execute_result"
    }
   ],
   "source": [
    "AdjR2('Stories+age+Energy_efficiency+C(Reported_Water_Method)')[0]"
   ]
  },
  {
   "cell_type": "code",
   "execution_count": 892,
   "metadata": {},
   "outputs": [
    {
     "data": {
      "text/plain": [
       "0.39204334346689085"
      ]
     },
     "execution_count": 892,
     "metadata": {},
     "output_type": "execute_result"
    }
   ],
   "source": [
    "AdjR2('Stories+age+Energy_efficiency+C(Reported_Water_Method)+C(Reported_Facility_Type)')[0]"
   ]
  },
  {
   "cell_type": "code",
   "execution_count": 893,
   "metadata": {
    "scrolled": false
   },
   "outputs": [
    {
     "data": {
      "text/html": [
       "<table class=\"simpletable\">\n",
       "<caption>OLS Regression Results</caption>\n",
       "<tr>\n",
       "  <th>Dep. Variable:</th>          <td>VALUE</td>      <th>  R-squared:         </th> <td>   0.384</td> \n",
       "</tr>\n",
       "<tr>\n",
       "  <th>Model:</th>                   <td>OLS</td>       <th>  Adj. R-squared:    </th> <td>   0.380</td> \n",
       "</tr>\n",
       "<tr>\n",
       "  <th>Method:</th>             <td>Least Squares</td>  <th>  F-statistic:       </th> <td>   79.96</td> \n",
       "</tr>\n",
       "<tr>\n",
       "  <th>Date:</th>             <td>Mon, 20 Nov 2017</td> <th>  Prob (F-statistic):</th> <td>2.59e-152</td>\n",
       "</tr>\n",
       "<tr>\n",
       "  <th>Time:</th>                 <td>22:07:15</td>     <th>  Log-Likelihood:    </th> <td> -1352.7</td> \n",
       "</tr>\n",
       "<tr>\n",
       "  <th>No. Observations:</th>      <td>  1549</td>      <th>  AIC:               </th> <td>   2731.</td> \n",
       "</tr>\n",
       "<tr>\n",
       "  <th>Df Residuals:</th>          <td>  1536</td>      <th>  BIC:               </th> <td>   2801.</td> \n",
       "</tr>\n",
       "<tr>\n",
       "  <th>Df Model:</th>              <td>    12</td>      <th>                     </th>     <td> </td>    \n",
       "</tr>\n",
       "<tr>\n",
       "  <th>Covariance Type:</th>      <td>nonrobust</td>    <th>                     </th>     <td> </td>    \n",
       "</tr>\n",
       "</table>\n",
       "<table class=\"simpletable\">\n",
       "<tr>\n",
       "                             <td></td>                                <th>coef</th>     <th>std err</th>      <th>t</th>      <th>P>|t|</th>  <th>[0.025</th>    <th>0.975]</th>  \n",
       "</tr>\n",
       "<tr>\n",
       "  <th>Intercept</th>                                               <td>   -3.1120</td> <td>    0.592</td> <td>   -5.255</td> <td> 0.000</td> <td>   -4.274</td> <td>   -1.950</td>\n",
       "</tr>\n",
       "<tr>\n",
       "  <th>C(Reported_Water_Method)[T.Manual]</th>                      <td>    0.0807</td> <td>    0.103</td> <td>    0.786</td> <td> 0.432</td> <td>   -0.121</td> <td>    0.282</td>\n",
       "</tr>\n",
       "<tr>\n",
       "  <th>C(Reported_Facility_Type)[T.Hotel]</th>                      <td>    1.3478</td> <td>    0.831</td> <td>    1.621</td> <td> 0.105</td> <td>   -0.283</td> <td>    2.978</td>\n",
       "</tr>\n",
       "<tr>\n",
       "  <th>C(Reported_Facility_Type)[T.Medical Office]</th>             <td>    0.5770</td> <td>    0.830</td> <td>    0.695</td> <td> 0.487</td> <td>   -1.050</td> <td>    2.204</td>\n",
       "</tr>\n",
       "<tr>\n",
       "  <th>C(Reported_Facility_Type)[T.Multifamily Housing]</th>        <td>   -0.0926</td> <td>    0.592</td> <td>   -0.156</td> <td> 0.876</td> <td>   -1.254</td> <td>    1.069</td>\n",
       "</tr>\n",
       "<tr>\n",
       "  <th>C(Reported_Facility_Type)[T.Non-Refrigerated Warehouse]</th> <td>    0.6487</td> <td>    0.721</td> <td>    0.900</td> <td> 0.368</td> <td>   -0.766</td> <td>    2.063</td>\n",
       "</tr>\n",
       "<tr>\n",
       "  <th>C(Reported_Facility_Type)[T.Office]</th>                     <td>    0.3611</td> <td>    0.595</td> <td>    0.607</td> <td> 0.544</td> <td>   -0.806</td> <td>    1.529</td>\n",
       "</tr>\n",
       "<tr>\n",
       "  <th>C(Reported_Facility_Type)[T.Residence Hall/Dormitory]</th>   <td>   -0.0170</td> <td>    0.680</td> <td>   -0.025</td> <td> 0.980</td> <td>   -1.351</td> <td>    1.317</td>\n",
       "</tr>\n",
       "<tr>\n",
       "  <th>C(Reported_Facility_Type)[T.Retail Store]</th>               <td>    0.0700</td> <td>    0.829</td> <td>    0.084</td> <td> 0.933</td> <td>   -1.557</td> <td>    1.697</td>\n",
       "</tr>\n",
       "<tr>\n",
       "  <th>C(Reported_Facility_Type)[T.Senior Care Community]</th>      <td>    1.6998</td> <td>    0.830</td> <td>    2.047</td> <td> 0.041</td> <td>    0.071</td> <td>    3.328</td>\n",
       "</tr>\n",
       "<tr>\n",
       "  <th>Stories</th>                                                 <td>    8.0395</td> <td>    0.301</td> <td>   26.682</td> <td> 0.000</td> <td>    7.448</td> <td>    8.630</td>\n",
       "</tr>\n",
       "<tr>\n",
       "  <th>age</th>                                                     <td>   -0.6170</td> <td>    0.143</td> <td>   -4.308</td> <td> 0.000</td> <td>   -0.898</td> <td>   -0.336</td>\n",
       "</tr>\n",
       "<tr>\n",
       "  <th>Energy_efficiency</th>                                       <td>   -0.1981</td> <td>    0.061</td> <td>   -3.240</td> <td> 0.001</td> <td>   -0.318</td> <td>   -0.078</td>\n",
       "</tr>\n",
       "</table>\n",
       "<table class=\"simpletable\">\n",
       "<tr>\n",
       "  <th>Omnibus:</th>       <td>12.312</td> <th>  Durbin-Watson:     </th> <td>   1.959</td>\n",
       "</tr>\n",
       "<tr>\n",
       "  <th>Prob(Omnibus):</th> <td> 0.002</td> <th>  Jarque-Bera (JB):  </th> <td>  16.516</td>\n",
       "</tr>\n",
       "<tr>\n",
       "  <th>Skew:</th>          <td>-0.084</td> <th>  Prob(JB):          </th> <td>0.000259</td>\n",
       "</tr>\n",
       "<tr>\n",
       "  <th>Kurtosis:</th>      <td> 3.477</td> <th>  Cond. No.          </th> <td>    171.</td>\n",
       "</tr>\n",
       "</table>"
      ],
      "text/plain": [
       "<class 'statsmodels.iolib.summary.Summary'>\n",
       "\"\"\"\n",
       "                            OLS Regression Results                            \n",
       "==============================================================================\n",
       "Dep. Variable:                  VALUE   R-squared:                       0.384\n",
       "Model:                            OLS   Adj. R-squared:                  0.380\n",
       "Method:                 Least Squares   F-statistic:                     79.96\n",
       "Date:                Mon, 20 Nov 2017   Prob (F-statistic):          2.59e-152\n",
       "Time:                        22:07:15   Log-Likelihood:                -1352.7\n",
       "No. Observations:                1549   AIC:                             2731.\n",
       "Df Residuals:                    1536   BIC:                             2801.\n",
       "Df Model:                          12                                         \n",
       "Covariance Type:            nonrobust                                         \n",
       "===========================================================================================================================\n",
       "                                                              coef    std err          t      P>|t|      [0.025      0.975]\n",
       "---------------------------------------------------------------------------------------------------------------------------\n",
       "Intercept                                                  -3.1120      0.592     -5.255      0.000      -4.274      -1.950\n",
       "C(Reported_Water_Method)[T.Manual]                          0.0807      0.103      0.786      0.432      -0.121       0.282\n",
       "C(Reported_Facility_Type)[T.Hotel]                          1.3478      0.831      1.621      0.105      -0.283       2.978\n",
       "C(Reported_Facility_Type)[T.Medical Office]                 0.5770      0.830      0.695      0.487      -1.050       2.204\n",
       "C(Reported_Facility_Type)[T.Multifamily Housing]           -0.0926      0.592     -0.156      0.876      -1.254       1.069\n",
       "C(Reported_Facility_Type)[T.Non-Refrigerated Warehouse]     0.6487      0.721      0.900      0.368      -0.766       2.063\n",
       "C(Reported_Facility_Type)[T.Office]                         0.3611      0.595      0.607      0.544      -0.806       1.529\n",
       "C(Reported_Facility_Type)[T.Residence Hall/Dormitory]      -0.0170      0.680     -0.025      0.980      -1.351       1.317\n",
       "C(Reported_Facility_Type)[T.Retail Store]                   0.0700      0.829      0.084      0.933      -1.557       1.697\n",
       "C(Reported_Facility_Type)[T.Senior Care Community]          1.6998      0.830      2.047      0.041       0.071       3.328\n",
       "Stories                                                     8.0395      0.301     26.682      0.000       7.448       8.630\n",
       "age                                                        -0.6170      0.143     -4.308      0.000      -0.898      -0.336\n",
       "Energy_efficiency                                          -0.1981      0.061     -3.240      0.001      -0.318      -0.078\n",
       "==============================================================================\n",
       "Omnibus:                       12.312   Durbin-Watson:                   1.959\n",
       "Prob(Omnibus):                  0.002   Jarque-Bera (JB):               16.516\n",
       "Skew:                          -0.084   Prob(JB):                     0.000259\n",
       "Kurtosis:                       3.477   Cond. No.                         171.\n",
       "==============================================================================\n",
       "\n",
       "Warnings:\n",
       "[1] Standard Errors assume that the covariance matrix of the errors is correctly specified.\n",
       "\"\"\""
      ]
     },
     "execution_count": 893,
     "metadata": {},
     "output_type": "execute_result"
    }
   ],
   "source": [
    "lm = smf.ols(formula='VALUE~Stories+age+Energy_efficiency+C(Reported_Water_Method)+C(Reported_Facility_Type)'\n",
    "             ,data=train).fit()\n",
    "lm.summary()"
   ]
  }
 ],
 "metadata": {
  "kernelspec": {
   "display_name": "Python 2",
   "language": "python",
   "name": "python2"
  },
  "language_info": {
   "codemirror_mode": {
    "name": "ipython",
    "version": 2
   },
   "file_extension": ".py",
   "mimetype": "text/x-python",
   "name": "python",
   "nbconvert_exporter": "python",
   "pygments_lexer": "ipython2",
   "version": "2.7.14"
  }
 },
 "nbformat": 4,
 "nbformat_minor": 2
}
